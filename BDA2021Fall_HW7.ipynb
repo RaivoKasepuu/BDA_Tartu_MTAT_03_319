{
  "nbformat": 4,
  "nbformat_minor": 0,
  "metadata": {
    "kernelspec": {
      "display_name": "Python 3",
      "language": "python",
      "name": "python3"
    },
    "language_info": {
      "codemirror_mode": {
        "name": "ipython",
        "version": 3
      },
      "file_extension": ".py",
      "mimetype": "text/x-python",
      "name": "python",
      "nbconvert_exporter": "python",
      "pygments_lexer": "ipython3",
      "version": "3.7.3"
    },
    "colab": {
      "name": "BDA2021Fall_HW7.ipynb",
      "provenance": [],
      "collapsed_sections": [],
      "include_colab_link": true
    }
  },
  "cells": [
    {
      "cell_type": "markdown",
      "metadata": {
        "id": "view-in-github",
        "colab_type": "text"
      },
      "source": [
        "<a href=\"https://colab.research.google.com/github/RaivoKasepuu/BDA_Tartu_MTAT_03_319/blob/master/BDA2021Fall_HW7.ipynb\" target=\"_parent\"><img src=\"https://colab.research.google.com/assets/colab-badge.svg\" alt=\"Open In Colab\"/></a>"
      ]
    },
    {
      "cell_type": "markdown",
      "metadata": {
        "id": "vxiTHkg94n5g"
      },
      "source": [
        "\n",
        "<div class=\"alert alert-block alert-info\"><b></b>\n",
        "<h1><center> <font color='black'> Homework 07  </font></center></h1>\n",
        "<h2><center> <font color='black'> A/B Testing</font></center></h2>   \n",
        "<h2><center> <font color='black'> MTAT.03.319 - Business Data Analytics</font></center></h2>\n",
        "<h2><center> <font color='black'> University of Tartu - Fall 2021</font></center></h2>\n",
        "</div>\n"
      ]
    },
    {
      "cell_type": "markdown",
      "metadata": {
        "id": "I1j3SsTp8O0U"
      },
      "source": [
        "# Homework instructions\n",
        "- Please name your homeworks in the following format **BDAFall2021_HWX_Name_Surname.ipynb** then it will be easier to grade your homeworks and smaller possibility for a human mistake.\n",
        "- Please provide the names and student IDs of the team-members (Maximum 2 person) in the field \"Team mates\" below. If you are not working in a team please insert only your name and student ID. \n",
        "\n",
        "- The accepted submission formats are Colab links or .ipynb files. If you are submitting Colab links please make sure that the privacy settings for the file is public so we can access your code. \n",
        "\n",
        "- The submission will automatically close on <font color='red'>**15 December at 23:59**</font>, so please make sure to submit before the deadline. \n",
        "\n",
        "- ONLY one of the teammates should submit the homework. We will grade the homework and the marks and feedback is applied for both the team members. So please communicate with your team member about marks and feedback if you are submit the homework.\n",
        "\n",
        "- If a question is not clear, please ask us in Moodle ONLY. \n",
        "\n",
        "- For coding related questions, do submit your code as well as your explanation/answer.\n",
        "\n",
        "- After you have finished solving the Homework, please restart the Kernel and run all the cells to check if there is any persisting issues. \n",
        "\n",
        "- Plagiarism is <font color='red'>**PROHIBITED**</font>. Any form of plagiarism will be dealt according to the university policy (https://www.ut.ee/en/current-students/academic-fraud).\n",
        "\n",
        "- Please <font color='red'>do not change</font> the template of this notebook file. You can download the .ipynb file and work on that."
      ]
    },
    {
      "cell_type": "markdown",
      "metadata": {
        "id": "Py9AQ_zGPmA6"
      },
      "source": [
        "**<h2><font color='red'>Team mates:</font></h2>**\n",
        "\n",
        "\n",
        "<font color='red'>Name: </font>&emsp;   <font color='red'>Student ID: </font>\n",
        "\n",
        "\n",
        "<font color='red'>Name: </font>&emsp;   <font color='red'>Student ID: </font>"
      ]
    },
    {
      "cell_type": "markdown",
      "metadata": {
        "id": "7TADXv834n5l"
      },
      "source": [
        "#Question 1 (3 points)\n",
        "\n",
        "Use ab_clicks.csv data and find whether Learn, Help, and Services versions of the Montana University web page have a significantly different number of clicks compared to the Interact version.\n",
        "\n",
        "\n"
      ]
    },
    {
      "cell_type": "markdown",
      "metadata": {
        "id": "LVNR-r0tOYbX"
      },
      "source": [
        "## Question 1.1(0.2p)\n",
        "Remove Tag_name == area from the data. \n"
      ]
    },
    {
      "cell_type": "code",
      "metadata": {
        "id": "AD6xzRJXOXdo"
      },
      "source": [
        ""
      ],
      "execution_count": null,
      "outputs": []
    },
    {
      "cell_type": "markdown",
      "metadata": {
        "id": "HecrOB8ZOfFy"
      },
      "source": [
        "##Question 1.2 (2.8p)\n",
        "Apply two-sided t-test (scipy.stats.ttest_ind() function) to check whether the means of clicks on different versions of the web page are significantly different. Use a significance level of 0.05 when deciding on rejecting or accepting the null hypothesis. In the end, you need to do 3 tests of differences in clicks between such pairs of web page versions: (Learn, Interact), (Help, Interact), (Services, Interact). \n",
        "Interpret the results."
      ]
    },
    {
      "cell_type": "code",
      "metadata": {
        "id": "qPt-6IqwOg54"
      },
      "source": [
        ""
      ],
      "execution_count": null,
      "outputs": []
    },
    {
      "cell_type": "markdown",
      "metadata": {
        "id": "sx0hS6I-BXWj"
      },
      "source": [
        "# Question 2 (4 points)\n",
        "Check whether the number of clicks on Montana University follows the normal distribution.\n",
        "##Question 2.1 (2p)\n",
        "Get the number of clicks of the Help web page version and check whether they are normally distributed by building the distribution plot and QQ-plot. Explain why the data is/isn't following the normal distribution.\n"
      ]
    },
    {
      "cell_type": "code",
      "metadata": {
        "id": "a1S8OMTAPSgz"
      },
      "source": [
        ""
      ],
      "execution_count": null,
      "outputs": []
    },
    {
      "cell_type": "markdown",
      "metadata": {
        "id": "KUmo6t25PTIf"
      },
      "source": [
        "##Question 2.2 (2p)\n",
        "Get the number of clicks of the Services web page version and check whether they are normally distributed by building the distribution plot and QQ-plot. Explain why the data is/isn't following the normal distribution."
      ]
    },
    {
      "cell_type": "code",
      "metadata": {
        "id": "vV5Kl19FPUC5"
      },
      "source": [
        ""
      ],
      "execution_count": null,
      "outputs": []
    },
    {
      "cell_type": "markdown",
      "metadata": {
        "id": "FxKbGsAK4n50"
      },
      "source": [
        "# Question 3 (3 points)\n",
        "\n",
        "Read about Multiple comparison problem [An Overview of Methods to Address the Multiple Comparison Problem](https://towardsdatascience.com/an-overview-of-methods-to-address-the-multiple-comparison-problem-310427b3ba92). Summarize what the problem is, when we need to do something about it and how to solve it. \n",
        "\n",
        "    \n",
        "\n"
      ]
    },
    {
      "cell_type": "markdown",
      "metadata": {
        "id": "knnQObzsBHhI"
      },
      "source": [
        "# How complicate the homework was (from 0 to 10)?"
      ]
    },
    {
      "cell_type": "markdown",
      "metadata": {
        "id": "ke6UFbGjBI0x"
      },
      "source": [
        "# How many hours you spent for this homework?"
      ]
    }
  ]
}