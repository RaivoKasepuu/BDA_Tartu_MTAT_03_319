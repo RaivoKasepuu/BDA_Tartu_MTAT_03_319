{
  "nbformat": 4,
  "nbformat_minor": 0,
  "metadata": {
    "kernelspec": {
      "display_name": "Python 3",
      "language": "python",
      "name": "python3"
    },
    "language_info": {
      "codemirror_mode": {
        "name": "ipython",
        "version": 3
      },
      "file_extension": ".py",
      "mimetype": "text/x-python",
      "name": "python",
      "nbconvert_exporter": "python",
      "pygments_lexer": "ipython3",
      "version": "3.6.9"
    },
    "colab": {
      "name": "BDA2021Fall_HW1.ipynb",
      "provenance": [],
      "collapsed_sections": [],
      "include_colab_link": true
    }
  },
  "cells": [
    {
      "cell_type": "markdown",
      "metadata": {
        "id": "view-in-github",
        "colab_type": "text"
      },
      "source": [
        "<a href=\"https://colab.research.google.com/github/RaivoKasepuu/BDA_Tartu_MTAT_03_319/blob/master/BDA2021Fall_HW1.ipynb\" target=\"_parent\"><img src=\"https://colab.research.google.com/assets/colab-badge.svg\" alt=\"Open In Colab\"/></a>"
      ]
    },
    {
      "cell_type": "markdown",
      "metadata": {
        "id": "nUf4uLWjRYdc"
      },
      "source": [
        "\n",
        "<div class=\"alert alert-block alert-info\"><b></b>\n",
        "<h1><center> <font color='black'> Homework 01  </font></center></h1>\n",
        "<h2><center> <font color='black'> Data Exploration</font></center></h2>   \n",
        "<h2><center> <font color='black'> MTAT.03.319 - Business Data Analytics</font></center></h2>\n",
        "<h2><center> <font color='black'> University of Tartu - Fall 2021</font></center></h2>\n",
        "</div>"
      ]
    },
    {
      "cell_type": "markdown",
      "metadata": {
        "id": "7nvLzs_nRYdg"
      },
      "source": [
        "# Homework instructions\n",
        "\n",
        "- Please provide the names and student IDs of the team-members (Maximum 2 person) in the field \"Team mates\" below. If you are not working in a team please insert only your name and student ID. \n",
        "\n",
        "- The accepted submission formats are Colab links or .ipynb files. If you are submitting Colab links please make sure that the privacy settings for the file is public so we can access your code. \n",
        "\n",
        "- The submission will automatically close on <font color='red'>**22 September at 23:59**</font>, so please make sure to submit before the deadline. \n",
        "\n",
        "- ONLY one of the teammates should submit the homework. We will grade the homework and the marks and feedback is applied for both the team members. So please communicate with your team member about marks and feedback if you are submit the homework.\n",
        "\n",
        "- If a question is not clear, please ask us in Moodle ONLY. \n",
        "\n",
        "- After you have finished solving the Homework, please restart the Kernel and run all the cells to check if there is any persisting issues. \n",
        "\n",
        "- Plagiarism is <font color='red'>**PROHIBITED**</font>. Any form of plagiarism will be dealt according to the university policy (https://www.ut.ee/en/current-students/academic-fraud).\n",
        "\n",
        "- Please <font color='red'>do not change</font> the template of this notebook file. You can download the .ipynb file and work on that.\n"
      ]
    },
    {
      "cell_type": "markdown",
      "metadata": {
        "id": "omMJiKHQkcIq"
      },
      "source": [
        "**<h2><font color='red'>Team mates:</font></h2>**\n",
        "\n",
        "\n",
        "<font color='red'>Name: </font>&emsp;   <font color='red'>Student ID: </font>\n",
        "\n",
        "\n",
        "<font color='red'>Name: </font>&emsp;   <font color='red'>Student ID: </font>\n",
        "\n"
      ]
    },
    {
      "cell_type": "markdown",
      "metadata": {
        "id": "l-B0gUmVRYdi"
      },
      "source": [
        "## Exercise"
      ]
    },
    {
      "cell_type": "markdown",
      "metadata": {
        "id": "DCIXQjzARYdk"
      },
      "source": [
        "We will start by loading the dataset. You can either upload it manually to your google colab or load from the link as it is done below:"
      ]
    },
    {
      "cell_type": "code",
      "metadata": {
        "id": "7vAvZxp4RYdn"
      },
      "source": [
        "import pandas as pd\n",
        "\n",
        "df = pd.read_csv(\"https://courses.cs.ut.ee/MTAT.03.319/2017_fall/uploads/Main/intro_dataset\", sep=\",\")"
      ],
      "execution_count": null,
      "outputs": []
    },
    {
      "cell_type": "markdown",
      "metadata": {
        "id": "NdNBRPfeVuOf"
      },
      "source": [
        "## Dataset description"
      ]
    },
    {
      "cell_type": "markdown",
      "metadata": {
        "id": "oUqK2__FV0N9"
      },
      "source": [
        "The dataset contains the sales figures (*p1sales* and *p2sales*) of products (*p1* and *p2*) from various stores (*storeNum*) situated across different countries (*country*) over different weeks (*Week*) and years (*Year*). In addition, we also know if these sales numbers and the product prices (*p1price* and *p2price*) were during a promotional campaign (*p1prom* and *p2prom*: 0 means no promotional campaign and 1 means during a promotional campaign)."
      ]
    },
    {
      "cell_type": "code",
      "metadata": {
        "colab": {
          "base_uri": "https://localhost:8080/",
          "height": 414
        },
        "id": "4txTbhjzSRhL",
        "outputId": "d99f4c44-42aa-44f0-9be8-65b006e89280"
      },
      "source": [
        "df"
      ],
      "execution_count": null,
      "outputs": [
        {
          "output_type": "execute_result",
          "data": {
            "text/html": [
              "<div>\n",
              "<style scoped>\n",
              "    .dataframe tbody tr th:only-of-type {\n",
              "        vertical-align: middle;\n",
              "    }\n",
              "\n",
              "    .dataframe tbody tr th {\n",
              "        vertical-align: top;\n",
              "    }\n",
              "\n",
              "    .dataframe thead th {\n",
              "        text-align: right;\n",
              "    }\n",
              "</style>\n",
              "<table border=\"1\" class=\"dataframe\">\n",
              "  <thead>\n",
              "    <tr style=\"text-align: right;\">\n",
              "      <th></th>\n",
              "      <th>storeNum</th>\n",
              "      <th>Year</th>\n",
              "      <th>Week</th>\n",
              "      <th>p1sales</th>\n",
              "      <th>p2sales</th>\n",
              "      <th>p1price</th>\n",
              "      <th>p2price</th>\n",
              "      <th>p1prom</th>\n",
              "      <th>p2prom</th>\n",
              "      <th>country</th>\n",
              "    </tr>\n",
              "  </thead>\n",
              "  <tbody>\n",
              "    <tr>\n",
              "      <th>0</th>\n",
              "      <td>101</td>\n",
              "      <td>1</td>\n",
              "      <td>1</td>\n",
              "      <td>127</td>\n",
              "      <td>106</td>\n",
              "      <td>2.29</td>\n",
              "      <td>2.29</td>\n",
              "      <td>0</td>\n",
              "      <td>0</td>\n",
              "      <td>US</td>\n",
              "    </tr>\n",
              "    <tr>\n",
              "      <th>1</th>\n",
              "      <td>101</td>\n",
              "      <td>1</td>\n",
              "      <td>2</td>\n",
              "      <td>137</td>\n",
              "      <td>105</td>\n",
              "      <td>2.49</td>\n",
              "      <td>2.49</td>\n",
              "      <td>0</td>\n",
              "      <td>0</td>\n",
              "      <td>US</td>\n",
              "    </tr>\n",
              "    <tr>\n",
              "      <th>2</th>\n",
              "      <td>101</td>\n",
              "      <td>1</td>\n",
              "      <td>3</td>\n",
              "      <td>156</td>\n",
              "      <td>97</td>\n",
              "      <td>2.99</td>\n",
              "      <td>2.99</td>\n",
              "      <td>1</td>\n",
              "      <td>0</td>\n",
              "      <td>US</td>\n",
              "    </tr>\n",
              "    <tr>\n",
              "      <th>3</th>\n",
              "      <td>101</td>\n",
              "      <td>1</td>\n",
              "      <td>4</td>\n",
              "      <td>117</td>\n",
              "      <td>106</td>\n",
              "      <td>2.99</td>\n",
              "      <td>3.19</td>\n",
              "      <td>0</td>\n",
              "      <td>0</td>\n",
              "      <td>US</td>\n",
              "    </tr>\n",
              "    <tr>\n",
              "      <th>4</th>\n",
              "      <td>101</td>\n",
              "      <td>1</td>\n",
              "      <td>5</td>\n",
              "      <td>138</td>\n",
              "      <td>100</td>\n",
              "      <td>2.49</td>\n",
              "      <td>2.59</td>\n",
              "      <td>0</td>\n",
              "      <td>1</td>\n",
              "      <td>US</td>\n",
              "    </tr>\n",
              "    <tr>\n",
              "      <th>...</th>\n",
              "      <td>...</td>\n",
              "      <td>...</td>\n",
              "      <td>...</td>\n",
              "      <td>...</td>\n",
              "      <td>...</td>\n",
              "      <td>...</td>\n",
              "      <td>...</td>\n",
              "      <td>...</td>\n",
              "      <td>...</td>\n",
              "      <td>...</td>\n",
              "    </tr>\n",
              "    <tr>\n",
              "      <th>2075</th>\n",
              "      <td>120</td>\n",
              "      <td>2</td>\n",
              "      <td>48</td>\n",
              "      <td>150</td>\n",
              "      <td>88</td>\n",
              "      <td>2.49</td>\n",
              "      <td>2.99</td>\n",
              "      <td>0</td>\n",
              "      <td>0</td>\n",
              "      <td>CN</td>\n",
              "    </tr>\n",
              "    <tr>\n",
              "      <th>2076</th>\n",
              "      <td>120</td>\n",
              "      <td>2</td>\n",
              "      <td>49</td>\n",
              "      <td>121</td>\n",
              "      <td>97</td>\n",
              "      <td>2.49</td>\n",
              "      <td>2.59</td>\n",
              "      <td>0</td>\n",
              "      <td>0</td>\n",
              "      <td>CN</td>\n",
              "    </tr>\n",
              "    <tr>\n",
              "      <th>2077</th>\n",
              "      <td>120</td>\n",
              "      <td>2</td>\n",
              "      <td>50</td>\n",
              "      <td>91</td>\n",
              "      <td>124</td>\n",
              "      <td>2.99</td>\n",
              "      <td>2.29</td>\n",
              "      <td>0</td>\n",
              "      <td>0</td>\n",
              "      <td>CN</td>\n",
              "    </tr>\n",
              "    <tr>\n",
              "      <th>2078</th>\n",
              "      <td>120</td>\n",
              "      <td>2</td>\n",
              "      <td>51</td>\n",
              "      <td>83</td>\n",
              "      <td>115</td>\n",
              "      <td>2.99</td>\n",
              "      <td>2.29</td>\n",
              "      <td>0</td>\n",
              "      <td>0</td>\n",
              "      <td>CN</td>\n",
              "    </tr>\n",
              "    <tr>\n",
              "      <th>2079</th>\n",
              "      <td>120</td>\n",
              "      <td>2</td>\n",
              "      <td>52</td>\n",
              "      <td>136</td>\n",
              "      <td>99</td>\n",
              "      <td>2.49</td>\n",
              "      <td>2.49</td>\n",
              "      <td>0</td>\n",
              "      <td>0</td>\n",
              "      <td>CN</td>\n",
              "    </tr>\n",
              "  </tbody>\n",
              "</table>\n",
              "<p>2080 rows × 10 columns</p>\n",
              "</div>"
            ],
            "text/plain": [
              "      storeNum  Year  Week  p1sales  ...  p2price  p1prom  p2prom  country\n",
              "0          101     1     1      127  ...     2.29       0       0       US\n",
              "1          101     1     2      137  ...     2.49       0       0       US\n",
              "2          101     1     3      156  ...     2.99       1       0       US\n",
              "3          101     1     4      117  ...     3.19       0       0       US\n",
              "4          101     1     5      138  ...     2.59       0       1       US\n",
              "...        ...   ...   ...      ...  ...      ...     ...     ...      ...\n",
              "2075       120     2    48      150  ...     2.99       0       0       CN\n",
              "2076       120     2    49      121  ...     2.59       0       0       CN\n",
              "2077       120     2    50       91  ...     2.29       0       0       CN\n",
              "2078       120     2    51       83  ...     2.29       0       0       CN\n",
              "2079       120     2    52      136  ...     2.49       0       0       CN\n",
              "\n",
              "[2080 rows x 10 columns]"
            ]
          },
          "metadata": {},
          "execution_count": 4
        }
      ]
    },
    {
      "cell_type": "markdown",
      "metadata": {
        "id": "cUiaavDwRYd2"
      },
      "source": [
        "## Question 1 (0.5p)"
      ]
    },
    {
      "cell_type": "markdown",
      "metadata": {
        "id": "BuY52HG7RYd4"
      },
      "source": [
        "What are the column names of the dataset?"
      ]
    },
    {
      "cell_type": "markdown",
      "metadata": {
        "id": "6dZ1_JeVRYd_"
      },
      "source": [
        "## Question 2 (0.5p)"
      ]
    },
    {
      "cell_type": "markdown",
      "metadata": {
        "id": "z02q-4xWRYeB"
      },
      "source": [
        "How many observations (i.e. rows) are in this data frame?"
      ]
    },
    {
      "cell_type": "markdown",
      "metadata": {
        "id": "ggY2Z2xDRYeH"
      },
      "source": [
        "## Question 3 (1p)"
      ]
    },
    {
      "cell_type": "markdown",
      "metadata": {
        "id": "yk-d3TNdRYeI"
      },
      "source": [
        "Print the first 3 lines from the dataset. Which countries are printed?"
      ]
    },
    {
      "cell_type": "markdown",
      "metadata": {
        "id": "U6JoKwOcRYeP"
      },
      "source": [
        "## Question 4 (1p)"
      ]
    },
    {
      "cell_type": "markdown",
      "metadata": {
        "id": "pdNfkBUjRYeQ"
      },
      "source": [
        "Extract the last 3 rows of the data frame. What is the p1price of all these results?"
      ]
    },
    {
      "cell_type": "markdown",
      "metadata": {
        "id": "0N0yq73eRYeW"
      },
      "source": [
        "## Question 5 (1p)"
      ]
    },
    {
      "cell_type": "markdown",
      "metadata": {
        "id": "gQrmeVn9qzKt"
      },
      "source": [
        "Which country is in the row 20?"
      ]
    },
    {
      "cell_type": "markdown",
      "metadata": {
        "id": "KMtHtCfFRYee"
      },
      "source": [
        "## Question 6 (1p)"
      ]
    },
    {
      "cell_type": "markdown",
      "metadata": {
        "id": "dt4jn3nYRYeg"
      },
      "source": [
        "What is the mean of the p1price column?"
      ]
    },
    {
      "cell_type": "markdown",
      "metadata": {
        "id": "EJWZbImHRYek"
      },
      "source": [
        "## Question 7 (1p)"
      ]
    },
    {
      "cell_type": "markdown",
      "metadata": {
        "id": "YhlVmr3KRYel"
      },
      "source": [
        "Extract the subset of rows of the data frame where storeNum is 101 and p1sales values are below 110. What is the mean of p1price in this subset?"
      ]
    },
    {
      "cell_type": "markdown",
      "metadata": {
        "id": "6zmK_PLqRYeq"
      },
      "source": [
        "## Question 8 (1p)"
      ]
    },
    {
      "cell_type": "markdown",
      "metadata": {
        "id": "i4lhOrc5RYer"
      },
      "source": [
        "What is the minimum p2price for the week number 12 of the first year?"
      ]
    },
    {
      "cell_type": "markdown",
      "metadata": {
        "id": "pGyc4yhDRYex"
      },
      "source": [
        "## Question 9 (1p)"
      ]
    },
    {
      "cell_type": "markdown",
      "metadata": {
        "id": "1Hww-i1mRYe1"
      },
      "source": [
        "How many unique stores are in the dataset (represented by storeNum)"
      ]
    },
    {
      "cell_type": "markdown",
      "metadata": {
        "id": "Zm4a5i2RRYe4"
      },
      "source": [
        "## Question 10 (2p)"
      ]
    },
    {
      "cell_type": "markdown",
      "metadata": {
        "id": "YiFxPiC9RYe6"
      },
      "source": [
        "What store has the largest profit value. Use the p1sales and p1price columns to calculate the profit."
      ]
    }
  ]
}