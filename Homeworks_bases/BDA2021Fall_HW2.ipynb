{
  "nbformat": 4,
  "nbformat_minor": 0,
  "metadata": {
    "kernelspec": {
      "display_name": "Python 3",
      "language": "python",
      "name": "python3"
    },
    "language_info": {
      "codemirror_mode": {
        "name": "ipython",
        "version": 3
      },
      "file_extension": ".py",
      "mimetype": "text/x-python",
      "name": "python",
      "nbconvert_exporter": "python",
      "pygments_lexer": "ipython3",
      "version": "3.6.9"
    },
    "colab": {
      "name": "BDA2021Fall_HW2.ipynb",
      "provenance": [],
      "collapsed_sections": [],
      "include_colab_link": true
    }
  },
  "cells": [
    {
      "cell_type": "markdown",
      "metadata": {
        "id": "view-in-github",
        "colab_type": "text"
      },
      "source": [
        "<a href=\"https://colab.research.google.com/github/RaivoKasepuu/BDA_Tartu_MTAT_03_319/blob/master/BDA2021Fall_HW2.ipynb\" target=\"_parent\"><img src=\"https://colab.research.google.com/assets/colab-badge.svg\" alt=\"Open In Colab\"/></a>"
      ]
    },
    {
      "cell_type": "markdown",
      "metadata": {
        "id": "gd1VgKB3rbXo"
      },
      "source": [
        "<div class=\"alert alert-block alert-info\"><b></b>\n",
        "<h1><center> <font color='black'> Homework 02  </font></center></h1>\n",
        "<h2><center> <font color='black'> Descriptive analysis and visualization</font></center></h2>   \n",
        "<h2><center> <font color='black'> MTAT.03.319 - Business Data Analytics</font></center></h2>\n",
        "<h2><center> <font color='black'> University of Tartu - Fall 2021</font></center></h2>\n",
        "</div>"
      ]
    },
    {
      "cell_type": "markdown",
      "metadata": {
        "id": "PAnjYOFQnksf"
      },
      "source": [
        "# Homework instructions\n",
        "\n",
        "- Please provide the names and student IDs of the team-members (Maximum 2 person) in the field \"Team mates\" below. If you are not working in a team please insert only your name and student ID. \n",
        "\n",
        "- The accepted submission formats are Colab links or .ipynb files. If you are submitting Colab links please make sure that the privacy settings for the file is public so we can access your code. \n",
        "\n",
        "- The submission will automatically close on <font color='red'>**6 October at 23:59**</font>, so please make sure to submit before the deadline. \n",
        "\n",
        "- ONLY one of the teammates should submit the homework. We will grade the homework and the marks and feedback is applied for both the team members. So please communicate with your team member about marks and feedback if you are submit the homework.\n",
        "\n",
        "- If a question is not clear, please ask us in Moodle ONLY. \n",
        "\n",
        "- For coding related questions, do submit your code as well as your explanation/answer. (Check the homework Description video to know more about it)\n",
        "\n",
        "- After you have finished solving the Homework, please restart the Kernel and run all the cells to check if there is any persisting issues. \n",
        "\n",
        "- Plagiarism is <font color='red'>**PROHIBITED**</font>. Any form of plagiarism will be dealt according to the university policy (https://www.ut.ee/en/current-students/academic-fraud).\n",
        "\n",
        "- Please <font color='red'>do not change</font> the template of this notebook file. You can download the .ipynb file and work on that.\n"
      ]
    },
    {
      "cell_type": "markdown",
      "metadata": {
        "id": "LYkuEV8mryiR"
      },
      "source": [
        "**<h2><font color='red'>Team mates:</font></h2>**\n",
        "\n",
        "\n",
        "<font color='red'>Name: </font>&emsp;   <font color='red'>Student ID: </font>\n",
        "\n",
        "\n",
        "<font color='red'>Name: </font>&emsp;   <font color='red'>Student ID: </font>\n"
      ]
    },
    {
      "cell_type": "markdown",
      "metadata": {
        "id": "LOdqrTrKnksh"
      },
      "source": [
        "## Setup"
      ]
    },
    {
      "cell_type": "markdown",
      "metadata": {
        "id": "uwSuDsk1nksj"
      },
      "source": [
        "Let's get the Android apps' data! Each app has a name in the **App** column and the rest of the relevant data in the remaining columns."
      ]
    },
    {
      "cell_type": "code",
      "metadata": {
        "id": "4NFGr8c2nksl"
      },
      "source": [
        "import pandas as pd\n",
        "\n",
        "df = pd.read_csv(\"app_data.csv\")"
      ],
      "execution_count": null,
      "outputs": []
    },
    {
      "cell_type": "code",
      "metadata": {
        "id": "frLa2-oDdMkC",
        "colab": {
          "base_uri": "https://localhost:8080/",
          "height": 302
        },
        "outputId": "7da30a62-a534-41da-ebf2-0b297c55b5fb"
      },
      "source": [
        "df.head()"
      ],
      "execution_count": null,
      "outputs": [
        {
          "output_type": "execute_result",
          "data": {
            "text/html": [
              "<div>\n",
              "<style scoped>\n",
              "    .dataframe tbody tr th:only-of-type {\n",
              "        vertical-align: middle;\n",
              "    }\n",
              "\n",
              "    .dataframe tbody tr th {\n",
              "        vertical-align: top;\n",
              "    }\n",
              "\n",
              "    .dataframe thead th {\n",
              "        text-align: right;\n",
              "    }\n",
              "</style>\n",
              "<table border=\"1\" class=\"dataframe\">\n",
              "  <thead>\n",
              "    <tr style=\"text-align: right;\">\n",
              "      <th></th>\n",
              "      <th>App</th>\n",
              "      <th>Category</th>\n",
              "      <th>Rating</th>\n",
              "      <th>Reviews</th>\n",
              "      <th>Size</th>\n",
              "      <th>Installs</th>\n",
              "      <th>Type</th>\n",
              "      <th>Price</th>\n",
              "      <th>Content Rating</th>\n",
              "      <th>Genres</th>\n",
              "      <th>Last Updated</th>\n",
              "      <th>Current Ver</th>\n",
              "      <th>Android Ver</th>\n",
              "    </tr>\n",
              "  </thead>\n",
              "  <tbody>\n",
              "    <tr>\n",
              "      <th>0</th>\n",
              "      <td>Photo Editor &amp; Candy Camera &amp; Grid &amp; ScrapBook</td>\n",
              "      <td>ART_AND_DESIGN</td>\n",
              "      <td>4.1</td>\n",
              "      <td>159</td>\n",
              "      <td>19M</td>\n",
              "      <td>10,000+</td>\n",
              "      <td>Free</td>\n",
              "      <td>0</td>\n",
              "      <td>Everyone</td>\n",
              "      <td>Art &amp; Design</td>\n",
              "      <td>7-Jan-18</td>\n",
              "      <td>1.0.0</td>\n",
              "      <td>4.0.3 and up</td>\n",
              "    </tr>\n",
              "    <tr>\n",
              "      <th>1</th>\n",
              "      <td>Coloring book moana</td>\n",
              "      <td>ART_AND_DESIGN</td>\n",
              "      <td>3.9</td>\n",
              "      <td>967</td>\n",
              "      <td>14M</td>\n",
              "      <td>500,000+</td>\n",
              "      <td>Free</td>\n",
              "      <td>0</td>\n",
              "      <td>Everyone</td>\n",
              "      <td>Art &amp; Design;Pretend Play</td>\n",
              "      <td>15-Jan-18</td>\n",
              "      <td>2.0.0</td>\n",
              "      <td>4.0.3 and up</td>\n",
              "    </tr>\n",
              "    <tr>\n",
              "      <th>2</th>\n",
              "      <td>U Launcher Lite – FREE Live Cool Themes, Hide ...</td>\n",
              "      <td>ART_AND_DESIGN</td>\n",
              "      <td>4.7</td>\n",
              "      <td>87510</td>\n",
              "      <td>8.7M</td>\n",
              "      <td>5,000,000+</td>\n",
              "      <td>Free</td>\n",
              "      <td>0</td>\n",
              "      <td>Everyone</td>\n",
              "      <td>Art &amp; Design</td>\n",
              "      <td>1-Aug-18</td>\n",
              "      <td>1.2.4</td>\n",
              "      <td>4.0.3 and up</td>\n",
              "    </tr>\n",
              "    <tr>\n",
              "      <th>3</th>\n",
              "      <td>Sketch - Draw &amp; Paint</td>\n",
              "      <td>ART_AND_DESIGN</td>\n",
              "      <td>4.5</td>\n",
              "      <td>215644</td>\n",
              "      <td>25M</td>\n",
              "      <td>50,000,000+</td>\n",
              "      <td>Free</td>\n",
              "      <td>0</td>\n",
              "      <td>Teen</td>\n",
              "      <td>Art &amp; Design</td>\n",
              "      <td>8-Jun-18</td>\n",
              "      <td>Varies with device</td>\n",
              "      <td>4.2 and up</td>\n",
              "    </tr>\n",
              "    <tr>\n",
              "      <th>4</th>\n",
              "      <td>Pixel Draw - Number Art Coloring Book</td>\n",
              "      <td>ART_AND_DESIGN</td>\n",
              "      <td>4.3</td>\n",
              "      <td>967</td>\n",
              "      <td>2.8M</td>\n",
              "      <td>100,000+</td>\n",
              "      <td>Free</td>\n",
              "      <td>0</td>\n",
              "      <td>Everyone</td>\n",
              "      <td>Art &amp; Design;Creativity</td>\n",
              "      <td>20-Jun-18</td>\n",
              "      <td>1.1</td>\n",
              "      <td>4.4 and up</td>\n",
              "    </tr>\n",
              "  </tbody>\n",
              "</table>\n",
              "</div>"
            ],
            "text/plain": [
              "                                                 App  ...   Android Ver\n",
              "0     Photo Editor & Candy Camera & Grid & ScrapBook  ...  4.0.3 and up\n",
              "1                                Coloring book moana  ...  4.0.3 and up\n",
              "2  U Launcher Lite – FREE Live Cool Themes, Hide ...  ...  4.0.3 and up\n",
              "3                              Sketch - Draw & Paint  ...    4.2 and up\n",
              "4              Pixel Draw - Number Art Coloring Book  ...    4.4 and up\n",
              "\n",
              "[5 rows x 13 columns]"
            ]
          },
          "metadata": {},
          "execution_count": 2
        }
      ]
    },
    {
      "cell_type": "markdown",
      "metadata": {
        "id": "jZ0y3SeTnks1"
      },
      "source": [
        "## Question 1 (2p)"
      ]
    },
    {
      "cell_type": "markdown",
      "metadata": {
        "id": "HdhTymxAnks3"
      },
      "source": [
        "### For each feature in dataset describe it’s meaning, data type (binary, ordinal, etc.) and possible values (ranges for numeric type). The task may seem boring but doing it you will see what issues can be found in real-life data."
      ]
    },
    {
      "cell_type": "markdown",
      "metadata": {
        "id": "JbnnGNlwnks4"
      },
      "source": [
        "## Question 2 (2p)"
      ]
    },
    {
      "cell_type": "markdown",
      "metadata": {
        "id": "l-XrAXkjnks7"
      },
      "source": [
        "### Clean the dataset, according to the rules below. Write down, which columns and rows were affected and how many rows are left after the cleaning? Please, provide reasoning for your decision. The rest of the homework depends on these results, so be careful with this task."
      ]
    },
    {
      "cell_type": "markdown",
      "metadata": {
        "id": "U2NMy-Grnks8"
      },
      "source": [
        "Rules:\n",
        "\n",
        "    1. App feature must contain unique values.\n",
        "    2. Category feature must contain 15 different values.\n",
        "    3. Rating must be positive and not exceed 5.\n",
        "    4. Amount of reviews must be positive(non-negative)\n",
        "    5. Size must be positive.\n",
        "    6. Amount of installs must be positive.\n",
        "    7. Type of payment should be either “Free” or “Paid”.\n",
        "    8. Price has to be of type float64.\n",
        "    9. NA values should be replced where it's possible.\n",
        "     For example, for numerical values, you can substitude NaN with 0 or impute with mean value."
      ]
    },
    {
      "cell_type": "markdown",
      "metadata": {
        "id": "Xcv5LP5bnks_"
      },
      "source": [
        "_Hint 1: feel free to convert columns to numerical (pd.to_numerical(series)) when it is logical_\n",
        "\n",
        "_Hint 2: don't hesitate to remove/replace string values in order to convert (series.replace({..}, inplace=True, regex=True))_\n",
        "\n",
        "_Hint 3: there is no single correct way to clean the dataset_\n",
        "\n",
        "\n",
        "_Hint 4: for the numerical columns, you need first to remove non-digit strings (like, dollar signs, etc)_\n",
        "\n",
        "\n",
        "_Hint 5: There is a pandas construction pd.Column.apply(lambda x: f(x)) which applies your custom function row by row for all elements in column \"Column\"._\n"
      ]
    },
    {
      "cell_type": "markdown",
      "metadata": {
        "id": "FsZT4MC-uNCm"
      },
      "source": [
        "### For later questions please use the \"cleaned\" dataset obtained after question #2."
      ]
    },
    {
      "cell_type": "markdown",
      "metadata": {
        "id": "YS8BY5OinktA"
      },
      "source": [
        "## Question 3 (1.5p)"
      ]
    },
    {
      "cell_type": "markdown",
      "metadata": {
        "id": "hyS0X2HjnktB"
      },
      "source": [
        "### Draw a plot of the price to see what type of distribution it has? Think whether it makes sense to include all the apps for price plot building. What is the mean, median, max & min values, standard deviation of the price variable?"
      ]
    },
    {
      "cell_type": "markdown",
      "metadata": {
        "id": "eyCsMlXrnktC"
      },
      "source": [
        "## Question 4 (1p)"
      ]
    },
    {
      "cell_type": "markdown",
      "metadata": {
        "id": "vYaEc6HfnktE"
      },
      "source": [
        "### Find correlation between the rating and the number of reviews of the applications. \n",
        "### Draw the plot which best suits for showing correlation. What type of correlation does it have (justify your answer)? \n",
        "###Please explain whether the correlation score correctly represents the relation between rating and the number of reviews."
      ]
    },
    {
      "cell_type": "markdown",
      "metadata": {
        "id": "RLhk__irnktF"
      },
      "source": [
        "## Question 5 (1p)"
      ]
    },
    {
      "cell_type": "markdown",
      "metadata": {
        "id": "ilIx2XZonktH"
      },
      "source": [
        "### Calculate the average rating for each category. Select the top 5 categories and build a plot that can be used to compare average ratings (justify your choice of a plot type). Interpret the seen results."
      ]
    },
    {
      "cell_type": "markdown",
      "metadata": {
        "id": "SYd-FB5dnktI"
      },
      "source": [
        "## Question 6 (1.5p)"
      ]
    },
    {
      "cell_type": "markdown",
      "metadata": {
        "id": "sQg4ET0anktL"
      },
      "source": [
        "### Choose 4 categories and for each category build a proper plot that will show how prices vary based on app's rating. Justify your choice of the plot type"
      ]
    },
    {
      "cell_type": "markdown",
      "metadata": {
        "id": "YCASPaHcnktN"
      },
      "source": [
        "## Question 7 (1p)"
      ]
    },
    {
      "cell_type": "markdown",
      "metadata": {
        "id": "D5-qCU-KnktO"
      },
      "source": [
        "###  1. (0.5p) Create a heatmap to represent relations between the genre and the category. Find the combination (pair of genre and category) with the lowest frequency and with the highest frequency. Was the combination with the biggest frequency clearly seen on the heatmap? \n",
        "### 2. (0.5p) Please write two interesting facts you found from the heatmap?\n",
        "    "
      ]
    },
    {
      "cell_type": "code",
      "metadata": {
        "id": "64ZXVjmC-BXF"
      },
      "source": [
        ""
      ],
      "execution_count": null,
      "outputs": []
    }
  ]
}