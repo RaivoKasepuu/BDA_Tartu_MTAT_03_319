{
  "nbformat": 4,
  "nbformat_minor": 0,
  "metadata": {
    "colab": {
      "name": "BDA-lab03.ipynb",
      "provenance": [],
      "collapsed_sections": [],
      "include_colab_link": true
    },
    "kernelspec": {
      "name": "python3",
      "display_name": "Python 3"
    }
  },
  "cells": [
    {
      "cell_type": "markdown",
      "metadata": {
        "id": "view-in-github",
        "colab_type": "text"
      },
      "source": [
        "<a href=\"https://colab.research.google.com/github/RaivoKasepuu/BDA_Tartu_MTAT_03_319/blob/master/BDA_lab03.ipynb\" target=\"_parent\"><img src=\"https://colab.research.google.com/assets/colab-badge.svg\" alt=\"Open In Colab\"/></a>"
      ]
    },
    {
      "cell_type": "markdown",
      "metadata": {
        "id": "CwyR3Imdjpas"
      },
      "source": [
        "<div class=\"alert alert-block alert-info\"><b></b>\n",
        "<h1><center> <font color='black'>  Business Data Analytics - Practice Session_03  </font></center></h1>\n",
        "<h2><center> <font color='black'> Customer Segmentation</font></center></h3>\n",
        "<h2><center> <font color='black'> University of Tartu</font></center></h3>\n",
        "</div>"
      ]
    },
    {
      "cell_type": "markdown",
      "metadata": {
        "id": "JUZriZyyyTny"
      },
      "source": [
        "## What is Customer Segmentation (Clustering)?\n",
        "\n",
        "* **Customer segmentation** is a method of dividing customers into groups or clusters on the basis of common characteristics `(what characteristics?)`. \n",
        "    1. `Customer's demographic characteristics` such as occupation, gender, age, location, and marital status.\n",
        "    2.  `Psychographic characteristics` such as social class, lifestyle and personality characteristics and behavioral characteristics such as spending, consumption habits, product/service usage, and previously purchased products.\n",
        "    3. Using various `company's characteristics` such as the size of the company, type of industry, and location.\n",
        "\n",
        "## Today's practice session:\n",
        "\n",
        "* Today practice session is about customer segmentation, which has become an essential part of marketing. During the lecture we discussed different ways of data segmentation. During the practice we will deal with the:\n",
        "    1. **RFM model**     \n",
        "    2. `Automatic segmentation` discovery via `kmeans` and `hierarchical` clustering."
      ]
    },
    {
      "cell_type": "markdown",
      "metadata": {
        "id": "2h0Su9omuECL"
      },
      "source": [
        "## What are the steps?\n",
        "<img src=\"https://www.linkpicture.com/q/flow_chart_full_1.png\">\n",
        "\n"
      ]
    },
    {
      "cell_type": "markdown",
      "metadata": {
        "id": "2F8vhZfBzY-w"
      },
      "source": [
        "### Lets install the packages\n",
        "<img src = \"https://www.linkpicture.com/q/1_230.png\">"
      ]
    },
    {
      "cell_type": "code",
      "metadata": {
        "id": "RFC3ERbri2wa"
      },
      "source": [
        "#import modules\n",
        "import numpy as np # for arrays\n",
        "import pandas as pd # for dataframes\n",
        "import matplotlib.pyplot as plt # for plotting graphs\n",
        "import seaborn as sns # for plotting graphs\n",
        "import datetime as dt # for date data type\n",
        "\n",
        "plt.style.use(\"ggplot\")"
      ],
      "execution_count": null,
      "outputs": []
    },
    {
      "cell_type": "markdown",
      "metadata": {
        "id": "-jeM7pqI3OKr"
      },
      "source": [
        "## RFM\n",
        "\n",
        "1. RFM stands for `Recency (no of inactive customers)` - `Frequency` - `Monetary (revenue)` Value. Theoretically we will have **segments - clusters** like below:\n",
        "\n",
        "    * **Low Value:** Customers who are less active than others `(low recency)`, not very frequent buyer/visitor and generates very low `(low frequency)` - zero - maybe negative revenue `(low revenue)`.\n",
        "    * **Mid Value:** In the middle of everything. Often using our platform (but not as much as our High Values), fairly frequent and generates moderate revenue.\n",
        "    * **High Value:** `The group we don’t want to lose`. High Revenue, Frequency and low Inactivity."
      ]
    },
    {
      "cell_type": "markdown",
      "metadata": {
        "id": "9diroyeZvlSk"
      },
      "source": [
        "### Lets get the data and perform Descriptive analysis to understand it.\n",
        "<img src = \"https://www.linkpicture.com/q/2_278.png\">"
      ]
    },
    {
      "cell_type": "code",
      "metadata": {
        "id": "_v11iWfJ3kKp",
        "colab": {
          "base_uri": "https://localhost:8080/",
          "height": 204
        },
        "outputId": "2bf69f4b-a921-4130-b5e2-d722e50f0aa2"
      },
      "source": [
        "df = pd.read_csv(\"Clients-and-Order.csv\")\n",
        "df.head()"
      ],
      "execution_count": null,
      "outputs": [
        {
          "output_type": "execute_result",
          "data": {
            "text/html": [
              "<div>\n",
              "<style scoped>\n",
              "    .dataframe tbody tr th:only-of-type {\n",
              "        vertical-align: middle;\n",
              "    }\n",
              "\n",
              "    .dataframe tbody tr th {\n",
              "        vertical-align: top;\n",
              "    }\n",
              "\n",
              "    .dataframe thead th {\n",
              "        text-align: right;\n",
              "    }\n",
              "</style>\n",
              "<table border=\"1\" class=\"dataframe\">\n",
              "  <thead>\n",
              "    <tr style=\"text-align: right;\">\n",
              "      <th></th>\n",
              "      <th>order_id</th>\n",
              "      <th>product</th>\n",
              "      <th>client_id</th>\n",
              "      <th>order_date</th>\n",
              "      <th>money_spent</th>\n",
              "    </tr>\n",
              "  </thead>\n",
              "  <tbody>\n",
              "    <tr>\n",
              "      <th>0</th>\n",
              "      <td>1</td>\n",
              "      <td>a</td>\n",
              "      <td>473</td>\n",
              "      <td>4/2/2017</td>\n",
              "      <td>14.80</td>\n",
              "    </tr>\n",
              "    <tr>\n",
              "      <th>1</th>\n",
              "      <td>1</td>\n",
              "      <td>b</td>\n",
              "      <td>473</td>\n",
              "      <td>4/2/2017</td>\n",
              "      <td>112.47</td>\n",
              "    </tr>\n",
              "    <tr>\n",
              "      <th>2</th>\n",
              "      <td>1</td>\n",
              "      <td>c</td>\n",
              "      <td>473</td>\n",
              "      <td>4/2/2017</td>\n",
              "      <td>235.69</td>\n",
              "    </tr>\n",
              "    <tr>\n",
              "      <th>3</th>\n",
              "      <td>1</td>\n",
              "      <td>b</td>\n",
              "      <td>473</td>\n",
              "      <td>4/2/2017</td>\n",
              "      <td>28.38</td>\n",
              "    </tr>\n",
              "    <tr>\n",
              "      <th>4</th>\n",
              "      <td>2</td>\n",
              "      <td>a</td>\n",
              "      <td>282</td>\n",
              "      <td>2/17/2017</td>\n",
              "      <td>8.36</td>\n",
              "    </tr>\n",
              "  </tbody>\n",
              "</table>\n",
              "</div>"
            ],
            "text/plain": [
              "   order_id product  client_id order_date  money_spent\n",
              "0         1       a        473   4/2/2017        14.80\n",
              "1         1       b        473   4/2/2017       112.47\n",
              "2         1       c        473   4/2/2017       235.69\n",
              "3         1       b        473   4/2/2017        28.38\n",
              "4         2       a        282  2/17/2017         8.36"
            ]
          },
          "metadata": {},
          "execution_count": 37
        }
      ]
    },
    {
      "cell_type": "markdown",
      "metadata": {
        "id": "cIwo1lv63w6V"
      },
      "source": [
        "To perform RFM analysis we now need to calculate three measures:\n",
        "* **R** - recency score\n",
        "* **F** - frequency score\n",
        "* **M** - monetary score\n",
        "\n",
        "In our case recency will be expressed as number of days since the last order, frequency will be defined as the number of purchased items, and monetary score is the total amount spent during the defined period. "
      ]
    },
    {
      "cell_type": "code",
      "metadata": {
        "id": "oygpLtyq4HyJ",
        "colab": {
          "base_uri": "https://localhost:8080/"
        },
        "outputId": "2ae241f1-5a77-4ffe-8553-25ec1e897ece"
      },
      "source": [
        "df.info()"
      ],
      "execution_count": null,
      "outputs": [
        {
          "output_type": "stream",
          "name": "stdout",
          "text": [
            "<class 'pandas.core.frame.DataFrame'>\n",
            "RangeIndex: 4378 entries, 0 to 4377\n",
            "Data columns (total 5 columns):\n",
            " #   Column       Non-Null Count  Dtype  \n",
            "---  ------       --------------  -----  \n",
            " 0   order_id     4378 non-null   int64  \n",
            " 1   product      4378 non-null   object \n",
            " 2   client_id    4378 non-null   int64  \n",
            " 3   order_date   4378 non-null   object \n",
            " 4   money_spent  4378 non-null   float64\n",
            "dtypes: float64(1), int64(2), object(2)\n",
            "memory usage: 171.1+ KB\n"
          ]
        }
      ]
    },
    {
      "cell_type": "markdown",
      "metadata": {
        "id": "g8AdbO764NL9"
      },
      "source": [
        "Please, note that we have a column order_date there that is of a type datetime, however, we can see that it is of a type object. Let's convert it to date format:"
      ]
    },
    {
      "cell_type": "code",
      "metadata": {
        "id": "_mROQb8w4lms",
        "colab": {
          "base_uri": "https://localhost:8080/"
        },
        "outputId": "34ed542c-cf9f-4c5c-d47e-3bea1f31b89c"
      },
      "source": [
        "# transform to date format\n",
        "df.order_date = pd.to_datetime(df.order_date)\n",
        "df.info()"
      ],
      "execution_count": null,
      "outputs": [
        {
          "output_type": "stream",
          "name": "stdout",
          "text": [
            "<class 'pandas.core.frame.DataFrame'>\n",
            "RangeIndex: 4378 entries, 0 to 4377\n",
            "Data columns (total 5 columns):\n",
            " #   Column       Non-Null Count  Dtype         \n",
            "---  ------       --------------  -----         \n",
            " 0   order_id     4378 non-null   int64         \n",
            " 1   product      4378 non-null   object        \n",
            " 2   client_id    4378 non-null   int64         \n",
            " 3   order_date   4378 non-null   datetime64[ns]\n",
            " 4   money_spent  4378 non-null   float64       \n",
            "dtypes: datetime64[ns](1), float64(1), int64(2), object(1)\n",
            "memory usage: 171.1+ KB\n"
          ]
        }
      ]
    },
    {
      "cell_type": "markdown",
      "metadata": {
        "id": "q6MxUOj24799"
      },
      "source": [
        "We will use all of the data by defining the reporting date as the last recorded purchase:"
      ]
    },
    {
      "cell_type": "code",
      "metadata": {
        "id": "I_GO3fzI48Xl",
        "colab": {
          "base_uri": "https://localhost:8080/"
        },
        "outputId": "0178dd28-5734-4eca-c35c-ff62d4cb1705"
      },
      "source": [
        "reporting_date = df.order_date.max()\n",
        "reporting_date"
      ],
      "execution_count": null,
      "outputs": [
        {
          "output_type": "execute_result",
          "data": {
            "text/plain": [
              "Timestamp('2017-04-11 00:00:00')"
            ]
          },
          "metadata": {},
          "execution_count": 40
        }
      ]
    },
    {
      "cell_type": "markdown",
      "metadata": {
        "id": "daH57Cc55MUP"
      },
      "source": [
        "### Really simple and short descriptive Analysis"
      ]
    },
    {
      "cell_type": "markdown",
      "metadata": {
        "id": "mMPNlEQh5mNq"
      },
      "source": [
        "* Number of unique clients"
      ]
    },
    {
      "cell_type": "code",
      "metadata": {
        "id": "ioOrUSVS5f-F",
        "colab": {
          "base_uri": "https://localhost:8080/"
        },
        "outputId": "5db728c3-c3e9-4f67-96e2-eb8474a5b0a4"
      },
      "source": [
        "df.client_id.nunique()"
      ],
      "execution_count": null,
      "outputs": [
        {
          "output_type": "execute_result",
          "data": {
            "text/plain": [
              "457"
            ]
          },
          "metadata": {},
          "execution_count": 41
        }
      ]
    },
    {
      "cell_type": "markdown",
      "metadata": {
        "id": "69bqfq4J5rJF"
      },
      "source": [
        "* Types of products"
      ]
    },
    {
      "cell_type": "markdown",
      "metadata": {
        "id": "vHuz7FPRhF9_"
      },
      "source": [
        "## Ex 1: \n",
        "\n",
        "Plot the counts of each type of product using bar plot."
      ]
    },
    {
      "cell_type": "code",
      "metadata": {
        "id": "obzjyUAd5PNe"
      },
      "source": [
        "# your code goes here\n",
        "?"
      ],
      "execution_count": null,
      "outputs": []
    },
    {
      "cell_type": "markdown",
      "metadata": {
        "id": "PnjK92PimrDh"
      },
      "source": [
        "### Lets calculate RFM\n",
        "<img src=\"https://www.linkpicture.com/q/3_126.png\">"
      ]
    },
    {
      "cell_type": "markdown",
      "metadata": {
        "id": "XUA6DcmR8bF8"
      },
      "source": [
        "We will calcualte the frequency, recency and monetary values in the following way:\n",
        "* Recency: Calculate the number of days between present date and date of last purchase for each customer\n",
        "* Frequency: Calculate the number of orders for each customer\n",
        "* Monetary: Calculate sum of purchase price for each customer"
      ]
    },
    {
      "cell_type": "code",
      "metadata": {
        "id": "KW79Ko8j806V",
        "colab": {
          "base_uri": "https://localhost:8080/",
          "height": 235
        },
        "outputId": "0b8185f5-5383-41ae-b266-a5b51b4dd589"
      },
      "source": [
        "# we will use lambda functions for this purpose\n",
        "# crate another dataframe\n",
        "rfm = df.groupby('client_id').agg({'order_date': lambda date: int((reporting_date - date.max()).days),\n",
        "                                   'order_id': lambda num: num.shape[0],\n",
        "                                   'money_spent': lambda price: price.sum()})\n",
        "\n",
        "rfm.columns = ['recency', 'frequency', 'monetary']\n",
        "rfm.head()"
      ],
      "execution_count": null,
      "outputs": [
        {
          "output_type": "execute_result",
          "data": {
            "text/html": [
              "<div>\n",
              "<style scoped>\n",
              "    .dataframe tbody tr th:only-of-type {\n",
              "        vertical-align: middle;\n",
              "    }\n",
              "\n",
              "    .dataframe tbody tr th {\n",
              "        vertical-align: top;\n",
              "    }\n",
              "\n",
              "    .dataframe thead th {\n",
              "        text-align: right;\n",
              "    }\n",
              "</style>\n",
              "<table border=\"1\" class=\"dataframe\">\n",
              "  <thead>\n",
              "    <tr style=\"text-align: right;\">\n",
              "      <th></th>\n",
              "      <th>recency</th>\n",
              "      <th>frequency</th>\n",
              "      <th>monetary</th>\n",
              "    </tr>\n",
              "    <tr>\n",
              "      <th>client_id</th>\n",
              "      <th></th>\n",
              "      <th></th>\n",
              "      <th></th>\n",
              "    </tr>\n",
              "  </thead>\n",
              "  <tbody>\n",
              "    <tr>\n",
              "      <th>1</th>\n",
              "      <td>37</td>\n",
              "      <td>6</td>\n",
              "      <td>570.40</td>\n",
              "    </tr>\n",
              "    <tr>\n",
              "      <th>2</th>\n",
              "      <td>34</td>\n",
              "      <td>7</td>\n",
              "      <td>537.62</td>\n",
              "    </tr>\n",
              "    <tr>\n",
              "      <th>3</th>\n",
              "      <td>27</td>\n",
              "      <td>12</td>\n",
              "      <td>1123.90</td>\n",
              "    </tr>\n",
              "    <tr>\n",
              "      <th>4</th>\n",
              "      <td>17</td>\n",
              "      <td>11</td>\n",
              "      <td>1755.30</td>\n",
              "    </tr>\n",
              "    <tr>\n",
              "      <th>5</th>\n",
              "      <td>8</td>\n",
              "      <td>8</td>\n",
              "      <td>492.74</td>\n",
              "    </tr>\n",
              "  </tbody>\n",
              "</table>\n",
              "</div>"
            ],
            "text/plain": [
              "           recency  frequency  monetary\n",
              "client_id                              \n",
              "1               37          6    570.40\n",
              "2               34          7    537.62\n",
              "3               27         12   1123.90\n",
              "4               17         11   1755.30\n",
              "5                8          8    492.74"
            ]
          },
          "metadata": {},
          "execution_count": 44
        }
      ]
    },
    {
      "cell_type": "code",
      "metadata": {
        "id": "hVtGpnrGkYtG",
        "colab": {
          "base_uri": "https://localhost:8080/"
        },
        "outputId": "b8a21767-a700-4db9-864f-7267796493eb"
      },
      "source": [
        "rfm.shape"
      ],
      "execution_count": null,
      "outputs": [
        {
          "output_type": "execute_result",
          "data": {
            "text/plain": [
              "(457, 3)"
            ]
          },
          "metadata": {},
          "execution_count": 45
        }
      ]
    },
    {
      "cell_type": "markdown",
      "metadata": {
        "id": "pSd6pW4E-vOQ"
      },
      "source": [
        "Let's investigate our results"
      ]
    },
    {
      "cell_type": "code",
      "metadata": {
        "id": "h2_i7gvv-u3S",
        "colab": {
          "base_uri": "https://localhost:8080/",
          "height": 320
        },
        "outputId": "5db8ad2c-d5fe-4a69-f3fc-f5f943ad30e1"
      },
      "source": [
        "rfm.recency.plot.hist(bins=100, figsize=(15,5));"
      ],
      "execution_count": null,
      "outputs": [
        {
          "output_type": "display_data",
          "data": {
            "image/png": "[encoded data removed]",
            "text/plain": [
              "<Figure size 1080x360 with 1 Axes>"
            ]
          },
          "metadata": {}
        }
      ]
    },
    {
      "cell_type": "code",
      "metadata": {
        "id": "7sq7BgPO_IvN",
        "colab": {
          "base_uri": "https://localhost:8080/",
          "height": 320
        },
        "outputId": "1f41aee8-3745-47a6-fc7f-72a041e8e428"
      },
      "source": [
        "rfm.monetary.plot.hist(bins=50, figsize=(15,5), color='b');"
      ],
      "execution_count": null,
      "outputs": [
        {
          "output_type": "display_data",
          "data": {
            "image/png": "[encoded data removed]",
            "text/plain": [
              "<Figure size 1080x360 with 1 Axes>"
            ]
          },
          "metadata": {}
        }
      ]
    },
    {
      "cell_type": "markdown",
      "metadata": {
        "id": "zE3DMBDs_UpQ"
      },
      "source": [
        "**Computing Quantile of RFM values**\n",
        "\n",
        "1. Customers with the `lowest recency`, `highest frequency` and `monetary amounts` considered as top customers.\n",
        "\n",
        "2. **qcut()** is Quantile-based discretization function. `qcut` bins the data based on sample quantiles. "
      ]
    },
    {
      "cell_type": "code",
      "metadata": {
        "id": "fjb2Rp4B_dT3",
        "colab": {
          "base_uri": "https://localhost:8080/",
          "height": 235
        },
        "outputId": "926f7d63-38c7-4fcd-d21c-21c38d990cf2"
      },
      "source": [
        "rfm['r_quantile'] = pd.qcut(rfm['recency'], 5, ['1','2','3','4', '5'])\n",
        "rfm['f_quantile'] = pd.qcut(rfm['frequency'], 5, ['5', '4','3','2','1'])\n",
        "rfm['m_quantile'] = pd.qcut(rfm['monetary'], 5, ['5', '4','3','2','1'])\n",
        "\n",
        "rfm.head()"
      ],
      "execution_count": null,
      "outputs": [
        {
          "output_type": "execute_result",
          "data": {
            "text/html": [
              "<div>\n",
              "<style scoped>\n",
              "    .dataframe tbody tr th:only-of-type {\n",
              "        vertical-align: middle;\n",
              "    }\n",
              "\n",
              "    .dataframe tbody tr th {\n",
              "        vertical-align: top;\n",
              "    }\n",
              "\n",
              "    .dataframe thead th {\n",
              "        text-align: right;\n",
              "    }\n",
              "</style>\n",
              "<table border=\"1\" class=\"dataframe\">\n",
              "  <thead>\n",
              "    <tr style=\"text-align: right;\">\n",
              "      <th></th>\n",
              "      <th>recency</th>\n",
              "      <th>frequency</th>\n",
              "      <th>monetary</th>\n",
              "      <th>r_quantile</th>\n",
              "      <th>f_quantile</th>\n",
              "      <th>m_quantile</th>\n",
              "    </tr>\n",
              "    <tr>\n",
              "      <th>client_id</th>\n",
              "      <th></th>\n",
              "      <th></th>\n",
              "      <th></th>\n",
              "      <th></th>\n",
              "      <th></th>\n",
              "      <th></th>\n",
              "    </tr>\n",
              "  </thead>\n",
              "  <tbody>\n",
              "    <tr>\n",
              "      <th>1</th>\n",
              "      <td>37</td>\n",
              "      <td>6</td>\n",
              "      <td>570.40</td>\n",
              "      <td>3</td>\n",
              "      <td>4</td>\n",
              "      <td>4</td>\n",
              "    </tr>\n",
              "    <tr>\n",
              "      <th>2</th>\n",
              "      <td>34</td>\n",
              "      <td>7</td>\n",
              "      <td>537.62</td>\n",
              "      <td>3</td>\n",
              "      <td>4</td>\n",
              "      <td>4</td>\n",
              "    </tr>\n",
              "    <tr>\n",
              "      <th>3</th>\n",
              "      <td>27</td>\n",
              "      <td>12</td>\n",
              "      <td>1123.90</td>\n",
              "      <td>3</td>\n",
              "      <td>2</td>\n",
              "      <td>2</td>\n",
              "    </tr>\n",
              "    <tr>\n",
              "      <th>4</th>\n",
              "      <td>17</td>\n",
              "      <td>11</td>\n",
              "      <td>1755.30</td>\n",
              "      <td>2</td>\n",
              "      <td>2</td>\n",
              "      <td>1</td>\n",
              "    </tr>\n",
              "    <tr>\n",
              "      <th>5</th>\n",
              "      <td>8</td>\n",
              "      <td>8</td>\n",
              "      <td>492.74</td>\n",
              "      <td>1</td>\n",
              "      <td>3</td>\n",
              "      <td>4</td>\n",
              "    </tr>\n",
              "  </tbody>\n",
              "</table>\n",
              "</div>"
            ],
            "text/plain": [
              "           recency  frequency  monetary r_quantile f_quantile m_quantile\n",
              "client_id                                                               \n",
              "1               37          6    570.40          3          4          4\n",
              "2               34          7    537.62          3          4          4\n",
              "3               27         12   1123.90          3          2          2\n",
              "4               17         11   1755.30          2          2          1\n",
              "5                8          8    492.74          1          3          4"
            ]
          },
          "metadata": {},
          "execution_count": 48
        }
      ]
    },
    {
      "cell_type": "code",
      "metadata": {
        "id": "AMkzQLsXARNH",
        "colab": {
          "base_uri": "https://localhost:8080/"
        },
        "outputId": "65a28983-f0e6-488e-f904-7ba023b5b8e5"
      },
      "source": [
        "rfm.r_quantile.unique()"
      ],
      "execution_count": null,
      "outputs": [
        {
          "output_type": "execute_result",
          "data": {
            "text/plain": [
              "['3', '2', '1', '4', '5']\n",
              "Categories (5, object): ['1' < '2' < '3' < '4' < '5']"
            ]
          },
          "metadata": {},
          "execution_count": 49
        }
      ]
    },
    {
      "cell_type": "markdown",
      "metadata": {
        "id": "ZsvzgRTOAaIE"
      },
      "source": [
        "**RFM Result Interpretation**\n",
        "\n",
        "1. Combine all three quartiles(r_quartile,f_quartile,m_quartile) in a single column, this rank will help you to segment the customers well group.\n",
        "\n",
        "<img src=\"https://www.linkpicture.com/q/4_241.png\">"
      ]
    },
    {
      "cell_type": "code",
      "metadata": {
        "id": "PoD_oaAJAdOv",
        "colab": {
          "base_uri": "https://localhost:8080/",
          "height": 235
        },
        "outputId": "d25b09fd-5c42-4ec7-9e81-4c4d73769e34"
      },
      "source": [
        "rfm['RFM_Score'] = rfm.r_quantile.astype(str)+ rfm.f_quantile.astype(str) + rfm.m_quantile.astype(str)\n",
        "\n",
        "rfm.head()"
      ],
      "execution_count": null,
      "outputs": [
        {
          "output_type": "execute_result",
          "data": {
            "text/html": [
              "<div>\n",
              "<style scoped>\n",
              "    .dataframe tbody tr th:only-of-type {\n",
              "        vertical-align: middle;\n",
              "    }\n",
              "\n",
              "    .dataframe tbody tr th {\n",
              "        vertical-align: top;\n",
              "    }\n",
              "\n",
              "    .dataframe thead th {\n",
              "        text-align: right;\n",
              "    }\n",
              "</style>\n",
              "<table border=\"1\" class=\"dataframe\">\n",
              "  <thead>\n",
              "    <tr style=\"text-align: right;\">\n",
              "      <th></th>\n",
              "      <th>recency</th>\n",
              "      <th>frequency</th>\n",
              "      <th>monetary</th>\n",
              "      <th>r_quantile</th>\n",
              "      <th>f_quantile</th>\n",
              "      <th>m_quantile</th>\n",
              "      <th>RFM_Score</th>\n",
              "    </tr>\n",
              "    <tr>\n",
              "      <th>client_id</th>\n",
              "      <th></th>\n",
              "      <th></th>\n",
              "      <th></th>\n",
              "      <th></th>\n",
              "      <th></th>\n",
              "      <th></th>\n",
              "      <th></th>\n",
              "    </tr>\n",
              "  </thead>\n",
              "  <tbody>\n",
              "    <tr>\n",
              "      <th>1</th>\n",
              "      <td>37</td>\n",
              "      <td>6</td>\n",
              "      <td>570.40</td>\n",
              "      <td>3</td>\n",
              "      <td>4</td>\n",
              "      <td>4</td>\n",
              "      <td>344</td>\n",
              "    </tr>\n",
              "    <tr>\n",
              "      <th>2</th>\n",
              "      <td>34</td>\n",
              "      <td>7</td>\n",
              "      <td>537.62</td>\n",
              "      <td>3</td>\n",
              "      <td>4</td>\n",
              "      <td>4</td>\n",
              "      <td>344</td>\n",
              "    </tr>\n",
              "    <tr>\n",
              "      <th>3</th>\n",
              "      <td>27</td>\n",
              "      <td>12</td>\n",
              "      <td>1123.90</td>\n",
              "      <td>3</td>\n",
              "      <td>2</td>\n",
              "      <td>2</td>\n",
              "      <td>322</td>\n",
              "    </tr>\n",
              "    <tr>\n",
              "      <th>4</th>\n",
              "      <td>17</td>\n",
              "      <td>11</td>\n",
              "      <td>1755.30</td>\n",
              "      <td>2</td>\n",
              "      <td>2</td>\n",
              "      <td>1</td>\n",
              "      <td>221</td>\n",
              "    </tr>\n",
              "    <tr>\n",
              "      <th>5</th>\n",
              "      <td>8</td>\n",
              "      <td>8</td>\n",
              "      <td>492.74</td>\n",
              "      <td>1</td>\n",
              "      <td>3</td>\n",
              "      <td>4</td>\n",
              "      <td>134</td>\n",
              "    </tr>\n",
              "  </tbody>\n",
              "</table>\n",
              "</div>"
            ],
            "text/plain": [
              "           recency  frequency  monetary  ... f_quantile m_quantile RFM_Score\n",
              "client_id                                ...                                \n",
              "1               37          6    570.40  ...          4          4       344\n",
              "2               34          7    537.62  ...          4          4       344\n",
              "3               27         12   1123.90  ...          2          2       322\n",
              "4               17         11   1755.30  ...          2          1       221\n",
              "5                8          8    492.74  ...          3          4       134\n",
              "\n",
              "[5 rows x 7 columns]"
            ]
          },
          "metadata": {},
          "execution_count": 50
        }
      ]
    },
    {
      "cell_type": "code",
      "metadata": {
        "id": "mrGpohm5AnqN",
        "colab": {
          "base_uri": "https://localhost:8080/",
          "height": 204
        },
        "outputId": "e3e3b10e-a72d-4cee-babf-79f60298417d"
      },
      "source": [
        "# Filter out cusotmers\n",
        "rfm[rfm['RFM_Score']=='511'].sort_values('monetary', ascending=False)"
      ],
      "execution_count": null,
      "outputs": [
        {
          "output_type": "execute_result",
          "data": {
            "text/html": [
              "<div>\n",
              "<style scoped>\n",
              "    .dataframe tbody tr th:only-of-type {\n",
              "        vertical-align: middle;\n",
              "    }\n",
              "\n",
              "    .dataframe tbody tr th {\n",
              "        vertical-align: top;\n",
              "    }\n",
              "\n",
              "    .dataframe thead th {\n",
              "        text-align: right;\n",
              "    }\n",
              "</style>\n",
              "<table border=\"1\" class=\"dataframe\">\n",
              "  <thead>\n",
              "    <tr style=\"text-align: right;\">\n",
              "      <th></th>\n",
              "      <th>recency</th>\n",
              "      <th>frequency</th>\n",
              "      <th>monetary</th>\n",
              "      <th>r_quantile</th>\n",
              "      <th>f_quantile</th>\n",
              "      <th>m_quantile</th>\n",
              "      <th>RFM_Score</th>\n",
              "    </tr>\n",
              "    <tr>\n",
              "      <th>client_id</th>\n",
              "      <th></th>\n",
              "      <th></th>\n",
              "      <th></th>\n",
              "      <th></th>\n",
              "      <th></th>\n",
              "      <th></th>\n",
              "      <th></th>\n",
              "    </tr>\n",
              "  </thead>\n",
              "  <tbody>\n",
              "    <tr>\n",
              "      <th>43</th>\n",
              "      <td>61</td>\n",
              "      <td>17</td>\n",
              "      <td>1994.08</td>\n",
              "      <td>5</td>\n",
              "      <td>1</td>\n",
              "      <td>1</td>\n",
              "      <td>511</td>\n",
              "    </tr>\n",
              "    <tr>\n",
              "      <th>487</th>\n",
              "      <td>89</td>\n",
              "      <td>16</td>\n",
              "      <td>1782.57</td>\n",
              "      <td>5</td>\n",
              "      <td>1</td>\n",
              "      <td>1</td>\n",
              "      <td>511</td>\n",
              "    </tr>\n",
              "    <tr>\n",
              "      <th>164</th>\n",
              "      <td>73</td>\n",
              "      <td>15</td>\n",
              "      <td>1473.75</td>\n",
              "      <td>5</td>\n",
              "      <td>1</td>\n",
              "      <td>1</td>\n",
              "      <td>511</td>\n",
              "    </tr>\n",
              "    <tr>\n",
              "      <th>458</th>\n",
              "      <td>75</td>\n",
              "      <td>16</td>\n",
              "      <td>1391.48</td>\n",
              "      <td>5</td>\n",
              "      <td>1</td>\n",
              "      <td>1</td>\n",
              "      <td>511</td>\n",
              "    </tr>\n",
              "  </tbody>\n",
              "</table>\n",
              "</div>"
            ],
            "text/plain": [
              "           recency  frequency  monetary  ... f_quantile m_quantile RFM_Score\n",
              "client_id                                ...                                \n",
              "43              61         17   1994.08  ...          1          1       511\n",
              "487             89         16   1782.57  ...          1          1       511\n",
              "164             73         15   1473.75  ...          1          1       511\n",
              "458             75         16   1391.48  ...          1          1       511\n",
              "\n",
              "[4 rows x 7 columns]"
            ]
          },
          "metadata": {},
          "execution_count": 51
        }
      ]
    },
    {
      "cell_type": "markdown",
      "metadata": {
        "id": "p22nx3uyBFPy"
      },
      "source": [
        "The RFM approach is widely used and has a lot of use cases on practice. We can find our best and worst customers, we can decide where to focus our attention, to whom send the campaign and offer discounts. It is clear and reasonably easy to interpret (the only problem is how to visualize the three dimensions simultaniously). However, it requires your attention and highly depends on your choices. It is unlikely you can discover something unexpected. The automatic segmentation is a foray into uncharted territory of your data. Let’s see how it can be done."
      ]
    },
    {
      "cell_type": "markdown",
      "metadata": {
        "id": "inVRzC8xBRr0"
      },
      "source": [
        "# Clustering\n",
        "<img src= \"https://www.linkpicture.com/q/5_176.png\">\n",
        "There are several approaches to perform clustering tasks:\n",
        "\n",
        "* Hierarchical clustering\n",
        "\n",
        "* K-means\n",
        "\n",
        "* DBSCAN"
      ]
    },
    {
      "cell_type": "markdown",
      "metadata": {
        "id": "5yXau0PknQgN"
      },
      "source": [
        "Before we start applying these approaches, please, note that we will use [scikit-learn](https://scikit-learn.org/stable/index.html) library for our purposes. Scikit-learn is a free software machine learning library for the Python programming language. It features various classification, regression and clustering algorithms including support vector machines, random forests, gradient boosting, k-means and DBSCAN.\n",
        "\n",
        "You can check [user guide](https://scikit-learn.org/stable/user_guide.html) for more information and examples, however, we will see how to use scikit-learn on examples in the labs."
      ]
    },
    {
      "cell_type": "code",
      "metadata": {
        "id": "AL9X_ZzqoKBr",
        "colab": {
          "base_uri": "https://localhost:8080/"
        },
        "outputId": "d244e128-5847-4b21-f634-f3f429514378"
      },
      "source": [
        "!pip install sklearn"
      ],
      "execution_count": null,
      "outputs": [
        {
          "output_type": "stream",
          "name": "stdout",
          "text": [
            "Requirement already satisfied: sklearn in /usr/local/lib/python3.7/dist-packages (0.0)\n",
            "Requirement already satisfied: scikit-learn in /usr/local/lib/python3.7/dist-packages (from sklearn) (0.22.2.post1)\n",
            "Requirement already satisfied: scipy>=0.17.0 in /usr/local/lib/python3.7/dist-packages (from scikit-learn->sklearn) (1.4.1)\n",
            "Requirement already satisfied: numpy>=1.11.0 in /usr/local/lib/python3.7/dist-packages (from scikit-learn->sklearn) (1.19.5)\n",
            "Requirement already satisfied: joblib>=0.11 in /usr/local/lib/python3.7/dist-packages (from scikit-learn->sklearn) (1.0.1)\n"
          ]
        }
      ]
    },
    {
      "cell_type": "markdown",
      "metadata": {
        "id": "khgBVcvcdISW"
      },
      "source": [
        "## K-means\n",
        "<img src=\"https://www.linkpicture.com/q/6_145.png\">\n",
        "\n",
        "A K-means clustering algorithm tries to group similar items in the form of clusters. The number of groups is represented by K.\n",
        "\n",
        "We will use our previous dataframe for our purpose."
      ]
    },
    {
      "cell_type": "code",
      "metadata": {
        "id": "a2VT0gZBeByy"
      },
      "source": [
        "from sklearn.preprocessing import scale\n",
        "import numpy as np\n",
        "\n",
        "df = rfm[['recency', 'frequency', 'monetary']]\n",
        "df = pd.DataFrame(scale(df), index=df.index, columns=df.columns)"
      ],
      "execution_count": null,
      "outputs": []
    },
    {
      "cell_type": "code",
      "metadata": {
        "id": "Goa6d-3GeEeV",
        "colab": {
          "base_uri": "https://localhost:8080/",
          "height": 235
        },
        "outputId": "7421c22a-daab-4dd1-a08e-d7f021b00cf6"
      },
      "source": [
        "df.head()"
      ],
      "execution_count": null,
      "outputs": [
        {
          "output_type": "execute_result",
          "data": {
            "text/html": [
              "<div>\n",
              "<style scoped>\n",
              "    .dataframe tbody tr th:only-of-type {\n",
              "        vertical-align: middle;\n",
              "    }\n",
              "\n",
              "    .dataframe tbody tr th {\n",
              "        vertical-align: top;\n",
              "    }\n",
              "\n",
              "    .dataframe thead th {\n",
              "        text-align: right;\n",
              "    }\n",
              "</style>\n",
              "<table border=\"1\" class=\"dataframe\">\n",
              "  <thead>\n",
              "    <tr style=\"text-align: right;\">\n",
              "      <th></th>\n",
              "      <th>recency</th>\n",
              "      <th>frequency</th>\n",
              "      <th>monetary</th>\n",
              "    </tr>\n",
              "    <tr>\n",
              "      <th>client_id</th>\n",
              "      <th></th>\n",
              "      <th></th>\n",
              "      <th></th>\n",
              "    </tr>\n",
              "  </thead>\n",
              "  <tbody>\n",
              "    <tr>\n",
              "      <th>1</th>\n",
              "      <td>0.072265</td>\n",
              "      <td>-0.600280</td>\n",
              "      <td>-0.580571</td>\n",
              "    </tr>\n",
              "    <tr>\n",
              "      <th>2</th>\n",
              "      <td>-0.038806</td>\n",
              "      <td>-0.432598</td>\n",
              "      <td>-0.631537</td>\n",
              "    </tr>\n",
              "    <tr>\n",
              "      <th>3</th>\n",
              "      <td>-0.297971</td>\n",
              "      <td>0.405813</td>\n",
              "      <td>0.280002</td>\n",
              "    </tr>\n",
              "    <tr>\n",
              "      <th>4</th>\n",
              "      <td>-0.668207</td>\n",
              "      <td>0.238131</td>\n",
              "      <td>1.261693</td>\n",
              "    </tr>\n",
              "    <tr>\n",
              "      <th>5</th>\n",
              "      <td>-1.001419</td>\n",
              "      <td>-0.264916</td>\n",
              "      <td>-0.701316</td>\n",
              "    </tr>\n",
              "  </tbody>\n",
              "</table>\n",
              "</div>"
            ],
            "text/plain": [
              "            recency  frequency  monetary\n",
              "client_id                               \n",
              "1          0.072265  -0.600280 -0.580571\n",
              "2         -0.038806  -0.432598 -0.631537\n",
              "3         -0.297971   0.405813  0.280002\n",
              "4         -0.668207   0.238131  1.261693\n",
              "5         -1.001419  -0.264916 -0.701316"
            ]
          },
          "metadata": {},
          "execution_count": 54
        }
      ]
    },
    {
      "cell_type": "markdown",
      "metadata": {
        "id": "NIIt9qozek6C"
      },
      "source": [
        "Scikit learn K-means"
      ]
    },
    {
      "cell_type": "code",
      "metadata": {
        "id": "AC2LEYTnenkl",
        "colab": {
          "base_uri": "https://localhost:8080/"
        },
        "outputId": "aa6b9923-5683-41f2-9f0c-33fa6c0526a1"
      },
      "source": [
        "from sklearn.cluster import KMeans\n",
        "\n",
        "# create the model\n",
        "model = KMeans(n_clusters=5)\n",
        "\n",
        "# fit our data to the model\n",
        "model.fit(df)"
      ],
      "execution_count": null,
      "outputs": [
        {
          "output_type": "execute_result",
          "data": {
            "text/plain": [
              "KMeans(algorithm='auto', copy_x=True, init='k-means++', max_iter=300,\n",
              "       n_clusters=5, n_init=10, n_jobs=None, precompute_distances='auto',\n",
              "       random_state=None, tol=0.0001, verbose=0)"
            ]
          },
          "metadata": {},
          "execution_count": 68
        }
      ]
    },
    {
      "cell_type": "code",
      "metadata": {
        "id": "H1mnhPRze4Q0"
      },
      "source": [
        "clusters = model.predict(df)"
      ],
      "execution_count": null,
      "outputs": []
    },
    {
      "cell_type": "code",
      "metadata": {
        "id": "DFwGE2R4gEri",
        "colab": {
          "base_uri": "https://localhost:8080/"
        },
        "outputId": "b236aae0-8d1f-4c08-d4de-98775ce6e3b0"
      },
      "source": [
        "model.cluster_centers_"
      ],
      "execution_count": null,
      "outputs": [
        {
          "output_type": "execute_result",
          "data": {
            "text/plain": [
              "array([[ 7.08072524e-02, -1.84375547e-01, -2.27768160e-01,\n",
              "         1.42519685e+00,  2.88657986e-15],\n",
              "       [ 1.26006895e+00, -9.63262675e-01, -8.70503180e-01,\n",
              "         2.00000000e+00,  3.00000000e+00],\n",
              "       [-7.02762400e-01,  2.40123054e+00,  2.41899608e+00,\n",
              "        -2.22044605e-16,  1.60000000e+00],\n",
              "       [-3.75694378e-01,  7.07878577e-01,  6.54999357e-01,\n",
              "         3.00000000e+00,  6.45390071e-01],\n",
              "       [-5.68143271e-01, -8.99388835e-01, -8.37911689e-01,\n",
              "         1.00000000e+00,  3.00000000e+00]])"
            ]
          },
          "metadata": {},
          "execution_count": 70
        }
      ]
    },
    {
      "cell_type": "markdown",
      "metadata": {
        "id": "ROIWEa-Ee-Ih"
      },
      "source": [
        "Let us check the clients clusters, by adding it to the data frame:"
      ]
    },
    {
      "cell_type": "code",
      "metadata": {
        "id": "Nd8aefT_fANj",
        "colab": {
          "base_uri": "https://localhost:8080/",
          "height": 235
        },
        "outputId": "0ef09f20-b3f6-4e64-a7d3-6ebc7802642f"
      },
      "source": [
        "df['clusters'] = clusters\n",
        "df.head()"
      ],
      "execution_count": null,
      "outputs": [
        {
          "output_type": "execute_result",
          "data": {
            "text/html": [
              "<div>\n",
              "<style scoped>\n",
              "    .dataframe tbody tr th:only-of-type {\n",
              "        vertical-align: middle;\n",
              "    }\n",
              "\n",
              "    .dataframe tbody tr th {\n",
              "        vertical-align: top;\n",
              "    }\n",
              "\n",
              "    .dataframe thead th {\n",
              "        text-align: right;\n",
              "    }\n",
              "</style>\n",
              "<table border=\"1\" class=\"dataframe\">\n",
              "  <thead>\n",
              "    <tr style=\"text-align: right;\">\n",
              "      <th></th>\n",
              "      <th>recency</th>\n",
              "      <th>frequency</th>\n",
              "      <th>monetary</th>\n",
              "      <th>clusters</th>\n",
              "      <th>frequencyCluster</th>\n",
              "    </tr>\n",
              "    <tr>\n",
              "      <th>client_id</th>\n",
              "      <th></th>\n",
              "      <th></th>\n",
              "      <th></th>\n",
              "      <th></th>\n",
              "      <th></th>\n",
              "    </tr>\n",
              "  </thead>\n",
              "  <tbody>\n",
              "    <tr>\n",
              "      <th>1</th>\n",
              "      <td>0.072265</td>\n",
              "      <td>-0.600280</td>\n",
              "      <td>-0.580571</td>\n",
              "      <td>4</td>\n",
              "      <td>3</td>\n",
              "    </tr>\n",
              "    <tr>\n",
              "      <th>2</th>\n",
              "      <td>-0.038806</td>\n",
              "      <td>-0.432598</td>\n",
              "      <td>-0.631537</td>\n",
              "      <td>0</td>\n",
              "      <td>0</td>\n",
              "    </tr>\n",
              "    <tr>\n",
              "      <th>3</th>\n",
              "      <td>-0.297971</td>\n",
              "      <td>0.405813</td>\n",
              "      <td>0.280002</td>\n",
              "      <td>3</td>\n",
              "      <td>0</td>\n",
              "    </tr>\n",
              "    <tr>\n",
              "      <th>4</th>\n",
              "      <td>-0.668207</td>\n",
              "      <td>0.238131</td>\n",
              "      <td>1.261693</td>\n",
              "      <td>3</td>\n",
              "      <td>0</td>\n",
              "    </tr>\n",
              "    <tr>\n",
              "      <th>5</th>\n",
              "      <td>-1.001419</td>\n",
              "      <td>-0.264916</td>\n",
              "      <td>-0.701316</td>\n",
              "      <td>0</td>\n",
              "      <td>0</td>\n",
              "    </tr>\n",
              "  </tbody>\n",
              "</table>\n",
              "</div>"
            ],
            "text/plain": [
              "            recency  frequency  monetary  clusters  frequencyCluster\n",
              "client_id                                                           \n",
              "1          0.072265  -0.600280 -0.580571         4                 3\n",
              "2         -0.038806  -0.432598 -0.631537         0                 0\n",
              "3         -0.297971   0.405813  0.280002         3                 0\n",
              "4         -0.668207   0.238131  1.261693         3                 0\n",
              "5         -1.001419  -0.264916 -0.701316         0                 0"
            ]
          },
          "metadata": {},
          "execution_count": 71
        }
      ]
    },
    {
      "cell_type": "code",
      "metadata": {
        "id": "ZfF6mAWNfEkY",
        "colab": {
          "base_uri": "https://localhost:8080/"
        },
        "outputId": "9b3ae384-4e91-4821-9bd9-d26074eb434c"
      },
      "source": [
        "df.clusters.value_counts()"
      ],
      "execution_count": null,
      "outputs": [
        {
          "output_type": "execute_result",
          "data": {
            "text/plain": [
              "3    141\n",
              "0    127\n",
              "1     85\n",
              "4     74\n",
              "2     30\n",
              "Name: clusters, dtype: int64"
            ]
          },
          "metadata": {},
          "execution_count": 72
        }
      ]
    },
    {
      "cell_type": "code",
      "metadata": {
        "id": "-mPAWnQuhjKE",
        "colab": {
          "base_uri": "https://localhost:8080/",
          "height": 441
        },
        "outputId": "7541a896-6104-41a0-ba76-6123053dd875"
      },
      "source": [
        "sns.jointplot(x='frequency', y='recency', data=df, hue='clusters', palette='YlOrRd');"
      ],
      "execution_count": null,
      "outputs": [
        {
          "output_type": "display_data",
          "data": {
            "image/png": "[encoded data removed]",
            "text/plain": [
              "<Figure size 432x432 with 3 Axes>"
            ]
          },
          "metadata": {}
        }
      ]
    },
    {
      "cell_type": "code",
      "metadata": {
        "id": "__EWEmT_ic7c",
        "colab": {
          "base_uri": "https://localhost:8080/",
          "height": 441
        },
        "outputId": "911408a3-245d-45fd-b0a3-1b9e4ecdcb91"
      },
      "source": [
        "sns.jointplot(x='frequency', y='monetary', data=df, hue='clusters', palette='YlOrRd');"
      ],
      "execution_count": null,
      "outputs": [
        {
          "output_type": "display_data",
          "data": {
            "image/png": "[encoded data removed]",
            "text/plain": [
              "<Figure size 432x432 with 3 Axes>"
            ]
          },
          "metadata": {}
        }
      ]
    },
    {
      "cell_type": "code",
      "metadata": {
        "id": "HpsaiDEMip_Z",
        "colab": {
          "base_uri": "https://localhost:8080/",
          "height": 441
        },
        "outputId": "a3804dd3-a327-4f53-9804-89b278a5166a"
      },
      "source": [
        "sns.jointplot(x='recency', y='monetary', data=df, hue='clusters', palette='YlOrRd');"
      ],
      "execution_count": null,
      "outputs": [
        {
          "output_type": "display_data",
          "data": {
            "image/png": "[encoded data removed]",
            "text/plain": [
              "<Figure size 432x432 with 3 Axes>"
            ]
          },
          "metadata": {}
        }
      ]
    },
    {
      "cell_type": "markdown",
      "metadata": {
        "id": "QqxZ0oHcty0J"
      },
      "source": [
        "#### Fun exercise\n",
        "For out plots we used only one palette that is called 'YlOrRd' - Yellow or Red, but there are many other options. See the next image with different colormaps and change the palette parameter in jointplots to check them out.\n",
        "These colormaps can also be used for heatmaps and other plots."
      ]
    },
    {
      "cell_type": "code",
      "metadata": {
        "id": "XxdhG4rYtwR4",
        "colab": {
          "base_uri": "https://localhost:8080/",
          "height": 515
        },
        "outputId": "ca6d867d-8698-4069-da2e-9540f16f7896"
      },
      "source": [
        "from IPython.display import Image\n",
        "Image(filename='colormaps.jpg')"
      ],
      "execution_count": null,
      "outputs": [
        {
          "output_type": "execute_result",
          "data": {
            "image/jpeg": "[encoded data removed]",
            "text/plain": [
              "<IPython.core.display.Image object>"
            ]
          },
          "metadata": {},
          "execution_count": 63
        }
      ]
    },
    {
      "cell_type": "markdown",
      "metadata": {
        "id": "-63ktXVzh4Fd"
      },
      "source": [
        "# Ex 2\n",
        "Using KMeans cluster the customers based on Frequency and add these values to our dataframe (df)."
      ]
    },
    {
      "cell_type": "code",
      "metadata": {
        "id": "71s8ri7dUS58"
      },
      "source": [
        "#build 4 clusters for frequency and add it to the dataframe\n",
        "# TODO replace '?' signs with your code\n",
        "\n",
        "# create the model\n",
        "model = ?(n_clusters=?)\n",
        "\n",
        "# fit our data to the model\n",
        "model.fit(?)\n",
        "\n",
        "# compute clusters\n",
        "df['frequencyCluster'] = model.predict(?)\n",
        "\n",
        "print(df.?.value_counts(),'\\n')\n",
        "df.head()"
      ],
      "execution_count": null,
      "outputs": []
    },
    {
      "cell_type": "markdown",
      "metadata": {
        "id": "UXhPEV5Ji0eZ"
      },
      "source": [
        "### How to choose number of clusters?\n",
        "In the previous example we defined number of clusters = 4 manually, but how to understand which number is better for a particular dataframe? It is usually the iterative process where the clusters should be manually inspected. There are also various techniques how to identify number of clusters. These methods provide you with some additional intuition (but they do not guarantee this is the best number of clusters for your problem).\n",
        "\n",
        "* **Elbow method** is the most common technique\n",
        "<img src= \"https://www.linkpicture.com/q/7_113.png\">"
      ]
    },
    {
      "cell_type": "code",
      "metadata": {
        "id": "9lzUXI9LjeLK",
        "colab": {
          "base_uri": "https://localhost:8080/"
        },
        "outputId": "28d90d63-0fee-4f49-ec06-7cfa603378e6"
      },
      "source": [
        "# First, we create a list of different K-means models (each model has different number of clusters from 1 to 20)\n",
        "model_array = [KMeans(n_clusters=i) for i in range(1, 20)]\n",
        "print(len(model_array))\n",
        "# and calculate scores for each model\n",
        "score = [-model_array[i].fit(df).score(df) for i in range(len(model_array))]"
      ],
      "execution_count": null,
      "outputs": [
        {
          "output_type": "stream",
          "name": "stdout",
          "text": [
            "19\n"
          ]
        }
      ]
    },
    {
      "cell_type": "code",
      "metadata": {
        "id": "fhjw6j0hpzMw",
        "colab": {
          "base_uri": "https://localhost:8080/"
        },
        "outputId": "5d9fc64d-9bb8-456e-abf2-00903f43603f"
      },
      "source": [
        "score"
      ],
      "execution_count": null,
      "outputs": [
        {
          "output_type": "execute_result",
          "data": {
            "text/plain": [
              "[2547.148796498906,\n",
              " 1424.79057103839,\n",
              " 987.7461419089951,\n",
              " 675.623595943453,\n",
              " 503.6375111902963,\n",
              " 354.49042244924294,\n",
              " 304.8955513077938,\n",
              " 273.49483455752704,\n",
              " 243.97759469270522,\n",
              " 215.10248112088442,\n",
              " 201.91819912448713,\n",
              " 190.4404430582265,\n",
              " 178.39685066016327,\n",
              " 167.42019503041166,\n",
              " 158.80087289638777,\n",
              " 147.82505477782755,\n",
              " 144.25113723036156,\n",
              " 133.70446420615008,\n",
              " 132.7088927913825]"
            ]
          },
          "metadata": {},
          "execution_count": 66
        }
      ]
    },
    {
      "cell_type": "markdown",
      "metadata": {
        "id": "WmfWeNxG9WXe"
      },
      "source": [
        "### Result interpretation\n",
        "<img src=\"https://www.linkpicture.com/q/8_112.png\">"
      ]
    },
    {
      "cell_type": "code",
      "metadata": {
        "id": "9tUbIIfCjh-y",
        "colab": {
          "base_uri": "https://localhost:8080/",
          "height": 337
        },
        "outputId": "1bb7b17f-8392-4302-d7d9-8ec6b9b939ab"
      },
      "source": [
        "# Then we create a plot and examine it\n",
        "pd.DataFrame({'score': score}).plot(figsize=(8,5))\n",
        "plt.xlabel('Values of K')\n",
        "plt.ylabel('Scores');"
      ],
      "execution_count": null,
      "outputs": [
        {
          "output_type": "display_data",
          "data": {
            "image/png": "[encoded data removed]",
            "text/plain": [
              "<Figure size 576x360 with 1 Axes>"
            ]
          },
          "metadata": {}
        }
      ]
    },
    {
      "cell_type": "markdown",
      "metadata": {
        "id": "9-b0qNm2khWm"
      },
      "source": [
        "To determine the optimal number of clusters, we have to select the value of k at the “elbow” ie the point after which the values start decreasing in a linear fashion."
      ]
    },
    {
      "cell_type": "markdown",
      "metadata": {
        "id": "DhE1bPkZECwa"
      },
      "source": [
        "## Hierarchical Clustering\n",
        "<img src=\"https://www.linkpicture.com/q/9_68.png\">\n",
        "\n",
        "Hierarchical clustering means creating a tree of clusters by iteratively grouping or separating data points. There are two types of hierarchical clustering:\n",
        "\n",
        "* Agglomerative clustering\n",
        "* Divisive clustering\n",
        "\n",
        "The Hierarchical clustering Technique can be visualized using a **Dendrogram**.\n",
        "\n",
        "Source: See [hierarchical clustering explained](https://towardsdatascience.com/hierarchical-clustering-explained-e58d2f936323#:~:text=Clustering%20algorithms%20look%20for%20similarities,algorithms%20to%20perform%20clustering%20tasks.&text=Hierarchical%20clustering%20means%20creating%20a,grouping%20or%20separating%20data%20points.) article for more information."
      ]
    },
    {
      "cell_type": "code",
      "metadata": {
        "id": "92dTJqT-K0jh",
        "colab": {
          "base_uri": "https://localhost:8080/",
          "height": 495
        },
        "outputId": "00a5742f-d475-4550-9ae8-981acfdd6374"
      },
      "source": [
        "from IPython.display import Image\n",
        "Image(filename='dendrogram.png')"
      ],
      "execution_count": null,
      "outputs": [
        {
          "output_type": "execute_result",
          "data": {
            "image/png": "[encoded data removed]",
            "text/plain": [
              "<IPython.core.display.Image object>"
            ]
          },
          "metadata": {},
          "execution_count": 76
        }
      ]
    },
    {
      "cell_type": "markdown",
      "metadata": {
        "id": "DyBcrQH_ccrp"
      },
      "source": [
        "We can apply agglomerative clustering to our dataframe just to see how we can do it with sklearn"
      ]
    },
    {
      "cell_type": "code",
      "metadata": {
        "id": "Qh6QFUfNJOjA",
        "colab": {
          "base_uri": "https://localhost:8080/",
          "height": 235
        },
        "outputId": "e8b8f35e-9a01-4cf9-a126-7d229a1d0a49"
      },
      "source": [
        "# Let's take only 50 rows from the df so that dengrogram will be simpler\n",
        "df = df.iloc[:50,:]\n",
        "df.head()"
      ],
      "execution_count": null,
      "outputs": [
        {
          "output_type": "execute_result",
          "data": {
            "text/html": [
              "<div>\n",
              "<style scoped>\n",
              "    .dataframe tbody tr th:only-of-type {\n",
              "        vertical-align: middle;\n",
              "    }\n",
              "\n",
              "    .dataframe tbody tr th {\n",
              "        vertical-align: top;\n",
              "    }\n",
              "\n",
              "    .dataframe thead th {\n",
              "        text-align: right;\n",
              "    }\n",
              "</style>\n",
              "<table border=\"1\" class=\"dataframe\">\n",
              "  <thead>\n",
              "    <tr style=\"text-align: right;\">\n",
              "      <th></th>\n",
              "      <th>recency</th>\n",
              "      <th>frequency</th>\n",
              "      <th>monetary</th>\n",
              "      <th>clusters</th>\n",
              "      <th>frequencyCluster</th>\n",
              "    </tr>\n",
              "    <tr>\n",
              "      <th>client_id</th>\n",
              "      <th></th>\n",
              "      <th></th>\n",
              "      <th></th>\n",
              "      <th></th>\n",
              "      <th></th>\n",
              "    </tr>\n",
              "  </thead>\n",
              "  <tbody>\n",
              "    <tr>\n",
              "      <th>1</th>\n",
              "      <td>0.072265</td>\n",
              "      <td>-0.600280</td>\n",
              "      <td>-0.580571</td>\n",
              "      <td>4</td>\n",
              "      <td>3</td>\n",
              "    </tr>\n",
              "    <tr>\n",
              "      <th>2</th>\n",
              "      <td>-0.038806</td>\n",
              "      <td>-0.432598</td>\n",
              "      <td>-0.631537</td>\n",
              "      <td>0</td>\n",
              "      <td>0</td>\n",
              "    </tr>\n",
              "    <tr>\n",
              "      <th>3</th>\n",
              "      <td>-0.297971</td>\n",
              "      <td>0.405813</td>\n",
              "      <td>0.280002</td>\n",
              "      <td>3</td>\n",
              "      <td>0</td>\n",
              "    </tr>\n",
              "    <tr>\n",
              "      <th>4</th>\n",
              "      <td>-0.668207</td>\n",
              "      <td>0.238131</td>\n",
              "      <td>1.261693</td>\n",
              "      <td>3</td>\n",
              "      <td>0</td>\n",
              "    </tr>\n",
              "    <tr>\n",
              "      <th>5</th>\n",
              "      <td>-1.001419</td>\n",
              "      <td>-0.264916</td>\n",
              "      <td>-0.701316</td>\n",
              "      <td>0</td>\n",
              "      <td>0</td>\n",
              "    </tr>\n",
              "  </tbody>\n",
              "</table>\n",
              "</div>"
            ],
            "text/plain": [
              "            recency  frequency  monetary  clusters  frequencyCluster\n",
              "client_id                                                           \n",
              "1          0.072265  -0.600280 -0.580571         4                 3\n",
              "2         -0.038806  -0.432598 -0.631537         0                 0\n",
              "3         -0.297971   0.405813  0.280002         3                 0\n",
              "4         -0.668207   0.238131  1.261693         3                 0\n",
              "5         -1.001419  -0.264916 -0.701316         0                 0"
            ]
          },
          "metadata": {},
          "execution_count": 77
        }
      ]
    },
    {
      "cell_type": "markdown",
      "metadata": {
        "id": "WIZT1AVSjko8"
      },
      "source": [
        "# Ex 3\n",
        "Check the the dimensionality of the DataFrame (how many rows and columns are there)."
      ]
    },
    {
      "cell_type": "code",
      "metadata": {
        "id": "99b4fciSo-kk"
      },
      "source": [
        "# your code goes here\n",
        "?"
      ],
      "execution_count": null,
      "outputs": []
    },
    {
      "cell_type": "markdown",
      "metadata": {
        "id": "qG47eYxSKSVR"
      },
      "source": [
        "Import and use Scikit learn implementation of agglomerative clustering"
      ]
    },
    {
      "cell_type": "code",
      "metadata": {
        "id": "Jc7NWs54JXxE"
      },
      "source": [
        "from sklearn.cluster import AgglomerativeClustering\n",
        "model = AgglomerativeClustering(distance_threshold=0, n_clusters=None)\n",
        "\n",
        "model = model.fit(df)"
      ],
      "execution_count": null,
      "outputs": []
    },
    {
      "cell_type": "markdown",
      "metadata": {
        "id": "tCVDVXZhKGlB"
      },
      "source": [
        "Scikit learn does not provide dendrograms so we will use the dendrogram of [SciPy](https://docs.scipy.org/doc/scipy/reference/index.html) package.\n",
        "\n",
        "### Results\n",
        "<img src=\"https://www.linkpicture.com/q/10_54.png\">"
      ]
    },
    {
      "cell_type": "code",
      "metadata": {
        "id": "nVtg5MIRJ1dA",
        "colab": {
          "base_uri": "https://localhost:8080/",
          "height": 592
        },
        "outputId": "ea3d21d2-f79f-455b-a684-04696841bc01"
      },
      "source": [
        "from scipy.cluster.hierarchy import dendrogram\n",
        "from scipy.cluster import hierarchy\n",
        "\n",
        "Z = hierarchy.linkage(model.children_, 'ward')\n",
        "\n",
        "plt.figure(figsize=(20,10))\n",
        "dn = hierarchy.dendrogram(Z)"
      ],
      "execution_count": null,
      "outputs": [
        {
          "output_type": "display_data",
          "data": {
            "image/png": "[encoded data removed]",
            "text/plain": [
              "<Figure size 1440x720 with 1 Axes>"
            ]
          },
          "metadata": {}
        }
      ]
    },
    {
      "cell_type": "markdown",
      "metadata": {
        "id": "ti5josduljCr"
      },
      "source": [
        "## Density-based clustering (DBSCAN)\n",
        "\n",
        "DBSCAN stands for density-based spatial clustering of applications with noise. It is able to find arbitrary shaped clusters and clusters with noise (i.e. outliers).\n",
        "The main idea behind DBSCAN is that a point belongs to a cluster if it is close to many points from that cluster.\n",
        "\n",
        "We will not take a look at DBSCAN today, but you can find and examine references by the following links:\n",
        "\n",
        "* https://towardsdatascience.com/dbscan-clustering-explained-97556a2ad556\n",
        "\n",
        "* https://towardsdatascience.com/dbscan-clustering-for-data-shapes-k-means-cant-handle-well-in-python-6be89af4e6ea\n",
        "\n"
      ]
    }
  ]
}