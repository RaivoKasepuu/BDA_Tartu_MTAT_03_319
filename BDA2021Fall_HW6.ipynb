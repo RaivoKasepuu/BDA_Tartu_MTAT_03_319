{
  "nbformat": 4,
  "nbformat_minor": 0,
  "metadata": {
    "kernelspec": {
      "display_name": "Python 3",
      "language": "python",
      "name": "python3"
    },
    "language_info": {
      "codemirror_mode": {
        "name": "ipython",
        "version": 3
      },
      "file_extension": ".py",
      "mimetype": "text/x-python",
      "name": "python",
      "nbconvert_exporter": "python",
      "pygments_lexer": "ipython3",
      "version": "3.7.3"
    },
    "colab": {
      "name": "BDA2021Fall_HW6.ipynb",
      "provenance": [],
      "collapsed_sections": [],
      "include_colab_link": true
    }
  },
  "cells": [
    {
      "cell_type": "markdown",
      "metadata": {
        "id": "view-in-github",
        "colab_type": "text"
      },
      "source": [
        "<a href=\"https://colab.research.google.com/github/RaivoKasepuu/BDA_Tartu_MTAT_03_319/blob/master/BDA2021Fall_HW6.ipynb\" target=\"_parent\"><img src=\"https://colab.research.google.com/assets/colab-badge.svg\" alt=\"Open In Colab\"/></a>"
      ]
    },
    {
      "cell_type": "markdown",
      "metadata": {
        "id": "4Ap7-YWjYco4"
      },
      "source": [
        "\n",
        "<div class=\"alert alert-block alert-info\"><b></b>\n",
        "<h1><center> <font color='black'> Homework 06  </font></center></h1>\n",
        "<h2><center> <font color='black'> Cross and Up Selling</font></center></h2>   \n",
        "<h2><center> <font color='black'> MTAT.03.319 - Business Data Analytics</font></center></h2>\n",
        "<h2><center> <font color='black'> University of Tartu - Fall 2021</font></center></h2>\n",
        "</div>\n"
      ]
    },
    {
      "cell_type": "markdown",
      "metadata": {
        "id": "lTjeL2YiYZ9q"
      },
      "source": [
        "# Homework instructions\n",
        "- Please name your homeworks in the following format **BDAFall2021_HWX_Name_Surname.ipynb** then it will be easier to grade your homeworks and smaller possibility for a human mistake.\n",
        "- Please provide the names and student IDs of the team-members (Maximum 2 person) in the field \"Team mates\" below. If you are not working in a team please insert only your name and student ID. \n",
        "\n",
        "- The accepted submission formats are Colab links or .ipynb files. If you are submitting Colab links please make sure that the privacy settings for the file is public so we can access your code. \n",
        "\n",
        "- The submission will automatically close on <font color='red'>**1 December at 23:59**</font>, so please make sure to submit before the deadline. \n",
        "\n",
        "- ONLY one of the teammates should submit the homework. We will grade the homework and the marks and feedback is applied for both the team members. So please communicate with your team member about marks and feedback if you are submit the homework.\n",
        "\n",
        "- If a question is not clear, please ask us in Moodle ONLY. \n",
        "\n",
        "- For coding related questions, do submit your code as well as your explanation/answer.\n",
        "\n",
        "- After you have finished solving the Homework, please restart the Kernel and run all the cells to check if there is any persisting issues. \n",
        "\n",
        "- Plagiarism is <font color='red'>**PROHIBITED**</font>. Any form of plagiarism will be dealt according to the university policy (https://www.ut.ee/en/current-students/academic-fraud).\n",
        "\n",
        "- Please <font color='red'>do not change</font> the template of this notebook file. You can download the .ipynb file and work on that."
      ]
    },
    {
      "cell_type": "markdown",
      "metadata": {
        "id": "ui5mU5-qufEZ"
      },
      "source": [
        "**<h2><font color='red'>Team mates:</font></h2>**\n",
        "\n",
        "\n",
        "<font color='red'>Name: </font>&emsp;   <font color='red'>Student ID: </font>\n",
        "\n",
        "\n",
        "<font color='red'>Name: </font>&emsp;   <font color='red'>Student ID: </font>"
      ]
    },
    {
      "cell_type": "markdown",
      "metadata": {
        "id": "FyzzsUwbaUH5"
      },
      "source": [
        "# Question 1 (3 points)\n",
        "In this homework we will use recommender systems on cs_books.csv dataset to recommend computer science books to users. The dataset consists of three columns:\n",
        "* User - name of a user\n",
        "* Book - title of a book\n",
        "* Rating - rating to a book given by a user\n",
        "\n",
        "Load the data, and make a simple exploratory analysis:\n",
        "\n"
      ]
    },
    {
      "cell_type": "markdown",
      "metadata": {
        "id": "aStG9D2qrf1J"
      },
      "source": [
        "## Question 1.1 (1 p)\n",
        "Plot distribution histogram of book's rating. If a customer didn't rate a book, consider it as a rating zero."
      ]
    },
    {
      "cell_type": "code",
      "metadata": {
        "id": "-ACW9swercRa"
      },
      "source": [
        ""
      ],
      "execution_count": null,
      "outputs": []
    },
    {
      "cell_type": "markdown",
      "metadata": {
        "id": "LPqFIF7ArdMw"
      },
      "source": [
        "## Question 1.2 (1 p)\n",
        "Plot books' rating frequency of each book.  On the y-axis, you have the count of ratings a book has and on the x-axis, unique books. Does it have a long-tail property (remember that the cs_books dataset is much smaller than movies ratings, so the property might not be that expressive)?\n"
      ]
    },
    {
      "cell_type": "code",
      "metadata": {
        "id": "agsfiay8rr25"
      },
      "source": [
        ""
      ],
      "execution_count": null,
      "outputs": []
    },
    {
      "cell_type": "markdown",
      "metadata": {
        "id": "edXabMGBrsLQ"
      },
      "source": [
        "## Question 1.3 (1 p)\n",
        "Plot users rating frequency. On the y-axis, you have a count of ratings that a user made and unique users on the x-axis. Does it have long-tail property? "
      ]
    },
    {
      "cell_type": "code",
      "metadata": {
        "id": "cUVdBfVrrx24"
      },
      "source": [
        ""
      ],
      "execution_count": null,
      "outputs": []
    },
    {
      "cell_type": "markdown",
      "metadata": {
        "id": "tZIM45cc_GEO"
      },
      "source": [
        "# Question 2 (3 points)\n",
        "\n",
        "Prepare the data for KNN model:\n"
      ]
    },
    {
      "cell_type": "markdown",
      "metadata": {
        "id": "MS3Qtm2bsTDo"
      },
      "source": [
        "## Question 2.1 (1 p)\n",
        "Create a book-user matrix using the df.pivot function and fill NA with zeroes. In other words, in places where a user didn't rate a book, we will have 0 instead of NA. In the table, you should have only one column for each user and only one row for each book present in the cs_books.csv"
      ]
    },
    {
      "cell_type": "code",
      "metadata": {
        "id": "yd8EUwDmsZdZ"
      },
      "source": [
        ""
      ],
      "execution_count": null,
      "outputs": []
    },
    {
      "cell_type": "markdown",
      "metadata": {
        "id": "bXKF6v4vsZ3x"
      },
      "source": [
        "## Question 2.2 (1 p)\n",
        " Build a sparse matrix for the pivoted dataframe."
      ]
    },
    {
      "cell_type": "code",
      "metadata": {
        "id": "nhltl9ilsuDI"
      },
      "source": [
        ""
      ],
      "execution_count": null,
      "outputs": []
    },
    {
      "cell_type": "markdown",
      "metadata": {
        "id": "V8-vEPZtsgY5"
      },
      "source": [
        "## Question 2.3 (1 p)\n",
        "Build a book_to_index mapper - dictionary where key is a book and value is a correspondent index.  It should look like this:<br />\n",
        "{'Algorithms': 0,<br />\n",
        " 'Artificial intelligence': 1,<br />\n",
        " 'Computation': 2,\n",
        " ....}<br />"
      ]
    },
    {
      "cell_type": "code",
      "metadata": {
        "id": "qTI6JhxLsoTg"
      },
      "source": [
        ""
      ],
      "execution_count": null,
      "outputs": []
    },
    {
      "cell_type": "markdown",
      "metadata": {
        "id": "f5RdQwwlsotw"
      },
      "source": [
        "Please, show the pivoted dataframe, the sparse matrix and the mapper."
      ]
    },
    {
      "cell_type": "code",
      "metadata": {
        "id": "S0Y3ZXZjspJi"
      },
      "source": [
        ""
      ],
      "execution_count": null,
      "outputs": []
    },
    {
      "cell_type": "markdown",
      "metadata": {
        "id": "zJoLNsYdDIJS"
      },
      "source": [
        "# Question 3 (4 points) \n",
        "Train the recommendation system and apply them:\n",
        "\n"
      ]
    },
    {
      "cell_type": "markdown",
      "metadata": {
        "id": "ZRuz93l_ti-y"
      },
      "source": [
        "## Question 3.1 (1 p)\n",
        "Initialize two KNN models with cosine similarity, one with n_neighbours = 3 and another with n_neighbours = 5."
      ]
    },
    {
      "cell_type": "code",
      "metadata": {
        "id": "wMJJ8MaVtww4"
      },
      "source": [
        ""
      ],
      "execution_count": null,
      "outputs": []
    },
    {
      "cell_type": "markdown",
      "metadata": {
        "id": "fo1o7jE9tn9A"
      },
      "source": [
        "## Question 3.2 (1 p)\n",
        "Train those two models on a sparse matrix made in Q2.\n"
      ]
    },
    {
      "cell_type": "code",
      "metadata": {
        "id": "i52rJSHOtpRw"
      },
      "source": [
        ""
      ],
      "execution_count": null,
      "outputs": []
    },
    {
      "cell_type": "markdown",
      "metadata": {
        "id": "lgT_IxnytqQA"
      },
      "source": [
        "## Question 3.3 (2 p)\n",
        "Using fuzzy_matching and make_recommendation functions from the lab session make a recommendation of 3 books based on your favourite book.\n",
        "\n",
        "**fuzzy_matching** function is used for strings similarity score calculation since the recommendation you are getting are based on the similarity of book titles. **make_recommendation** function, in turn, is used for applying a trained KNN model to make the recommendation."
      ]
    },
    {
      "cell_type": "code",
      "metadata": {
        "id": "qs5yMcevt6Jz"
      },
      "source": [
        ""
      ],
      "execution_count": null,
      "outputs": []
    },
    {
      "cell_type": "markdown",
      "metadata": {
        "id": "69BEMW1PHUq9"
      },
      "source": [
        "# How complicate the homework was (from 0 to 10)?"
      ]
    },
    {
      "cell_type": "markdown",
      "metadata": {
        "id": "5XDCsafnHU0D"
      },
      "source": [
        "# How many hours you spent for this homework?"
      ]
    }
  ]
}