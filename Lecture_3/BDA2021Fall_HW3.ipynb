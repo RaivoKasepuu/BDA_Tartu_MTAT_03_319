{
  "nbformat": 4,
  "nbformat_minor": 0,
  "metadata": {
    "kernelspec": {
      "display_name": "Python 3",
      "language": "python",
      "name": "python3"
    },
    "language_info": {
      "codemirror_mode": {
        "name": "ipython",
        "version": 3
      },
      "file_extension": ".py",
      "mimetype": "text/x-python",
      "name": "python",
      "nbconvert_exporter": "python",
      "pygments_lexer": "ipython3",
      "version": "3.6.9"
    },
    "colab": {
      "name": "BDA2021Fall_HW3.ipynb",
      "provenance": [],
      "collapsed_sections": [],
      "include_colab_link": true
    }
  },
  "cells": [
    {
      "cell_type": "markdown",
      "metadata": {
        "id": "view-in-github",
        "colab_type": "text"
      },
      "source": [
        "<a href=\"https://colab.research.google.com/github/RaivoKasepuu/BDA_Tartu_MTAT_03_319/blob/master/BDA2021Fall_HW3.ipynb\" target=\"_parent\"><img src=\"https://colab.research.google.com/assets/colab-badge.svg\" alt=\"Open In Colab\"/></a>"
      ]
    },
    {
      "cell_type": "markdown",
      "metadata": {
        "id": "rCKp_nTUTBu-"
      },
      "source": [
        "<div class=\"alert alert-block alert-info\"><b></b>\n",
        "<h1><center> <font color='black'> Homework 03  </font></center></h1>\n",
        "<h2><center> <font color='black'> Customer Segmentation</font></center></h2>   \n",
        "<h2><center> <font color='black'> MTAT.03.319 - Business Data Analytics</font></center></h2>\n",
        "<h2><center> <font color='black'> University of Tartu - Fall 2021</font></center></h2>\n",
        "</div>"
      ]
    },
    {
      "cell_type": "markdown",
      "metadata": {
        "id": "OomiJ1fVS-bG"
      },
      "source": [
        "# Homework instructions\n",
        "- Please name your homeworks in the following format BDAFall2021_HWX_Name_Surname.ipynb then it will be easier to grade your homeworks and smaller possibility for a human mistake.\n",
        "- Please provide the names and student IDs of the team-members (Maximum 2 person) in the field \"Team mates\" below. If you are not working in a team please insert only your name and student ID. \n",
        "\n",
        "- The accepted submission formats are Colab links or .ipynb files. If you are submitting Colab links please make sure that the privacy settings for the file is public so we can access your code. \n",
        "\n",
        "- The submission will automatically close on <font color='red'>**20 October at 23:59**</font>, so please make sure to submit before the deadline. \n",
        "\n",
        "- ONLY one of the teammates should submit the homework. We will grade the homework and the marks and feedback is applied for both the team members. So please communicate with your team member about marks and feedback if you are submit the homework.\n",
        "\n",
        "- If a question is not clear, please ask us in Moodle ONLY. \n",
        "\n",
        "- For coding related questions, do submit your code as well as your explanation/answer. (Check the homework Description video to know more about it)\n",
        "\n",
        "- After you have finished solving the Homework, please restart the Kernel and run all the cells to check if there is any persisting issues. \n",
        "\n",
        "- Plagiarism is <font color='red'>**PROHIBITED**</font>. Any form of plagiarism will be dealt according to the university policy (https://www.ut.ee/en/current-students/academic-fraud).\n",
        "\n",
        "- Please <font color='red'>do not change</font> the template of this notebook file. You can download the .ipynb file and work on that.\n"
      ]
    },
    {
      "cell_type": "markdown",
      "metadata": {
        "id": "sQgPTMbtWH62"
      },
      "source": [
        "**<h2><font color='red'>Team mates:</font></h2>**\n",
        "\n",
        "\n",
        "<font color='red'>Name: </font>&emsp;   <font color='red'>Student ID: </font>\n",
        "\n",
        "\n",
        "<font color='red'>Name: </font>&emsp;   <font color='red'>Student ID: </font>"
      ]
    },
    {
      "cell_type": "code",
      "metadata": {
        "id": "5xEnyBBcmKH9"
      },
      "source": [
        ""
      ],
      "execution_count": null,
      "outputs": []
    },
    {
      "cell_type": "markdown",
      "metadata": {
        "id": "9Nks4jf3ywcu"
      },
      "source": [
        "\n",
        "\n",
        "\n",
        "At the end of the homework, please measure its complexity from 0 to 10 (0 - very easy, 10 - enormously hard).\n"
      ]
    },
    {
      "cell_type": "code",
      "metadata": {
        "id": "HUKq2c54qVqI"
      },
      "source": [
        "import pandas as pd"
      ],
      "execution_count": null,
      "outputs": []
    },
    {
      "cell_type": "code",
      "metadata": {
        "id": "dyf95Jb7m_Vd"
      },
      "source": [
        "df = pd.read_csv('Clients-and-Order.csv')"
      ],
      "execution_count": null,
      "outputs": []
    },
    {
      "cell_type": "markdown",
      "metadata": {
        "id": "cuSlZdA0X_Ta"
      },
      "source": [
        "## Question 1  (2.5 points in total)"
      ]
    },
    {
      "cell_type": "markdown",
      "metadata": {
        "id": "XAe3C-y5XcvD"
      },
      "source": [
        "### Question 1.1 (0.5 points)"
      ]
    },
    {
      "cell_type": "markdown",
      "metadata": {
        "id": "THC0WT0wKEOu"
      },
      "source": [
        "Using Clients-and-Order data, perform the RFM analysis. Repeat the tasks which have been done during the lab session and calculate the RFM_score for reporting date '2017-04-11' which is max order date."
      ]
    },
    {
      "cell_type": "code",
      "metadata": {
        "id": "uNtirTQHKFjm"
      },
      "source": [
        ""
      ],
      "execution_count": null,
      "outputs": []
    },
    {
      "cell_type": "markdown",
      "metadata": {
        "id": "-9kOxypgXgMU"
      },
      "source": [
        "### Question 1.2 (0.5 points)"
      ]
    },
    {
      "cell_type": "markdown",
      "metadata": {
        "id": "S5DA885SLx_i"
      },
      "source": [
        " Also, do the same but with a new reporting date  '2017-04-01'.\n",
        "(Create a dataset with the 'order_date' < '2017-04-02 00:00:00')\n",
        "Store recency, frequency, monetary, RFM_score for both datasets, so that for each client you have two sets of measures."
      ]
    },
    {
      "cell_type": "code",
      "metadata": {
        "id": "h54PEfezLxH9"
      },
      "source": [
        ""
      ],
      "execution_count": null,
      "outputs": []
    },
    {
      "cell_type": "markdown",
      "metadata": {
        "id": "SzqwLw3iXjY2"
      },
      "source": [
        "### Question 1.3 (1 point)"
      ]
    },
    {
      "cell_type": "markdown",
      "metadata": {
        "id": "4YNHmC45X_Tf"
      },
      "source": [
        "\n",
        "\n",
        "Compare the results for two reporting dates . Do you see any significant difference in distributions of three measures?\n",
        "\n",
        "One way to compare the results is to visually compare the distribution of measures (recency, frequency, monetary). \n",
        "\n",
        "\n",
        "\n",
        "\n"
      ]
    },
    {
      "cell_type": "code",
      "metadata": {
        "id": "3LAU98AKKQIV"
      },
      "source": [
        ""
      ],
      "execution_count": null,
      "outputs": []
    },
    {
      "cell_type": "markdown",
      "metadata": {
        "id": "LALebA1CXnQ1"
      },
      "source": [
        "### Question 1.4 (0.5 points)"
      ]
    },
    {
      "cell_type": "markdown",
      "metadata": {
        "id": "l310ybl4KRlM"
      },
      "source": [
        "Calculate the number of customers who changed thier Recency, Frequency, Monetary clusters and RMF Score.\n",
        "Analyze why this has happened? \n",
        "Write your code instead of X below "
      ]
    },
    {
      "cell_type": "code",
      "metadata": {
        "id": "raHu2crBKRGt"
      },
      "source": [
        "print(\"Recency cluster changed for \" + X + \" customers\")\n",
        "print(\"Frequency cluster changed for \" + X + \" customers\")\n",
        "print(\"Monetary cluster changed for \" + X + \" customers\")\n",
        "print(\"RFM_Score changed for \" + X + \" customers\")"
      ],
      "execution_count": null,
      "outputs": []
    },
    {
      "cell_type": "markdown",
      "metadata": {
        "id": "2AJX-_iCX_Tj"
      },
      "source": [
        "## Question 2  (3.5 points in total)"
      ]
    },
    {
      "cell_type": "markdown",
      "metadata": {
        "id": "j1GbbL9SX_To"
      },
      "source": [
        "Imagine that you are working in a company that offers different types of furniture. Use the customer survey data “customer_survey.csv” that contains information on\n",
        "customers. Description of the dataset is as follows:\n",
        "* age: age of the customer\n",
        "* gender: male or female\n",
        "* income: total income of the customer\n",
        "* kids: number of kids\n",
        "* ownHome: whether a customer owns a house or not\n",
        "* subscribe: whether customer subscribed to mailing service or not"
      ]
    },
    {
      "cell_type": "markdown",
      "metadata": {
        "id": "pXDjAyyDX_Ty"
      },
      "source": [
        "### Question 2.1 (1 point) \n",
        "Convert all factor columns to numerical. Each different value should be converted to separate number (for example, Yes => 1; No => 0). \n",
        "\n",
        "You can use data[\"Column\"].map(dict) funciton, where dict is a dictionary of values you want to convert (for the above example it will be dict = {'No' : 0, 'Yes' : 1}). (0.5p)\n",
        "\n",
        "\n",
        "\n",
        "\n"
      ]
    },
    {
      "cell_type": "code",
      "metadata": {
        "id": "GOUiwE4tSLWP"
      },
      "source": [
        ""
      ],
      "execution_count": null,
      "outputs": []
    },
    {
      "cell_type": "markdown",
      "metadata": {
        "id": "6qYrYuWZSLrt"
      },
      "source": [
        " Rescale all columns.(0.5p)"
      ]
    },
    {
      "cell_type": "code",
      "metadata": {
        "id": "tmeIeZZESMyF"
      },
      "source": [
        ""
      ],
      "execution_count": null,
      "outputs": []
    },
    {
      "cell_type": "markdown",
      "metadata": {
        "id": "hUsj0racX_UH"
      },
      "source": [
        "### Question 2.2 (2.5 point) "
      ]
    },
    {
      "cell_type": "markdown",
      "metadata": {
        "id": "L-y4ZnvLX_UM"
      },
      "source": [
        "Select 30 records randomly from the dataset and perform hierarchical clustering and build a dendrogram based on this 30 records.\n",
        "To find random indices you can use the following code:\n",
        "\n",
        "idxs = np.random.choice(range(0, data.shape[0]), N_random_points, replace=True)\n",
        "(2p)\n"
      ]
    },
    {
      "cell_type": "code",
      "metadata": {
        "id": "lNRroSk2PNL8"
      },
      "source": [
        ""
      ],
      "execution_count": null,
      "outputs": []
    },
    {
      "cell_type": "markdown",
      "metadata": {
        "id": "XEIT13TXPIvO"
      },
      "source": [
        "Take two clusters that are close to each other (closeness should be defined based on a dendrogram), let's say those are cluster1 and cluster2. Also, take 2 random clusters (far from each other and far from cluster1 and cluster2), let's say those are cluster3 and cluster4. Print rows corresponding for those clusters. \n",
        "\n",
        "HINT: In agglomerative clustering algorithm, each row at the beginning is a separate cluster, meaning that if we have 50 rows in the dataset - there will be 50 clusters (in the beginning).(However, if we continue running the algorithm - the number of clusters will decrease until they all are combined together to the one cluster.)"
      ]
    },
    {
      "cell_type": "code",
      "metadata": {
        "id": "eF0LSSrQR8gc"
      },
      "source": [
        ""
      ],
      "execution_count": null,
      "outputs": []
    },
    {
      "cell_type": "markdown",
      "metadata": {
        "id": "TzDtdO0KX_US"
      },
      "source": [
        "## Question 3 (4 point) "
      ]
    },
    {
      "cell_type": "markdown",
      "metadata": {
        "id": "lf8KAgh-X_UW"
      },
      "source": [
        "In this task we will compare K-Means and Hierarchical clustering on the same dataset. \n",
        "\n",
        "Use the same RFM dataset with the reporting date being 2017-04-01 that you have calculated in the Q1.\n",
        "\n",
        "First, in Q3.1 perform K-Means clusterring, then in Q3.2 visualize and compare. \n",
        "\n",
        "Find the cluster numbers for each of the datapoint in each algorithm and visualize customers with colors representing the clusters. Choose the dimensions for the plot of your own, for example, it can be (frequency, recency) or (monetary, frequence). Use 5 as the number of clusters for K-Means and Hierarchical clustering.\n"
      ]
    },
    {
      "cell_type": "markdown",
      "metadata": {
        "id": "TKTuezyvX5Vm"
      },
      "source": [
        "### Question 3.1 (2p)"
      ]
    },
    {
      "cell_type": "markdown",
      "metadata": {
        "id": "pQV08I-pYFyP"
      },
      "source": [
        "Perform K-Means clusterring"
      ]
    },
    {
      "cell_type": "markdown",
      "metadata": {
        "id": "AJCxXXcRYK7u"
      },
      "source": [
        "### Question 3.2 (2p)"
      ]
    },
    {
      "cell_type": "markdown",
      "metadata": {
        "id": "IEJcp0uoYoQl"
      },
      "source": [
        "Compare K-Means and Hierarchical clustering.\n",
        "For comparison, we will visualize customers in two-dimensional space (by selecting two features out of recency, frequency, monetary) where customers are colored according to the cluster they belong to (1.5p).\n",
        "\n",
        "Compare the output of two algorithms. According to you which algorithm has provided the best clustering? (0.5p)"
      ]
    },
    {
      "cell_type": "markdown",
      "metadata": {
        "id": "q2kT_6zp5r1u"
      },
      "source": [
        "HINT: Here is the example of how to paint the customers according to their clusters in the dimension (Col1, Col2)."
      ]
    },
    {
      "cell_type": "code",
      "metadata": {
        "id": "p_XeEYDNvXaw",
        "colab": {
          "base_uri": "https://localhost:8080/",
          "height": 301
        },
        "outputId": "71fff107-ad84-4d35-d7ce-ee08ac27e87f"
      },
      "source": [
        "plt.scatter(data['Col1'], data['Col2'], c=clusters, cmap=\"plasma\")\n",
        "plt.xlabel('Col1')\n",
        "plt.ylabel('Col2')"
      ],
      "execution_count": null,
      "outputs": [
        {
          "output_type": "execute_result",
          "data": {
            "text/plain": [
              "Text(0, 0.5, 'Col2')"
            ]
          },
          "metadata": {
            "tags": []
          },
          "execution_count": 45
        },
        {
          "output_type": "display_data",
          "data": {
            "image/png": "[encoded data removed]",
            "text/plain": [
              "<Figure size 432x288 with 1 Axes>"
            ]
          },
          "metadata": {
            "tags": [],
            "needs_background": "light"
          }
        }
      ]
    },
    {
      "cell_type": "code",
      "metadata": {
        "id": "nY0zKE6VYjBa"
      },
      "source": [
        ""
      ],
      "execution_count": null,
      "outputs": []
    },
    {
      "cell_type": "markdown",
      "metadata": {
        "id": "cZ4URwBo8zLv"
      },
      "source": [
        "## How complicate the homework was (from 0 to 10)?\n",
        "\n"
      ]
    },
    {
      "cell_type": "markdown",
      "metadata": {
        "id": "qi26iRYxUQfH"
      },
      "source": [
        "Answer:"
      ]
    },
    {
      "cell_type": "markdown",
      "metadata": {
        "id": "7zXVqnTKZWzR"
      },
      "source": [
        "## How many hours you spent for this homework?\n",
        "\n",
        "\n",
        "\n"
      ]
    },
    {
      "cell_type": "markdown",
      "metadata": {
        "id": "KP_qhXUQUZpw"
      },
      "source": [
        "Answer:"
      ]
    }
  ]
}