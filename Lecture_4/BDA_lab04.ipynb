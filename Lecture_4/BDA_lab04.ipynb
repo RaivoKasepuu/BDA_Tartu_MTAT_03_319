{
  "nbformat": 4,
  "nbformat_minor": 0,
  "metadata": {
    "colab": {
      "name": "BDA-lab04",
      "provenance": [],
      "collapsed_sections": [],
      "include_colab_link": true
    },
    "kernelspec": {
      "name": "python3",
      "display_name": "Python 3"
    }
  },
  "cells": [
    {
      "cell_type": "markdown",
      "metadata": {
        "id": "view-in-github",
        "colab_type": "text"
      },
      "source": [
        "<a href=\"https://colab.research.google.com/github/RaivoKasepuu/BDA_Tartu_MTAT_03_319/blob/master/BDA_lab04.ipynb\" target=\"_parent\"><img src=\"https://colab.research.google.com/assets/colab-badge.svg\" alt=\"Open In Colab\"/></a>"
      ]
    },
    {
      "cell_type": "markdown",
      "metadata": {
        "id": "zilZ5ck5l4IO"
      },
      "source": [
        "<div class=\"alert alert-block alert-info\"><b></b>\n",
        "<h1><center> <font color='black'>  Business Data Analytics - Practice Session_04  </font></center></h1>\n",
        "<h2><center> <font color='black'> Customer lifecycle management - regression</font></center></h3>\n",
        "<h2><center> <font color='black'> University of Tartu</font></center></h3>\n",
        "</div>"
      ]
    },
    {
      "cell_type": "markdown",
      "metadata": {
        "id": "VAgIG033s3XP"
      },
      "source": [
        "## Introduction\n",
        "\n",
        "1. <font size=\"2\">Business relationships with the customers are not **static** – they change over time. It is crucial for the company to understand these dynamic processes.</font>\n",
        "\n",
        "\n",
        "2. <font size=\"2\">The customer relationship management **(CRM)** is a huge area that encompasses multiple practices, directions, and approaches related to customer interactions with the business.</font>\n",
        "\n",
        "\n",
        "3. <font size=\"2\">One of the central directions is the **Customer Lifecycle Value (CLV)**,which represents the expected revenue earned from customer over their lifetime and this is the topic of today's session. **We will illustrate two different approaches to study the** </font>\n",
        "\n",
        "    * <font size=\"2\">The first approach that we will study is based on **heuristics**, where we do not use any automatic methods, but a fairly simple analysis in order to calculate Customer Lifetime Value (CLV). </font>      \n",
        "        \n",
        "    * <font size=\"2\">Then, we will learn how to use **simple and multiple linear regressions** in the context of CRM. We will follow the **machine learning** practices discussed during the lecture.</font>\n",
        "\n"
      ]
    },
    {
      "cell_type": "markdown",
      "metadata": {
        "id": "8A2ZIOpayfD6"
      },
      "source": [
        "## What are we actually doing?\n",
        "\n",
        "Source: https://towardsdatascience.com/introduction-to-regression-analysis-9151d8ac14b3\n",
        "\n",
        "Machine learning tasks can be gathered into the four following categories:"
      ]
    },
    {
      "cell_type": "markdown",
      "metadata": {
        "id": "uiH4u2VIzsvi"
      },
      "source": [
        "![picture](https://miro.medium.com/max/700/1*vJsXYNlr_GyFc2qrpZGsvA.png)"
      ]
    },
    {
      "cell_type": "markdown",
      "metadata": {
        "id": "mDw8C7bC851L"
      },
      "source": [
        "## What is regression?\n",
        "\n",
        "Regression is the statistical approach to find the relationship between variables. Hence, the Linear Regression assumes a linear relationship between variables.\n",
        "\n",
        "The most common model in regression analysis is [linear regression](https://en.wikipedia.org/wiki/Linear_regression). This model finds the relationship between the independent and dependent variables by fitting a linear equation. \n",
        "\n",
        "Simple linear is an approach for predicting the quantitative response Y based on single predictor variable X.\n",
        "\n",
        "![picture](https://miro.medium.com/max/175/1*9UifhcxvAiTTQI8nU0ymGw.png)\n",
        "\n",
        "This is the equation of straight-line having slope β1 and intercept β0. Read [this](https://towardsdatascience.com/the-complete-guide-to-linear-regression-analysis-38a421a89dc2) article for more.\n",
        "\n",
        "Simply, the whole idea of the linear Regression is to find the best fit line,which has very low error(cost function).\n",
        "This line is also called Least Square Regression Line(LSRL).\n",
        "\n",
        "####Properties of the Regression line:\n",
        "1. The line minimizes the sum of squared difference between the observed values(actual y-value) and the predicted value(ŷ value)\n",
        "2. The line passes through the mean of independent and dependent features.\n",
        "\n",
        "![picture](https://miro.medium.com/max/602/1*FLgxx9NbqgHT0sqfz-DBaA.png)\n",
        "\n",
        "Deep-dive into Linear Regression: https://medium.com/analytics-vidhya/understanding-the-linear-regression-808c1f6941c0"
      ]
    },
    {
      "cell_type": "markdown",
      "metadata": {
        "id": "nStOteSj67QU"
      },
      "source": [
        "## Ok, so what are the steps?"
      ]
    },
    {
      "cell_type": "markdown",
      "metadata": {
        "id": "iQu_qdgu7l1D"
      },
      "source": [
        "<img src=\"https://i.ibb.co/6Zzq2dC/Regression-steps.png\">"
      ]
    },
    {
      "cell_type": "markdown",
      "metadata": {
        "id": "lqHHty9uPsZ-"
      },
      "source": [
        "Check [this article](https://gogul.dev/software/first-neural-network-keras) to see what are the steps of training a model in Machine Learning."
      ]
    },
    {
      "cell_type": "markdown",
      "metadata": {
        "id": "UJkhinxyCMnQ"
      },
      "source": [
        "## 1. Let’s install & load the required packages:\n",
        "\n",
        "![picture](https://i.ibb.co/3dccMTC/Regression-steps-1.png)"
      ]
    },
    {
      "cell_type": "code",
      "metadata": {
        "id": "pYVBC2b3CO3r"
      },
      "source": [
        "%matplotlib inline\n",
        "\n",
        "import numpy as np\n",
        "import pandas as pd\n",
        "import matplotlib.pyplot as plt\n",
        "import seaborn as sns\n",
        "\n",
        "#Let's make this notebook reproducible, you can use any number ex = 42\n",
        "np.random.seed(42)"
      ],
      "execution_count": null,
      "outputs": []
    },
    {
      "cell_type": "markdown",
      "metadata": {
        "id": "PbHubwQXC0XE"
      },
      "source": [
        "## 2. Read customer transaction dataset\n",
        "\n",
        "![picture](https://i.ibb.co/YPMtBVs/Regression-steps-2.png)"
      ]
    },
    {
      "cell_type": "code",
      "metadata": {
        "id": "5RCMmn_WC3PP",
        "colab": {
          "base_uri": "https://localhost:8080/",
          "height": 358
        },
        "outputId": "7f1ac331-9c28-4d59-eb7c-6100e60edaf8"
      },
      "source": [
        "# read customer transaction data using pandas package as a dataframe\n",
        "df = pd.read_csv(\"lab_04_clv_transactions.csv\")\n",
        "\n",
        "# get the first 10 rows from the df\n",
        "df.head(10)"
      ],
      "execution_count": null,
      "outputs": [
        {
          "output_type": "execute_result",
          "data": {
            "text/html": [
              "<div>\n",
              "<style scoped>\n",
              "    .dataframe tbody tr th:only-of-type {\n",
              "        vertical-align: middle;\n",
              "    }\n",
              "\n",
              "    .dataframe tbody tr th {\n",
              "        vertical-align: top;\n",
              "    }\n",
              "\n",
              "    .dataframe thead th {\n",
              "        text-align: right;\n",
              "    }\n",
              "</style>\n",
              "<table border=\"1\" class=\"dataframe\">\n",
              "  <thead>\n",
              "    <tr style=\"text-align: right;\">\n",
              "      <th></th>\n",
              "      <th>transaction_id</th>\n",
              "      <th>transaction_date</th>\n",
              "      <th>customer_id</th>\n",
              "      <th>amount</th>\n",
              "    </tr>\n",
              "  </thead>\n",
              "  <tbody>\n",
              "    <tr>\n",
              "      <th>0</th>\n",
              "      <td>1</td>\n",
              "      <td>2012-09-04</td>\n",
              "      <td>1</td>\n",
              "      <td>20.96</td>\n",
              "    </tr>\n",
              "    <tr>\n",
              "      <th>1</th>\n",
              "      <td>2</td>\n",
              "      <td>2012-05-15</td>\n",
              "      <td>2</td>\n",
              "      <td>10.87</td>\n",
              "    </tr>\n",
              "    <tr>\n",
              "      <th>2</th>\n",
              "      <td>3</td>\n",
              "      <td>2014-05-23</td>\n",
              "      <td>2</td>\n",
              "      <td>2.21</td>\n",
              "    </tr>\n",
              "    <tr>\n",
              "      <th>3</th>\n",
              "      <td>4</td>\n",
              "      <td>2014-10-24</td>\n",
              "      <td>2</td>\n",
              "      <td>10.48</td>\n",
              "    </tr>\n",
              "    <tr>\n",
              "      <th>4</th>\n",
              "      <td>5</td>\n",
              "      <td>2012-10-13</td>\n",
              "      <td>2</td>\n",
              "      <td>3.94</td>\n",
              "    </tr>\n",
              "    <tr>\n",
              "      <th>5</th>\n",
              "      <td>6</td>\n",
              "      <td>2013-01-23</td>\n",
              "      <td>2</td>\n",
              "      <td>12.37</td>\n",
              "    </tr>\n",
              "    <tr>\n",
              "      <th>6</th>\n",
              "      <td>7</td>\n",
              "      <td>2014-03-09</td>\n",
              "      <td>2</td>\n",
              "      <td>1.59</td>\n",
              "    </tr>\n",
              "    <tr>\n",
              "      <th>7</th>\n",
              "      <td>8</td>\n",
              "      <td>2013-11-17</td>\n",
              "      <td>2</td>\n",
              "      <td>2.75</td>\n",
              "    </tr>\n",
              "    <tr>\n",
              "      <th>8</th>\n",
              "      <td>9</td>\n",
              "      <td>2014-10-10</td>\n",
              "      <td>2</td>\n",
              "      <td>3.51</td>\n",
              "    </tr>\n",
              "    <tr>\n",
              "      <th>9</th>\n",
              "      <td>10</td>\n",
              "      <td>2012-11-26</td>\n",
              "      <td>3</td>\n",
              "      <td>21.58</td>\n",
              "    </tr>\n",
              "  </tbody>\n",
              "</table>\n",
              "</div>"
            ],
            "text/plain": [
              "   transaction_id transaction_date  customer_id  amount\n",
              "0               1       2012-09-04            1   20.96\n",
              "1               2       2012-05-15            2   10.87\n",
              "2               3       2014-05-23            2    2.21\n",
              "3               4       2014-10-24            2   10.48\n",
              "4               5       2012-10-13            2    3.94\n",
              "5               6       2013-01-23            2   12.37\n",
              "6               7       2014-03-09            2    1.59\n",
              "7               8       2013-11-17            2    2.75\n",
              "8               9       2014-10-10            2    3.51\n",
              "9              10       2012-11-26            3   21.58"
            ]
          },
          "metadata": {},
          "execution_count": 23
        }
      ]
    },
    {
      "cell_type": "markdown",
      "metadata": {
        "id": "RbhX50CYENRB"
      },
      "source": [
        "**CLV transaction dataset contains four column as follow:**\n",
        "* **transaction_id** - unique ID of some transaction;\n",
        "* **transaction_date** - date when transaction was executed;\n",
        "* **customer_id** - unique ID of the customer;\n",
        "* **amount** - total amount of money that were transfered.\n"
      ]
    },
    {
      "cell_type": "code",
      "metadata": {
        "id": "323v12yTEQag",
        "colab": {
          "base_uri": "https://localhost:8080/"
        },
        "outputId": "b7b9499f-61eb-46e0-9da2-1efc96e40516"
      },
      "source": [
        "# get info about our df\n",
        "df.info()\n",
        "\n",
        "# summary statistics \n",
        "print (df.describe())"
      ],
      "execution_count": null,
      "outputs": [
        {
          "output_type": "stream",
          "name": "stdout",
          "text": [
            "<class 'pandas.core.frame.DataFrame'>\n",
            "RangeIndex: 4181 entries, 0 to 4180\n",
            "Data columns (total 4 columns):\n",
            " #   Column            Non-Null Count  Dtype  \n",
            "---  ------            --------------  -----  \n",
            " 0   transaction_id    4181 non-null   int64  \n",
            " 1   transaction_date  4181 non-null   object \n",
            " 2   customer_id       4181 non-null   int64  \n",
            " 3   amount            4181 non-null   float64\n",
            "dtypes: float64(1), int64(2), object(1)\n",
            "memory usage: 130.8+ KB\n",
            "       transaction_id  customer_id       amount\n",
            "count     4181.000000  4181.000000  4181.000000\n",
            "mean      2091.000000   516.332217     8.067426\n",
            "std       1207.095067   291.209738     6.007071\n",
            "min          1.000000     1.000000     0.010000\n",
            "25%       1046.000000   270.000000     3.310000\n",
            "50%       2091.000000   522.000000     6.880000\n",
            "75%       3136.000000   762.000000    11.690000\n",
            "max       4181.000000  1000.000000    38.350000\n"
          ]
        }
      ]
    },
    {
      "cell_type": "markdown",
      "metadata": {
        "id": "QqCN5dF7EfES"
      },
      "source": [
        "## <font color='black'> 3.1 Customer Lifecycle Value:</font>\n",
        "\n",
        "<font size=\"2\">Our goal here is to calculate **CLV**, which is the expected revenue earned from custmer over their lifetime during the entire relationship with the company. CLV is a metric that can be used for many different purposes:</font>\n",
        "\n",
        "* <font size=\"2\">Estimation of the customer value in order to target the most valuable ones.\n",
        "* <font size=\"2\">Reference for the markieting campaigns: how much to spend or whether to spend? and monitoring the impact of such campaign.\n",
        "* <font size=\"2\">Measurement of customer loyalty.\n",
        "* <font size=\"2\">Optimization of resource allocation.\n",
        "* <font size=\"2\">etc..\n",
        "   \n",
        "\n",
        "<font size=\"2\">There are many methodologies of CLV, which can be very complex and include all the details taking into account all the spendings. More generally.  **CLV can be divided into two broad categoris:**</font>\n",
        "1. <font size=\"2\">**Historical CLV**:  where we do not use any automatic methods, but a fairly simple analysis in order to calculate Customer Lifetime Value (CLV).</font>\n",
        "\n",
        "2. <font size=\"2\">**Predictive CLV**: where we perform machine learning methods to apply predictive modles.</font>\n",
        "\n",
        "<font size=\"2\">Let us take the simple approach and calculate the historical value.</font>\n",
        "\n"
      ]
    },
    {
      "cell_type": "markdown",
      "metadata": {
        "id": "VgIHDWU2EjH7"
      },
      "source": [
        "## Start with the simple approach and calculate the historical value.\n",
        "\n",
        "**CLV** is the cumulative spending per customer over time divided by amount of new customers each year\n",
        "\n",
        "![picture](https://i.ibb.co/TqMdTsw/Regression-steps-3-1.png)"
      ]
    },
    {
      "cell_type": "code",
      "metadata": {
        "id": "FEkx6kLLElpm",
        "colab": {
          "base_uri": "https://localhost:8080/",
          "height": 427
        },
        "outputId": "3c122f3b-800b-4a87-eef7-e10478ce4f2f"
      },
      "source": [
        "# histogram of transactional amounts\n",
        "# Plot the distribution of all amounts that different customers spent\n",
        "# with different transactions. \n",
        "\n",
        "# set figure properties\n",
        "from matplotlib.pyplot import figure\n",
        "figure(figsize=(8, 6))\n",
        "\n",
        "# histogram bins \n",
        "# linspace returns evenly spaced numbers over a specified interval\n",
        "bins = np.linspace(0, 40)\n",
        "\n",
        "# set titles for figure, x, y\n",
        "plt.title('histogram of transactional amounts',fontsize=20)\n",
        "plt.xlabel('Amount', fontsize=20)\n",
        "plt.ylabel('Count',fontsize=20)\n",
        "\n",
        "\n",
        "# plot histogram using plt.hist()\n",
        "plt.hist(df.amount, bins, alpha=0.7, histtype='bar', ec='black')\n",
        "\n",
        "plt.xticks(fontsize = 20) \n",
        "plt.yticks(fontsize = 20) \n",
        "plt.grid(True)\n",
        "plt.show() "
      ],
      "execution_count": null,
      "outputs": [
        {
          "output_type": "display_data",
          "data": {
            "image/png": "[encoded data removed]",
            "text/plain": [
              "<Figure size 576x432 with 1 Axes>"
            ]
          },
          "metadata": {
            "needs_background": "light"
          }
        }
      ]
    },
    {
      "cell_type": "markdown",
      "metadata": {
        "id": "iBTVf-2IEvlf"
      },
      "source": [
        "**Let’s keep the raw dataset unchanged and create a new dataset, where we start to collect required features about active customers:**\n",
        "1. customers_unique\n",
        "2. transactions_unique \t\n",
        "3. amount \t\n",
        "4. cumulative_amount\n",
        "5. customer retention rate\n",
        "6. transactions per customer\n",
        "7. amount per transaction\n",
        "\n",
        "* get the year only from the transaction_date feature."
      ]
    },
    {
      "cell_type": "code",
      "metadata": {
        "id": "1MQEaWmTFDAp"
      },
      "source": [
        "def f(x):\n",
        "    return 3*x+1\n",
        "\n",
        "# Lambda expression is anonymous function\n",
        "# function without a name\n",
        "# lambda input: return_value\n",
        "g = lambda x: 3*x +1"
      ],
      "execution_count": null,
      "outputs": []
    },
    {
      "cell_type": "code",
      "metadata": {
        "id": "a191jAXtFGCZ",
        "colab": {
          "base_uri": "https://localhost:8080/"
        },
        "outputId": "6cf5d9cf-ee9f-4683-8dc0-a4c126873aa6"
      },
      "source": [
        "print(f(2))\n",
        "print(g(2))"
      ],
      "execution_count": null,
      "outputs": [
        {
          "output_type": "stream",
          "name": "stdout",
          "text": [
            "7\n",
            "7\n"
          ]
        }
      ]
    },
    {
      "cell_type": "code",
      "metadata": {
        "colab": {
          "base_uri": "https://localhost:8080/",
          "height": 204
        },
        "id": "tfTs-sAJ-kQb",
        "outputId": "a4c0d994-34ee-43e5-87c3-e00d484342fa"
      },
      "source": [
        "df.head()"
      ],
      "execution_count": null,
      "outputs": [
        {
          "output_type": "execute_result",
          "data": {
            "text/html": [
              "<div>\n",
              "<style scoped>\n",
              "    .dataframe tbody tr th:only-of-type {\n",
              "        vertical-align: middle;\n",
              "    }\n",
              "\n",
              "    .dataframe tbody tr th {\n",
              "        vertical-align: top;\n",
              "    }\n",
              "\n",
              "    .dataframe thead th {\n",
              "        text-align: right;\n",
              "    }\n",
              "</style>\n",
              "<table border=\"1\" class=\"dataframe\">\n",
              "  <thead>\n",
              "    <tr style=\"text-align: right;\">\n",
              "      <th></th>\n",
              "      <th>transaction_id</th>\n",
              "      <th>transaction_date</th>\n",
              "      <th>customer_id</th>\n",
              "      <th>amount</th>\n",
              "    </tr>\n",
              "  </thead>\n",
              "  <tbody>\n",
              "    <tr>\n",
              "      <th>0</th>\n",
              "      <td>1</td>\n",
              "      <td>2012-09-04</td>\n",
              "      <td>1</td>\n",
              "      <td>20.96</td>\n",
              "    </tr>\n",
              "    <tr>\n",
              "      <th>1</th>\n",
              "      <td>2</td>\n",
              "      <td>2012-05-15</td>\n",
              "      <td>2</td>\n",
              "      <td>10.87</td>\n",
              "    </tr>\n",
              "    <tr>\n",
              "      <th>2</th>\n",
              "      <td>3</td>\n",
              "      <td>2014-05-23</td>\n",
              "      <td>2</td>\n",
              "      <td>2.21</td>\n",
              "    </tr>\n",
              "    <tr>\n",
              "      <th>3</th>\n",
              "      <td>4</td>\n",
              "      <td>2014-10-24</td>\n",
              "      <td>2</td>\n",
              "      <td>10.48</td>\n",
              "    </tr>\n",
              "    <tr>\n",
              "      <th>4</th>\n",
              "      <td>5</td>\n",
              "      <td>2012-10-13</td>\n",
              "      <td>2</td>\n",
              "      <td>3.94</td>\n",
              "    </tr>\n",
              "  </tbody>\n",
              "</table>\n",
              "</div>"
            ],
            "text/plain": [
              "   transaction_id transaction_date  customer_id  amount\n",
              "0               1       2012-09-04            1   20.96\n",
              "1               2       2012-05-15            2   10.87\n",
              "2               3       2014-05-23            2    2.21\n",
              "3               4       2014-10-24            2   10.48\n",
              "4               5       2012-10-13            2    3.94"
            ]
          },
          "metadata": {},
          "execution_count": 27
        }
      ]
    },
    {
      "cell_type": "code",
      "metadata": {
        "id": "9bUZ_DTAFImf",
        "colab": {
          "base_uri": "https://localhost:8080/",
          "height": 204
        },
        "outputId": "ade7f637-f23c-4738-93a3-e2eb91260cc5"
      },
      "source": [
        "# copy the original df\n",
        "df_year = df \n",
        "\n",
        "# we take only year\n",
        "df_year['year'] = df_year.transaction_date.apply(lambda x: pd.to_datetime(x).date().year) \n",
        "df_year.head()"
      ],
      "execution_count": null,
      "outputs": [
        {
          "output_type": "execute_result",
          "data": {
            "text/html": [
              "<div>\n",
              "<style scoped>\n",
              "    .dataframe tbody tr th:only-of-type {\n",
              "        vertical-align: middle;\n",
              "    }\n",
              "\n",
              "    .dataframe tbody tr th {\n",
              "        vertical-align: top;\n",
              "    }\n",
              "\n",
              "    .dataframe thead th {\n",
              "        text-align: right;\n",
              "    }\n",
              "</style>\n",
              "<table border=\"1\" class=\"dataframe\">\n",
              "  <thead>\n",
              "    <tr style=\"text-align: right;\">\n",
              "      <th></th>\n",
              "      <th>transaction_id</th>\n",
              "      <th>transaction_date</th>\n",
              "      <th>customer_id</th>\n",
              "      <th>amount</th>\n",
              "      <th>year</th>\n",
              "    </tr>\n",
              "  </thead>\n",
              "  <tbody>\n",
              "    <tr>\n",
              "      <th>0</th>\n",
              "      <td>1</td>\n",
              "      <td>2012-09-04</td>\n",
              "      <td>1</td>\n",
              "      <td>20.96</td>\n",
              "      <td>2012</td>\n",
              "    </tr>\n",
              "    <tr>\n",
              "      <th>1</th>\n",
              "      <td>2</td>\n",
              "      <td>2012-05-15</td>\n",
              "      <td>2</td>\n",
              "      <td>10.87</td>\n",
              "      <td>2012</td>\n",
              "    </tr>\n",
              "    <tr>\n",
              "      <th>2</th>\n",
              "      <td>3</td>\n",
              "      <td>2014-05-23</td>\n",
              "      <td>2</td>\n",
              "      <td>2.21</td>\n",
              "      <td>2014</td>\n",
              "    </tr>\n",
              "    <tr>\n",
              "      <th>3</th>\n",
              "      <td>4</td>\n",
              "      <td>2014-10-24</td>\n",
              "      <td>2</td>\n",
              "      <td>10.48</td>\n",
              "      <td>2014</td>\n",
              "    </tr>\n",
              "    <tr>\n",
              "      <th>4</th>\n",
              "      <td>5</td>\n",
              "      <td>2012-10-13</td>\n",
              "      <td>2</td>\n",
              "      <td>3.94</td>\n",
              "      <td>2012</td>\n",
              "    </tr>\n",
              "  </tbody>\n",
              "</table>\n",
              "</div>"
            ],
            "text/plain": [
              "   transaction_id transaction_date  customer_id  amount  year\n",
              "0               1       2012-09-04            1   20.96  2012\n",
              "1               2       2012-05-15            2   10.87  2012\n",
              "2               3       2014-05-23            2    2.21  2014\n",
              "3               4       2014-10-24            2   10.48  2014\n",
              "4               5       2012-10-13            2    3.94  2012"
            ]
          },
          "metadata": {},
          "execution_count": 30
        }
      ]
    },
    {
      "cell_type": "markdown",
      "metadata": {
        "id": "NGK6YWEqFVYB"
      },
      "source": [
        "* getting sample form the dataframe to check the timespan."
      ]
    },
    {
      "cell_type": "code",
      "metadata": {
        "id": "DqPC1z4LFYpH",
        "colab": {
          "base_uri": "https://localhost:8080/",
          "height": 418
        },
        "outputId": "5edf1198-e688-402e-f2fc-4bc7f27472dd"
      },
      "source": [
        "# take IDs of 10 random customers\n",
        "# Get unique values from a list\n",
        "# using sample() function\n",
        "sample_customers = pd.Series(df_year.customer_id.unique()).sample(10).values \n",
        "\n",
        "# create new sample\n",
        "df_sample = df_year[df_year.customer_id.isin(sample_customers)] \n",
        "df_sample"
      ],
      "execution_count": null,
      "outputs": [
        {
          "output_type": "execute_result",
          "data": {
            "text/html": [
              "<div>\n",
              "<style scoped>\n",
              "    .dataframe tbody tr th:only-of-type {\n",
              "        vertical-align: middle;\n",
              "    }\n",
              "\n",
              "    .dataframe tbody tr th {\n",
              "        vertical-align: top;\n",
              "    }\n",
              "\n",
              "    .dataframe thead th {\n",
              "        text-align: right;\n",
              "    }\n",
              "</style>\n",
              "<table border=\"1\" class=\"dataframe\">\n",
              "  <thead>\n",
              "    <tr style=\"text-align: right;\">\n",
              "      <th></th>\n",
              "      <th>transaction_id</th>\n",
              "      <th>transaction_date</th>\n",
              "      <th>customer_id</th>\n",
              "      <th>amount</th>\n",
              "      <th>year</th>\n",
              "    </tr>\n",
              "  </thead>\n",
              "  <tbody>\n",
              "    <tr>\n",
              "      <th>565</th>\n",
              "      <td>566</td>\n",
              "      <td>2012-02-20</td>\n",
              "      <td>137</td>\n",
              "      <td>5.71</td>\n",
              "      <td>2012</td>\n",
              "    </tr>\n",
              "    <tr>\n",
              "      <th>1663</th>\n",
              "      <td>1664</td>\n",
              "      <td>2010-11-02</td>\n",
              "      <td>412</td>\n",
              "      <td>10.65</td>\n",
              "      <td>2010</td>\n",
              "    </tr>\n",
              "    <tr>\n",
              "      <th>1664</th>\n",
              "      <td>1665</td>\n",
              "      <td>2012-10-03</td>\n",
              "      <td>412</td>\n",
              "      <td>2.34</td>\n",
              "      <td>2012</td>\n",
              "    </tr>\n",
              "    <tr>\n",
              "      <th>1665</th>\n",
              "      <td>1666</td>\n",
              "      <td>2011-02-03</td>\n",
              "      <td>412</td>\n",
              "      <td>18.40</td>\n",
              "      <td>2011</td>\n",
              "    </tr>\n",
              "    <tr>\n",
              "      <th>1666</th>\n",
              "      <td>1667</td>\n",
              "      <td>2013-09-29</td>\n",
              "      <td>412</td>\n",
              "      <td>8.37</td>\n",
              "      <td>2013</td>\n",
              "    </tr>\n",
              "    <tr>\n",
              "      <th>...</th>\n",
              "      <td>...</td>\n",
              "      <td>...</td>\n",
              "      <td>...</td>\n",
              "      <td>...</td>\n",
              "      <td>...</td>\n",
              "    </tr>\n",
              "    <tr>\n",
              "      <th>3527</th>\n",
              "      <td>3528</td>\n",
              "      <td>2012-04-22</td>\n",
              "      <td>860</td>\n",
              "      <td>1.42</td>\n",
              "      <td>2012</td>\n",
              "    </tr>\n",
              "    <tr>\n",
              "      <th>3528</th>\n",
              "      <td>3529</td>\n",
              "      <td>2012-12-31</td>\n",
              "      <td>860</td>\n",
              "      <td>11.08</td>\n",
              "      <td>2012</td>\n",
              "    </tr>\n",
              "    <tr>\n",
              "      <th>3529</th>\n",
              "      <td>3530</td>\n",
              "      <td>2015-10-13</td>\n",
              "      <td>860</td>\n",
              "      <td>6.61</td>\n",
              "      <td>2015</td>\n",
              "    </tr>\n",
              "    <tr>\n",
              "      <th>3530</th>\n",
              "      <td>3531</td>\n",
              "      <td>2015-11-01</td>\n",
              "      <td>860</td>\n",
              "      <td>0.13</td>\n",
              "      <td>2015</td>\n",
              "    </tr>\n",
              "    <tr>\n",
              "      <th>3531</th>\n",
              "      <td>3532</td>\n",
              "      <td>2013-11-11</td>\n",
              "      <td>860</td>\n",
              "      <td>13.69</td>\n",
              "      <td>2013</td>\n",
              "    </tr>\n",
              "  </tbody>\n",
              "</table>\n",
              "<p>65 rows × 5 columns</p>\n",
              "</div>"
            ],
            "text/plain": [
              "      transaction_id transaction_date  customer_id  amount  year\n",
              "565              566       2012-02-20          137    5.71  2012\n",
              "1663            1664       2010-11-02          412   10.65  2010\n",
              "1664            1665       2012-10-03          412    2.34  2012\n",
              "1665            1666       2011-02-03          412   18.40  2011\n",
              "1666            1667       2013-09-29          412    8.37  2013\n",
              "...              ...              ...          ...     ...   ...\n",
              "3527            3528       2012-04-22          860    1.42  2012\n",
              "3528            3529       2012-12-31          860   11.08  2012\n",
              "3529            3530       2015-10-13          860    6.61  2015\n",
              "3530            3531       2015-11-01          860    0.13  2015\n",
              "3531            3532       2013-11-11          860   13.69  2013\n",
              "\n",
              "[65 rows x 5 columns]"
            ]
          },
          "metadata": {},
          "execution_count": 31
        }
      ]
    },
    {
      "cell_type": "markdown",
      "metadata": {
        "id": "gFQMdc5DFdcR"
      },
      "source": [
        "* Let’s check the timespan of a few customers to understand the data better:"
      ]
    },
    {
      "cell_type": "code",
      "metadata": {
        "id": "1EMMDqwkFibe",
        "colab": {
          "base_uri": "https://localhost:8080/",
          "height": 427
        },
        "outputId": "d326adf7-88c6-446b-8305-f4b7838446d5"
      },
      "source": [
        "# group data by customer id\n",
        "groups = df_sample.groupby('customer_id')\n",
        "\n",
        "# Plot\n",
        "fig, ax = plt.subplots(figsize=(8, 6))\n",
        "\n",
        "# plot line for each customer o\n",
        "for customer_id, group in groups:\n",
        "    ax.plot(group.year, group.customer_id, marker='o', linestyle='-', label=customer_id)\n",
        "\n",
        "# Make our graph cool, and understandable\n",
        "\n",
        "# put the legend outside the graph\n",
        "ax.legend(bbox_to_anchor=(1.1, 1.05), title=\"customer id\",)\n",
        "    \n",
        "# set titles for figure, x, y\n",
        "plt.title('Timespan of a few customers',fontsize=20)\n",
        "plt.xlabel('Year', fontsize=20)\n",
        "plt.ylabel('Customer Id',fontsize=20)\n",
        "\n",
        "plt.xticks(fontsize = 20) \n",
        "plt.yticks(fontsize = 20) \n",
        "plt.grid(True)\n",
        "plt.show()"
      ],
      "execution_count": null,
      "outputs": [
        {
          "output_type": "display_data",
          "data": {
            "image/png": "[encoded data removed]",
            "text/plain": [
              "<Figure size 576x432 with 1 Axes>"
            ]
          },
          "metadata": {
            "needs_background": "light"
          }
        }
      ]
    },
    {
      "cell_type": "markdown",
      "metadata": {
        "id": "LGfh8X6YaJhX"
      },
      "source": [
        "## Ex 1:\n",
        "Let's plot another timespan of customers. Take IDs of 5 random customers and make a sample from our df_year using sample() function so that you can make a similar plot with this data."
      ]
    },
    {
      "cell_type": "code",
      "metadata": {
        "id": "KiYRFuUCaowr"
      },
      "source": [
        "# take IDs of 5 random customers\n",
        "# Get unique values from a list\n",
        "# using sample() function\n",
        "# replace '?' signs\n",
        "sample_customers_ex1 = ? \n",
        "\n",
        "# create new sample\n",
        "df_sample_ex1 = df_year[df_year.customer_id.isin(?)] \n",
        "\n",
        "# check ourselves\n",
        "print(f\"We took {len(df_sample_ex1.customer_id.unique())} unique customers\")\n",
        "\n",
        "df_sample_ex1.head()"
      ],
      "execution_count": null,
      "outputs": []
    },
    {
      "cell_type": "markdown",
      "metadata": {
        "id": "zl1eWnv6FmEX"
      },
      "source": [
        "* <font size=\"2\">**We can note several important things:**\n",
        "    1. <font size=\"2\">The customers are heterogeneous\n",
        "    2. <font size=\"2\">They spend at different years\n",
        "    3.  <font size=\"2\">Also do not purchase every single year.\n",
        "    \n",
        "    \n",
        "* <font size=\"2\">**Now, here we have to make a decision how to define active customers.**</font>\n",
        "    1. <font size=\"2\">One definition would be to consider in our calculations any customer who kept purchasing (even if in this year he did not purchase anything).  </font>      \n",
        "    \n",
        "    2. <font size=\"2\"> Or take into account (per year basis) only a set of customers who were purchasing in the considered year.</font> \n",
        "    \n",
        "\n",
        "* <font size=\"2\">**We will adopt the second approach as it will be more tricky to calculate:**"
      ]
    },
    {
      "cell_type": "code",
      "metadata": {
        "id": "NiSmWTeQFpzm",
        "colab": {
          "base_uri": "https://localhost:8080/",
          "height": 204
        },
        "outputId": "f707b786-3ed1-4f5a-d2de-9bbeaf4a8dfc"
      },
      "source": [
        "# group by customer id\n",
        "group = df.groupby('customer_id')\n",
        "\n",
        "# add 3 more columns (min_year, max_year, years_active) to our df \n",
        "df['min_year'] = group['year'].transform('min') # get min year\n",
        "df['max_year'] = group['year'].transform('max') # get max year\n",
        "\n",
        "df.head()"
      ],
      "execution_count": null,
      "outputs": [
        {
          "output_type": "execute_result",
          "data": {
            "text/html": [
              "<div>\n",
              "<style scoped>\n",
              "    .dataframe tbody tr th:only-of-type {\n",
              "        vertical-align: middle;\n",
              "    }\n",
              "\n",
              "    .dataframe tbody tr th {\n",
              "        vertical-align: top;\n",
              "    }\n",
              "\n",
              "    .dataframe thead th {\n",
              "        text-align: right;\n",
              "    }\n",
              "</style>\n",
              "<table border=\"1\" class=\"dataframe\">\n",
              "  <thead>\n",
              "    <tr style=\"text-align: right;\">\n",
              "      <th></th>\n",
              "      <th>transaction_id</th>\n",
              "      <th>transaction_date</th>\n",
              "      <th>customer_id</th>\n",
              "      <th>amount</th>\n",
              "      <th>year</th>\n",
              "      <th>min_year</th>\n",
              "      <th>max_year</th>\n",
              "    </tr>\n",
              "  </thead>\n",
              "  <tbody>\n",
              "    <tr>\n",
              "      <th>0</th>\n",
              "      <td>1</td>\n",
              "      <td>2012-09-04</td>\n",
              "      <td>1</td>\n",
              "      <td>20.96</td>\n",
              "      <td>2012</td>\n",
              "      <td>2012</td>\n",
              "      <td>2012</td>\n",
              "    </tr>\n",
              "    <tr>\n",
              "      <th>1</th>\n",
              "      <td>2</td>\n",
              "      <td>2012-05-15</td>\n",
              "      <td>2</td>\n",
              "      <td>10.87</td>\n",
              "      <td>2012</td>\n",
              "      <td>2012</td>\n",
              "      <td>2014</td>\n",
              "    </tr>\n",
              "    <tr>\n",
              "      <th>2</th>\n",
              "      <td>3</td>\n",
              "      <td>2014-05-23</td>\n",
              "      <td>2</td>\n",
              "      <td>2.21</td>\n",
              "      <td>2014</td>\n",
              "      <td>2012</td>\n",
              "      <td>2014</td>\n",
              "    </tr>\n",
              "    <tr>\n",
              "      <th>3</th>\n",
              "      <td>4</td>\n",
              "      <td>2014-10-24</td>\n",
              "      <td>2</td>\n",
              "      <td>10.48</td>\n",
              "      <td>2014</td>\n",
              "      <td>2012</td>\n",
              "      <td>2014</td>\n",
              "    </tr>\n",
              "    <tr>\n",
              "      <th>4</th>\n",
              "      <td>5</td>\n",
              "      <td>2012-10-13</td>\n",
              "      <td>2</td>\n",
              "      <td>3.94</td>\n",
              "      <td>2012</td>\n",
              "      <td>2012</td>\n",
              "      <td>2014</td>\n",
              "    </tr>\n",
              "  </tbody>\n",
              "</table>\n",
              "</div>"
            ],
            "text/plain": [
              "   transaction_id transaction_date  customer_id  ...  year  min_year  max_year\n",
              "0               1       2012-09-04            1  ...  2012      2012      2012\n",
              "1               2       2012-05-15            2  ...  2012      2012      2014\n",
              "2               3       2014-05-23            2  ...  2014      2012      2014\n",
              "3               4       2014-10-24            2  ...  2014      2012      2014\n",
              "4               5       2012-10-13            2  ...  2012      2012      2014\n",
              "\n",
              "[5 rows x 7 columns]"
            ]
          },
          "metadata": {},
          "execution_count": 35
        }
      ]
    },
    {
      "cell_type": "markdown",
      "metadata": {
        "id": "ApKQARRmh5VV"
      },
      "source": [
        "## Ex 2:  \n",
        "\n",
        "Using min_year, and max_year please calculate the number of active years for each custmer, and put the output in a new column to our df. Name the new column with `years_active`\n"
      ]
    },
    {
      "cell_type": "code",
      "metadata": {
        "id": "xWKm7XWLh9FA"
      },
      "source": [
        "# your code goes here, replace '?' sign\n",
        "df['years_active'] = ?\n",
        "df.head()"
      ],
      "execution_count": null,
      "outputs": []
    },
    {
      "cell_type": "code",
      "metadata": {
        "id": "dBXZSPl-FsIc",
        "colab": {
          "base_uri": "https://localhost:8080/",
          "height": 265
        },
        "outputId": "dc84ddb2-3bcd-42c2-9dec-518d7e61295b"
      },
      "source": [
        "# define new df for the active customers\n",
        "active_customers = pd.DataFrame()\n",
        "\n",
        "# group by two cols \n",
        "# group customers by the starting year and the transactional years.\n",
        "group = df.groupby(['min_year', 'year'])\n",
        "\n",
        "# start adding cols to active customer df\n",
        "\n",
        "# number of unique customers for the pairs \n",
        "# (starting year, transactional year)\n",
        "# number of unique customers for each year\n",
        "active_customers['customers_unique'] = group['customer_id'].unique().apply(lambda x: x.size)\n",
        "\n",
        "# number of unique transactions for each year\n",
        "active_customers['transactions_unique'] = group['transaction_id'].unique().apply(lambda x: x.size)\n",
        "\n",
        "# total amount of money spent in that year\n",
        "active_customers['amount'] = group['amount'].sum()\n",
        "\n",
        "#cumulative amount of money spent from previous years till current year\n",
        "active_customers['cumulative_amount'] = group['amount'].sum().groupby(by='min_year').cumsum()\n",
        "\n",
        "active_customers.head(6)"
      ],
      "execution_count": null,
      "outputs": [
        {
          "output_type": "execute_result",
          "data": {
            "text/html": [
              "<div>\n",
              "<style scoped>\n",
              "    .dataframe tbody tr th:only-of-type {\n",
              "        vertical-align: middle;\n",
              "    }\n",
              "\n",
              "    .dataframe tbody tr th {\n",
              "        vertical-align: top;\n",
              "    }\n",
              "\n",
              "    .dataframe thead th {\n",
              "        text-align: right;\n",
              "    }\n",
              "</style>\n",
              "<table border=\"1\" class=\"dataframe\">\n",
              "  <thead>\n",
              "    <tr style=\"text-align: right;\">\n",
              "      <th></th>\n",
              "      <th></th>\n",
              "      <th>customers_unique</th>\n",
              "      <th>transactions_unique</th>\n",
              "      <th>amount</th>\n",
              "      <th>cumulative_amount</th>\n",
              "    </tr>\n",
              "    <tr>\n",
              "      <th>min_year</th>\n",
              "      <th>year</th>\n",
              "      <th></th>\n",
              "      <th></th>\n",
              "      <th></th>\n",
              "      <th></th>\n",
              "    </tr>\n",
              "  </thead>\n",
              "  <tbody>\n",
              "    <tr>\n",
              "      <th rowspan=\"6\" valign=\"top\">2010</th>\n",
              "      <th>2010</th>\n",
              "      <td>172</td>\n",
              "      <td>260</td>\n",
              "      <td>2255.07</td>\n",
              "      <td>2255.07</td>\n",
              "    </tr>\n",
              "    <tr>\n",
              "      <th>2011</th>\n",
              "      <td>93</td>\n",
              "      <td>177</td>\n",
              "      <td>1358.78</td>\n",
              "      <td>3613.85</td>\n",
              "    </tr>\n",
              "    <tr>\n",
              "      <th>2012</th>\n",
              "      <td>104</td>\n",
              "      <td>195</td>\n",
              "      <td>1658.02</td>\n",
              "      <td>5271.87</td>\n",
              "    </tr>\n",
              "    <tr>\n",
              "      <th>2013</th>\n",
              "      <td>91</td>\n",
              "      <td>164</td>\n",
              "      <td>1355.56</td>\n",
              "      <td>6627.43</td>\n",
              "    </tr>\n",
              "    <tr>\n",
              "      <th>2014</th>\n",
              "      <td>103</td>\n",
              "      <td>163</td>\n",
              "      <td>1295.52</td>\n",
              "      <td>7922.95</td>\n",
              "    </tr>\n",
              "    <tr>\n",
              "      <th>2015</th>\n",
              "      <td>82</td>\n",
              "      <td>128</td>\n",
              "      <td>1033.60</td>\n",
              "      <td>8956.55</td>\n",
              "    </tr>\n",
              "  </tbody>\n",
              "</table>\n",
              "</div>"
            ],
            "text/plain": [
              "               customers_unique  ...  cumulative_amount\n",
              "min_year year                    ...                   \n",
              "2010     2010               172  ...            2255.07\n",
              "         2011                93  ...            3613.85\n",
              "         2012               104  ...            5271.87\n",
              "         2013                91  ...            6627.43\n",
              "         2014               103  ...            7922.95\n",
              "         2015                82  ...            8956.55\n",
              "\n",
              "[6 rows x 4 columns]"
            ]
          },
          "metadata": {},
          "execution_count": 38
        }
      ]
    },
    {
      "cell_type": "code",
      "metadata": {
        "id": "V7ujtdXTFwAK",
        "colab": {
          "base_uri": "https://localhost:8080/",
          "height": 265
        },
        "outputId": "799eebb3-ceb5-429f-ef0c-d2c5b6fef458"
      },
      "source": [
        "# Pivot: allows you to transform or reshape data\n",
        "# index = rows\n",
        "# columns = cols\n",
        "\n",
        "# # you can pick any feature to display \n",
        "# fillna('') to replace missing values with space\n",
        "active_customers.reset_index().pivot(index='min_year', columns='year', values='customers_unique').fillna('')"
      ],
      "execution_count": null,
      "outputs": [
        {
          "output_type": "execute_result",
          "data": {
            "text/html": [
              "<div>\n",
              "<style scoped>\n",
              "    .dataframe tbody tr th:only-of-type {\n",
              "        vertical-align: middle;\n",
              "    }\n",
              "\n",
              "    .dataframe tbody tr th {\n",
              "        vertical-align: top;\n",
              "    }\n",
              "\n",
              "    .dataframe thead th {\n",
              "        text-align: right;\n",
              "    }\n",
              "</style>\n",
              "<table border=\"1\" class=\"dataframe\">\n",
              "  <thead>\n",
              "    <tr style=\"text-align: right;\">\n",
              "      <th>year</th>\n",
              "      <th>2010</th>\n",
              "      <th>2011</th>\n",
              "      <th>2012</th>\n",
              "      <th>2013</th>\n",
              "      <th>2014</th>\n",
              "      <th>2015</th>\n",
              "    </tr>\n",
              "    <tr>\n",
              "      <th>min_year</th>\n",
              "      <th></th>\n",
              "      <th></th>\n",
              "      <th></th>\n",
              "      <th></th>\n",
              "      <th></th>\n",
              "      <th></th>\n",
              "    </tr>\n",
              "  </thead>\n",
              "  <tbody>\n",
              "    <tr>\n",
              "      <th>2010</th>\n",
              "      <td>172</td>\n",
              "      <td>93</td>\n",
              "      <td>104</td>\n",
              "      <td>91</td>\n",
              "      <td>103</td>\n",
              "      <td>82.0</td>\n",
              "    </tr>\n",
              "    <tr>\n",
              "      <th>2011</th>\n",
              "      <td></td>\n",
              "      <td>170</td>\n",
              "      <td>92</td>\n",
              "      <td>98</td>\n",
              "      <td>89</td>\n",
              "      <td>88.0</td>\n",
              "    </tr>\n",
              "    <tr>\n",
              "      <th>2012</th>\n",
              "      <td></td>\n",
              "      <td></td>\n",
              "      <td>163</td>\n",
              "      <td>109</td>\n",
              "      <td>98</td>\n",
              "      <td>90.0</td>\n",
              "    </tr>\n",
              "    <tr>\n",
              "      <th>2013</th>\n",
              "      <td></td>\n",
              "      <td></td>\n",
              "      <td></td>\n",
              "      <td>180</td>\n",
              "      <td>103</td>\n",
              "      <td>102.0</td>\n",
              "    </tr>\n",
              "    <tr>\n",
              "      <th>2014</th>\n",
              "      <td></td>\n",
              "      <td></td>\n",
              "      <td></td>\n",
              "      <td></td>\n",
              "      <td>155</td>\n",
              "      <td>90.0</td>\n",
              "    </tr>\n",
              "    <tr>\n",
              "      <th>2015</th>\n",
              "      <td></td>\n",
              "      <td></td>\n",
              "      <td></td>\n",
              "      <td></td>\n",
              "      <td></td>\n",
              "      <td>160.0</td>\n",
              "    </tr>\n",
              "  </tbody>\n",
              "</table>\n",
              "</div>"
            ],
            "text/plain": [
              "year     2010 2011 2012 2013 2014   2015\n",
              "min_year                                \n",
              "2010      172   93  104   91  103   82.0\n",
              "2011           170   92   98   89   88.0\n",
              "2012                163  109   98   90.0\n",
              "2013                     180  103  102.0\n",
              "2014                          155   90.0\n",
              "2015                               160.0"
            ]
          },
          "metadata": {},
          "execution_count": 39
        }
      ]
    },
    {
      "cell_type": "markdown",
      "metadata": {
        "id": "2Zg1v5I4Fz0b"
      },
      "source": [
        "**The second part is to calculate for each year the number of new customers:**"
      ]
    },
    {
      "cell_type": "code",
      "metadata": {
        "id": "feoveCDRF3OU",
        "colab": {
          "base_uri": "https://localhost:8080/"
        },
        "outputId": "77bef63c-b64b-4230-b68f-2702bd421be0"
      },
      "source": [
        "# now will compute the amount of the new customers in each year\n",
        "group = df.groupby(['min_year'])\n",
        "\n",
        "new_customers = pd.DataFrame()\n",
        "new_customers = group['customer_id'].unique().apply(lambda x: x.size).rename('new_customers')\n",
        "new_customers.head()"
      ],
      "execution_count": null,
      "outputs": [
        {
          "output_type": "execute_result",
          "data": {
            "text/plain": [
              "min_year\n",
              "2010    172\n",
              "2011    170\n",
              "2012    163\n",
              "2013    180\n",
              "2014    155\n",
              "Name: new_customers, dtype: int64"
            ]
          },
          "metadata": {},
          "execution_count": 40
        }
      ]
    },
    {
      "cell_type": "markdown",
      "metadata": {
        "id": "EPLga9ECF8GG"
      },
      "source": [
        "**Combine the two datasets active custmers and new customers:**"
      ]
    },
    {
      "cell_type": "code",
      "metadata": {
        "id": "14FoXPVeF_1K",
        "colab": {
          "base_uri": "https://localhost:8080/",
          "height": 265
        },
        "outputId": "d7a0bbcf-6c24-4d34-935f-d0ba2697cd76"
      },
      "source": [
        "# using join to Combine the two datasets:\n",
        "\n",
        "active_customers = active_customers.join(new_customers, on='min_year')\n",
        "active_customers.head(6)"
      ],
      "execution_count": null,
      "outputs": [
        {
          "output_type": "execute_result",
          "data": {
            "text/html": [
              "<div>\n",
              "<style scoped>\n",
              "    .dataframe tbody tr th:only-of-type {\n",
              "        vertical-align: middle;\n",
              "    }\n",
              "\n",
              "    .dataframe tbody tr th {\n",
              "        vertical-align: top;\n",
              "    }\n",
              "\n",
              "    .dataframe thead th {\n",
              "        text-align: right;\n",
              "    }\n",
              "</style>\n",
              "<table border=\"1\" class=\"dataframe\">\n",
              "  <thead>\n",
              "    <tr style=\"text-align: right;\">\n",
              "      <th></th>\n",
              "      <th></th>\n",
              "      <th>customers_unique</th>\n",
              "      <th>transactions_unique</th>\n",
              "      <th>amount</th>\n",
              "      <th>cumulative_amount</th>\n",
              "      <th>new_customers</th>\n",
              "    </tr>\n",
              "    <tr>\n",
              "      <th>min_year</th>\n",
              "      <th>year</th>\n",
              "      <th></th>\n",
              "      <th></th>\n",
              "      <th></th>\n",
              "      <th></th>\n",
              "      <th></th>\n",
              "    </tr>\n",
              "  </thead>\n",
              "  <tbody>\n",
              "    <tr>\n",
              "      <th rowspan=\"6\" valign=\"top\">2010</th>\n",
              "      <th>2010</th>\n",
              "      <td>172</td>\n",
              "      <td>260</td>\n",
              "      <td>2255.07</td>\n",
              "      <td>2255.07</td>\n",
              "      <td>172</td>\n",
              "    </tr>\n",
              "    <tr>\n",
              "      <th>2011</th>\n",
              "      <td>93</td>\n",
              "      <td>177</td>\n",
              "      <td>1358.78</td>\n",
              "      <td>3613.85</td>\n",
              "      <td>172</td>\n",
              "    </tr>\n",
              "    <tr>\n",
              "      <th>2012</th>\n",
              "      <td>104</td>\n",
              "      <td>195</td>\n",
              "      <td>1658.02</td>\n",
              "      <td>5271.87</td>\n",
              "      <td>172</td>\n",
              "    </tr>\n",
              "    <tr>\n",
              "      <th>2013</th>\n",
              "      <td>91</td>\n",
              "      <td>164</td>\n",
              "      <td>1355.56</td>\n",
              "      <td>6627.43</td>\n",
              "      <td>172</td>\n",
              "    </tr>\n",
              "    <tr>\n",
              "      <th>2014</th>\n",
              "      <td>103</td>\n",
              "      <td>163</td>\n",
              "      <td>1295.52</td>\n",
              "      <td>7922.95</td>\n",
              "      <td>172</td>\n",
              "    </tr>\n",
              "    <tr>\n",
              "      <th>2015</th>\n",
              "      <td>82</td>\n",
              "      <td>128</td>\n",
              "      <td>1033.60</td>\n",
              "      <td>8956.55</td>\n",
              "      <td>172</td>\n",
              "    </tr>\n",
              "  </tbody>\n",
              "</table>\n",
              "</div>"
            ],
            "text/plain": [
              "               customers_unique  ...  new_customers\n",
              "min_year year                    ...               \n",
              "2010     2010               172  ...            172\n",
              "         2011                93  ...            172\n",
              "         2012               104  ...            172\n",
              "         2013                91  ...            172\n",
              "         2014               103  ...            172\n",
              "         2015                82  ...            172\n",
              "\n",
              "[6 rows x 5 columns]"
            ]
          },
          "metadata": {},
          "execution_count": 41
        }
      ]
    },
    {
      "cell_type": "markdown",
      "metadata": {
        "id": "53CpOAhzGDPN"
      },
      "source": [
        "<font size=\"2\">**Now, we are ready to calculate several important measures:**\n",
        "    \n",
        "\n",
        "1. customer retention rate $=$ $\\frac{active\\_customers}{new\\_ customers}$ \n",
        "\n",
        "\n",
        "2. transactions per customer $=$ $\\frac{transactions}{active\\_customers}$\n",
        "\n",
        "\n",
        "3. amount per transaction $=$ $\\frac{amount}{transactions}$"
      ]
    },
    {
      "cell_type": "code",
      "metadata": {
        "id": "EZpjmMJHGGm_",
        "colab": {
          "base_uri": "https://localhost:8080/",
          "height": 204
        },
        "outputId": "021a0583-ed54-44ca-a7c9-bfbb6f91be5b"
      },
      "source": [
        "# new dataframe to hold different calculations\n",
        "active_customers_stat = pd.DataFrame()\n",
        "\n",
        "active_customers_stat = active_customers_stat.assign(\n",
        "    customers_unique = active_customers['customers_unique'],\n",
        "    retention = active_customers['customers_unique'] / active_customers['new_customers'], # retention\n",
        "    trans_per_customer = active_customers['transactions_unique'] / active_customers['customers_unique'],\n",
        "    amount_per_trans = active_customers['amount'] / active_customers['transactions_unique']\n",
        ")\n",
        "\n",
        "active_customers_stat = active_customers_stat.reset_index()\n",
        "active_customers_stat.head()"
      ],
      "execution_count": null,
      "outputs": [
        {
          "output_type": "execute_result",
          "data": {
            "text/html": [
              "<div>\n",
              "<style scoped>\n",
              "    .dataframe tbody tr th:only-of-type {\n",
              "        vertical-align: middle;\n",
              "    }\n",
              "\n",
              "    .dataframe tbody tr th {\n",
              "        vertical-align: top;\n",
              "    }\n",
              "\n",
              "    .dataframe thead th {\n",
              "        text-align: right;\n",
              "    }\n",
              "</style>\n",
              "<table border=\"1\" class=\"dataframe\">\n",
              "  <thead>\n",
              "    <tr style=\"text-align: right;\">\n",
              "      <th></th>\n",
              "      <th>min_year</th>\n",
              "      <th>year</th>\n",
              "      <th>customers_unique</th>\n",
              "      <th>retention</th>\n",
              "      <th>trans_per_customer</th>\n",
              "      <th>amount_per_trans</th>\n",
              "    </tr>\n",
              "  </thead>\n",
              "  <tbody>\n",
              "    <tr>\n",
              "      <th>0</th>\n",
              "      <td>2010</td>\n",
              "      <td>2010</td>\n",
              "      <td>172</td>\n",
              "      <td>1.000000</td>\n",
              "      <td>1.511628</td>\n",
              "      <td>8.673346</td>\n",
              "    </tr>\n",
              "    <tr>\n",
              "      <th>1</th>\n",
              "      <td>2010</td>\n",
              "      <td>2011</td>\n",
              "      <td>93</td>\n",
              "      <td>0.540698</td>\n",
              "      <td>1.903226</td>\n",
              "      <td>7.676723</td>\n",
              "    </tr>\n",
              "    <tr>\n",
              "      <th>2</th>\n",
              "      <td>2010</td>\n",
              "      <td>2012</td>\n",
              "      <td>104</td>\n",
              "      <td>0.604651</td>\n",
              "      <td>1.875000</td>\n",
              "      <td>8.502667</td>\n",
              "    </tr>\n",
              "    <tr>\n",
              "      <th>3</th>\n",
              "      <td>2010</td>\n",
              "      <td>2013</td>\n",
              "      <td>91</td>\n",
              "      <td>0.529070</td>\n",
              "      <td>1.802198</td>\n",
              "      <td>8.265610</td>\n",
              "    </tr>\n",
              "    <tr>\n",
              "      <th>4</th>\n",
              "      <td>2010</td>\n",
              "      <td>2014</td>\n",
              "      <td>103</td>\n",
              "      <td>0.598837</td>\n",
              "      <td>1.582524</td>\n",
              "      <td>7.947975</td>\n",
              "    </tr>\n",
              "  </tbody>\n",
              "</table>\n",
              "</div>"
            ],
            "text/plain": [
              "   min_year  year  ...  trans_per_customer  amount_per_trans\n",
              "0      2010  2010  ...            1.511628          8.673346\n",
              "1      2010  2011  ...            1.903226          7.676723\n",
              "2      2010  2012  ...            1.875000          8.502667\n",
              "3      2010  2013  ...            1.802198          8.265610\n",
              "4      2010  2014  ...            1.582524          7.947975\n",
              "\n",
              "[5 rows x 6 columns]"
            ]
          },
          "metadata": {},
          "execution_count": 42
        }
      ]
    },
    {
      "cell_type": "code",
      "metadata": {
        "id": "LXgbzBPwGI8H",
        "colab": {
          "base_uri": "https://localhost:8080/",
          "height": 364
        },
        "outputId": "3ae29cf4-787f-4314-e1ed-fc53dd558711"
      },
      "source": [
        "# here in this plot we look how retention rate change during five years\n",
        "# plot \n",
        "active_customers_stat.pivot(index='year', \n",
        "                            columns='min_year', \n",
        "                            values='retention').plot(figsize=(8,5), grid=True, style=\"*-\")\n",
        "\n",
        "# set titles for figure, x, y\n",
        "plt.title('Retention per year',fontsize=20)\n",
        "plt.xlabel('Year', fontsize=20)\n",
        "plt.ylabel('Retention',fontsize=20)\n",
        "\n",
        "plt.xticks(fontsize = 10) \n",
        "plt.yticks(fontsize = 10) \n",
        "plt.grid(True)\n",
        "plt.show()"
      ],
      "execution_count": null,
      "outputs": [
        {
          "output_type": "display_data",
          "data": {
            "image/png": "[encoded data removed]",
            "text/plain": [
              "<Figure size 576x360 with 1 Axes>"
            ]
          },
          "metadata": {
            "needs_background": "light"
          }
        }
      ]
    },
    {
      "cell_type": "markdown",
      "metadata": {
        "id": "1hBUsrfKGRTa"
      },
      "source": [
        "Now we can calculate the **historical CLV**, which is cumulative spending per customer over time divided by amount of new customers each year\n",
        "\n",
        "* historical CLV $=$ $\\frac{cumulative\\_amount}{new\\_customers}$"
      ]
    },
    {
      "cell_type": "code",
      "metadata": {
        "id": "cgwftma4GbB3",
        "colab": {
          "base_uri": "https://localhost:8080/",
          "height": 204
        },
        "outputId": "02899197-f85f-47ee-83cc-9c8f8f77e46e"
      },
      "source": [
        "# temp = active customers\n",
        "temp = active_customers.reset_index()\n",
        "\n",
        "# update active_customers_stat with historicCLV\n",
        "# we take values from active_customers because we don't store cumulative_amount and new_customers in our stat df\n",
        "active_customers_stat['historicCLV'] = temp['cumulative_amount'] / temp['new_customers']\n",
        "active_customers_stat.head()"
      ],
      "execution_count": null,
      "outputs": [
        {
          "output_type": "execute_result",
          "data": {
            "text/html": [
              "<div>\n",
              "<style scoped>\n",
              "    .dataframe tbody tr th:only-of-type {\n",
              "        vertical-align: middle;\n",
              "    }\n",
              "\n",
              "    .dataframe tbody tr th {\n",
              "        vertical-align: top;\n",
              "    }\n",
              "\n",
              "    .dataframe thead th {\n",
              "        text-align: right;\n",
              "    }\n",
              "</style>\n",
              "<table border=\"1\" class=\"dataframe\">\n",
              "  <thead>\n",
              "    <tr style=\"text-align: right;\">\n",
              "      <th></th>\n",
              "      <th>min_year</th>\n",
              "      <th>year</th>\n",
              "      <th>customers_unique</th>\n",
              "      <th>retention</th>\n",
              "      <th>trans_per_customer</th>\n",
              "      <th>amount_per_trans</th>\n",
              "      <th>historicCLV</th>\n",
              "    </tr>\n",
              "  </thead>\n",
              "  <tbody>\n",
              "    <tr>\n",
              "      <th>0</th>\n",
              "      <td>2010</td>\n",
              "      <td>2010</td>\n",
              "      <td>172</td>\n",
              "      <td>1.000000</td>\n",
              "      <td>1.511628</td>\n",
              "      <td>8.673346</td>\n",
              "      <td>13.110872</td>\n",
              "    </tr>\n",
              "    <tr>\n",
              "      <th>1</th>\n",
              "      <td>2010</td>\n",
              "      <td>2011</td>\n",
              "      <td>93</td>\n",
              "      <td>0.540698</td>\n",
              "      <td>1.903226</td>\n",
              "      <td>7.676723</td>\n",
              "      <td>21.010756</td>\n",
              "    </tr>\n",
              "    <tr>\n",
              "      <th>2</th>\n",
              "      <td>2010</td>\n",
              "      <td>2012</td>\n",
              "      <td>104</td>\n",
              "      <td>0.604651</td>\n",
              "      <td>1.875000</td>\n",
              "      <td>8.502667</td>\n",
              "      <td>30.650407</td>\n",
              "    </tr>\n",
              "    <tr>\n",
              "      <th>3</th>\n",
              "      <td>2010</td>\n",
              "      <td>2013</td>\n",
              "      <td>91</td>\n",
              "      <td>0.529070</td>\n",
              "      <td>1.802198</td>\n",
              "      <td>8.265610</td>\n",
              "      <td>38.531570</td>\n",
              "    </tr>\n",
              "    <tr>\n",
              "      <th>4</th>\n",
              "      <td>2010</td>\n",
              "      <td>2014</td>\n",
              "      <td>103</td>\n",
              "      <td>0.598837</td>\n",
              "      <td>1.582524</td>\n",
              "      <td>7.947975</td>\n",
              "      <td>46.063663</td>\n",
              "    </tr>\n",
              "  </tbody>\n",
              "</table>\n",
              "</div>"
            ],
            "text/plain": [
              "   min_year  year  ...  amount_per_trans  historicCLV\n",
              "0      2010  2010  ...          8.673346    13.110872\n",
              "1      2010  2011  ...          7.676723    21.010756\n",
              "2      2010  2012  ...          8.502667    30.650407\n",
              "3      2010  2013  ...          8.265610    38.531570\n",
              "4      2010  2014  ...          7.947975    46.063663\n",
              "\n",
              "[5 rows x 7 columns]"
            ]
          },
          "metadata": {},
          "execution_count": 44
        }
      ]
    },
    {
      "cell_type": "code",
      "metadata": {
        "id": "o1LBqXmBGdMG",
        "colab": {
          "base_uri": "https://localhost:8080/",
          "height": 364
        },
        "outputId": "f0a73f5b-9dbc-41b7-a8e3-360c199bcd8c"
      },
      "source": [
        "# pivot\n",
        "# plot\n",
        "\n",
        "active_customers_stat.reset_index().pivot(index='year', \n",
        "    columns='min_year', values='historicCLV').plot(figsize=(8,5), grid=True, style=\"*-\")\n",
        "\n",
        "#\n",
        "# set titles for figure, x, y\n",
        "plt.title('historical CLV per year',fontsize=20)\n",
        "plt.xlabel('Year', fontsize=20)\n",
        "plt.ylabel('HistoricCLV',fontsize=20)\n",
        "\n",
        "plt.xticks(fontsize = 10) \n",
        "plt.yticks(fontsize = 10) \n",
        "plt.grid(True)\n",
        "plt.show()"
      ],
      "execution_count": null,
      "outputs": [
        {
          "output_type": "display_data",
          "data": {
            "image/png": "[encoded data removed]",
            "text/plain": [
              "<Figure size 576x360 with 1 Axes>"
            ]
          },
          "metadata": {
            "needs_background": "light"
          }
        }
      ]
    },
    {
      "cell_type": "markdown",
      "metadata": {
        "id": "AOPLg6bIGiZv"
      },
      "source": [
        "If we want to know just the age of customers in months (e.g we want customers who are 12 months old considered the same instead of separate cohorts), we need to bring it to common scale:"
      ]
    },
    {
      "cell_type": "code",
      "metadata": {
        "id": "dQkShej5GlD0",
        "colab": {
          "base_uri": "https://localhost:8080/",
          "height": 204
        },
        "outputId": "178632ec-dc0b-4af9-bdc9-f5b529b3c913"
      },
      "source": [
        "# add month active\n",
        "active_customers_stat['months_active'] = (active_customers_stat['year'] - \n",
        "                                          active_customers_stat['min_year'] + 1)*12\n",
        "\n",
        "active_customers_stat.head()"
      ],
      "execution_count": null,
      "outputs": [
        {
          "output_type": "execute_result",
          "data": {
            "text/html": [
              "<div>\n",
              "<style scoped>\n",
              "    .dataframe tbody tr th:only-of-type {\n",
              "        vertical-align: middle;\n",
              "    }\n",
              "\n",
              "    .dataframe tbody tr th {\n",
              "        vertical-align: top;\n",
              "    }\n",
              "\n",
              "    .dataframe thead th {\n",
              "        text-align: right;\n",
              "    }\n",
              "</style>\n",
              "<table border=\"1\" class=\"dataframe\">\n",
              "  <thead>\n",
              "    <tr style=\"text-align: right;\">\n",
              "      <th></th>\n",
              "      <th>min_year</th>\n",
              "      <th>year</th>\n",
              "      <th>customers_unique</th>\n",
              "      <th>retention</th>\n",
              "      <th>trans_per_customer</th>\n",
              "      <th>amount_per_trans</th>\n",
              "      <th>historicCLV</th>\n",
              "      <th>months_active</th>\n",
              "    </tr>\n",
              "  </thead>\n",
              "  <tbody>\n",
              "    <tr>\n",
              "      <th>0</th>\n",
              "      <td>2010</td>\n",
              "      <td>2010</td>\n",
              "      <td>172</td>\n",
              "      <td>1.000000</td>\n",
              "      <td>1.511628</td>\n",
              "      <td>8.673346</td>\n",
              "      <td>13.110872</td>\n",
              "      <td>12</td>\n",
              "    </tr>\n",
              "    <tr>\n",
              "      <th>1</th>\n",
              "      <td>2010</td>\n",
              "      <td>2011</td>\n",
              "      <td>93</td>\n",
              "      <td>0.540698</td>\n",
              "      <td>1.903226</td>\n",
              "      <td>7.676723</td>\n",
              "      <td>21.010756</td>\n",
              "      <td>24</td>\n",
              "    </tr>\n",
              "    <tr>\n",
              "      <th>2</th>\n",
              "      <td>2010</td>\n",
              "      <td>2012</td>\n",
              "      <td>104</td>\n",
              "      <td>0.604651</td>\n",
              "      <td>1.875000</td>\n",
              "      <td>8.502667</td>\n",
              "      <td>30.650407</td>\n",
              "      <td>36</td>\n",
              "    </tr>\n",
              "    <tr>\n",
              "      <th>3</th>\n",
              "      <td>2010</td>\n",
              "      <td>2013</td>\n",
              "      <td>91</td>\n",
              "      <td>0.529070</td>\n",
              "      <td>1.802198</td>\n",
              "      <td>8.265610</td>\n",
              "      <td>38.531570</td>\n",
              "      <td>48</td>\n",
              "    </tr>\n",
              "    <tr>\n",
              "      <th>4</th>\n",
              "      <td>2010</td>\n",
              "      <td>2014</td>\n",
              "      <td>103</td>\n",
              "      <td>0.598837</td>\n",
              "      <td>1.582524</td>\n",
              "      <td>7.947975</td>\n",
              "      <td>46.063663</td>\n",
              "      <td>60</td>\n",
              "    </tr>\n",
              "  </tbody>\n",
              "</table>\n",
              "</div>"
            ],
            "text/plain": [
              "   min_year  year  ...  historicCLV  months_active\n",
              "0      2010  2010  ...    13.110872             12\n",
              "1      2010  2011  ...    21.010756             24\n",
              "2      2010  2012  ...    30.650407             36\n",
              "3      2010  2013  ...    38.531570             48\n",
              "4      2010  2014  ...    46.063663             60\n",
              "\n",
              "[5 rows x 8 columns]"
            ]
          },
          "metadata": {},
          "execution_count": 46
        }
      ]
    },
    {
      "cell_type": "code",
      "metadata": {
        "id": "i-1Ev2-MGnd5",
        "colab": {
          "base_uri": "https://localhost:8080/",
          "height": 364
        },
        "outputId": "8295669b-3ba0-4ab3-bb40-d80ba8fb9d88"
      },
      "source": [
        "# pivot, plot\n",
        "active_customers_stat.reset_index().pivot(index='months_active', \n",
        "    columns='min_year', values='historicCLV').plot(figsize=(8,5), grid=True, style=\"-o\")\n",
        "\n",
        "# set titles for figure, x, y\n",
        "plt.title('historical CLV',fontsize=20)\n",
        "plt.xlabel('Month active', fontsize=20)\n",
        "plt.ylabel('HistoricCLV',fontsize=20)\n",
        "\n",
        "plt.xticks(fontsize = 10) \n",
        "plt.yticks(fontsize = 10) \n",
        "plt.grid(True)\n",
        "plt.show()"
      ],
      "execution_count": null,
      "outputs": [
        {
          "output_type": "display_data",
          "data": {
            "image/png": "[encoded data removed]",
            "text/plain": [
              "<Figure size 576x360 with 1 Axes>"
            ]
          },
          "metadata": {
            "needs_background": "light"
          }
        }
      ]
    },
    {
      "cell_type": "markdown",
      "metadata": {
        "id": "8Fqh5TvMlkOS"
      },
      "source": [
        "We can also calculate weighted averages, where each cohort is weighted by the number of customers:"
      ]
    },
    {
      "cell_type": "code",
      "metadata": {
        "id": "xZ-9OfoNlk9w",
        "colab": {
          "base_uri": "https://localhost:8080/",
          "height": 364
        },
        "outputId": "71ef3aef-5047-486b-fd09-73e183164b1d"
      },
      "source": [
        "active_customers_stat['vol'] = active_customers_stat['historicCLV']*active_customers_stat['customers_unique']\n",
        "weighted_historic_CLV = active_customers_stat.groupby('months_active')\n",
        "\n",
        "weighted_clv = weighted_historic_CLV['vol'].sum() / weighted_historic_CLV['customers_unique'].sum()\n",
        "\n",
        "active_customers_stat.reset_index().pivot(index='months_active', \n",
        "    columns='min_year', values='historicCLV').plot(figsize=(8,5), grid=True, style=\"o\")\n",
        "\n",
        "weighted_clv.plot(figsize=(8,5), grid=True, style=\"*-\")\n",
        "\n",
        "# set titles for figure, x, y\n",
        "plt.title('estimated averages of historical CLV',fontsize=20)\n",
        "plt.xlabel('Months active', fontsize=20)\n",
        "plt.ylabel('HistoricCLV',fontsize=20)\n",
        "plt.ylim(ymin=10)\n",
        "plt.xlim(xmin=10)\n",
        "plt.legend()\n",
        "\n",
        "plt.xticks(fontsize = 10) \n",
        "plt.yticks(fontsize = 10) \n",
        "plt.grid(True)\n",
        "plt.show()"
      ],
      "execution_count": null,
      "outputs": [
        {
          "output_type": "display_data",
          "data": {
            "image/png": "[encoded data removed]",
            "text/plain": [
              "<Figure size 576x360 with 1 Axes>"
            ]
          },
          "metadata": {
            "needs_background": "light"
          }
        }
      ]
    },
    {
      "cell_type": "markdown",
      "metadata": {
        "id": "BPkDPu0EG7CN"
      },
      "source": [
        "### 3.2. Apply second method to calculate the CLV using machine learning method.\n",
        "\n",
        "**Simple Linear regression** Simple or single-variate linear regression is the simplest case of linear regression with a single independent variable, 𝐱 = 𝑥.\n",
        "    \n",
        "    \n",
        "The idea is we need to train our  model using historical data to predict future data. To predict the **current values (to fit the model)**, and use this model for future values?\n",
        "\n",
        ">We will use Scikit-learn library again for this purpose.\n",
        "\n",
        "![picture](https://i.ibb.co/BBXgWdB/Regression-steps-3-2.png)\n"
      ]
    },
    {
      "cell_type": "code",
      "metadata": {
        "colab": {
          "base_uri": "https://localhost:8080/"
        },
        "id": "RbnPMPZHWkGU",
        "outputId": "72782794-449d-421c-f4a2-eb01dc912359"
      },
      "source": [
        "weighted_clv.head()"
      ],
      "execution_count": null,
      "outputs": [
        {
          "output_type": "execute_result",
          "data": {
            "text/plain": [
              "months_active\n",
              "12    12.604520\n",
              "24    21.648106\n",
              "36    30.962415\n",
              "48    39.285518\n",
              "60    46.147536\n",
              "dtype: float64"
            ]
          },
          "metadata": {},
          "execution_count": 49
        }
      ]
    },
    {
      "cell_type": "code",
      "metadata": {
        "id": "sPhiLNFPhYwP"
      },
      "source": [
        "# sklearn package to apply simple machine learning methods\n",
        "from sklearn.linear_model import LinearRegression\n",
        "\n",
        "# define our variables\n",
        "x = weighted_clv.reset_index().months_active.values.reshape(-1, 1) #independent variable\n",
        "y = weighted_clv.values.reshape(-1, 1) # dependent variable\n",
        "# create the model\n",
        "model = LinearRegression()"
      ],
      "execution_count": null,
      "outputs": []
    },
    {
      "cell_type": "markdown",
      "metadata": {
        "id": "W6FzKDtBZQ_Q"
      },
      "source": [
        "![picture](https://i.ibb.co/2S36HZD/Regression-steps-4.png)"
      ]
    },
    {
      "cell_type": "code",
      "metadata": {
        "id": "_3Ym3o0DTamL",
        "colab": {
          "base_uri": "https://localhost:8080/"
        },
        "outputId": "db2466e0-a69a-43c3-e5e8-114cc104cf99"
      },
      "source": [
        "# fit x feature (months active) to y value (CLV)\n",
        "model.fit(x, y)"
      ],
      "execution_count": null,
      "outputs": [
        {
          "output_type": "execute_result",
          "data": {
            "text/plain": [
              "LinearRegression(copy_X=True, fit_intercept=True, n_jobs=None, normalize=False)"
            ]
          },
          "metadata": {},
          "execution_count": 51
        }
      ]
    },
    {
      "cell_type": "markdown",
      "metadata": {
        "id": "Ap3RmiG-ZdCB"
      },
      "source": [
        "![picture](https://i.ibb.co/9WNz4KB/Regression-steps-5.png)"
      ]
    },
    {
      "cell_type": "code",
      "metadata": {
        "id": "JAy2TF1yTcVX",
        "colab": {
          "base_uri": "https://localhost:8080/"
        },
        "outputId": "a80aecf7-3a01-4bdc-b153-f55918e1087d"
      },
      "source": [
        "y_pred = model.predict(x)\n",
        "print('predicted response:', y_pred, sep='\\n')\n",
        "# get coeficient (slope)\n",
        "print('Model coefficient: ', model.coef_)\n",
        "# get intercept\n",
        "print('Model intercept', model.intercept_)"
      ],
      "execution_count": null,
      "outputs": [
        {
          "output_type": "stream",
          "name": "stdout",
          "text": [
            "predicted response:\n",
            "[[13.84658471]\n",
            " [21.82268815]\n",
            " [29.79879158]\n",
            " [37.77489502]\n",
            " [45.75099845]\n",
            " [53.72710189]]\n",
            "Model coefficient:  [[0.66467529]]\n",
            "Model intercept [5.87048128]\n"
          ]
        }
      ]
    },
    {
      "cell_type": "markdown",
      "metadata": {
        "id": "wxsw_drghkgP"
      },
      "source": [
        "That is, model for calculating historical **CLV** using months of activity is:\n",
        "\n",
        "$CLV = 5.87 + 0.66 * months\\_active $\n",
        "\n",
        "Let's check the model predictions:\n",
        "\n",
        "![picture](https://i.ibb.co/sP81cwz/Regression-steps-6.png)"
      ]
    },
    {
      "cell_type": "code",
      "metadata": {
        "id": "h5AqIVDBhxXh",
        "colab": {
          "base_uri": "https://localhost:8080/",
          "height": 364
        },
        "outputId": "43d8d805-ce94-47a4-f2c9-828f3cb46e9f"
      },
      "source": [
        "# sample for our single feature months active x\n",
        "x = pd.Series(range(12, 125, 12))\n",
        "\n",
        "# predict new data or unseen data\n",
        "predictions = model.predict(x.values.reshape(-1, 1))\n",
        "\n",
        "predicted_clv = pd.DataFrame({'months_active': x, # our independent variable\n",
        "                              'predictions': predictions.reshape(-1)}) # our dependent variable\n",
        "\n",
        "predicted_clv.join(\n",
        "    pd.DataFrame({'historicCLV': weighted_clv}), on='months_active'\n",
        ").set_index('months_active').plot(figsize=(8,5), grid=True, style=\"-o\")\n",
        "\n",
        "# set titles for figure, x, y\n",
        "plt.title('Historical VS predicted CLV',fontsize=20)\n",
        "plt.xlabel('Month active', fontsize=20)\n",
        "plt.ylabel('CLV',fontsize=20)\n",
        "plt.ylim(ymin=10)\n",
        "plt.xlim(xmin=10)\n",
        "plt.legend()\n",
        "\n",
        "plt.xticks(fontsize = 10) \n",
        "plt.yticks(fontsize = 10) \n",
        "plt.grid(True)\n",
        "plt.show()"
      ],
      "execution_count": null,
      "outputs": [
        {
          "output_type": "display_data",
          "data": {
            "image/png": "[encoded data removed]",
            "text/plain": [
              "<Figure size 576x360 with 1 Axes>"
            ]
          },
          "metadata": {
            "needs_background": "light"
          }
        }
      ]
    },
    {
      "cell_type": "markdown",
      "metadata": {
        "id": "GQAdWR_Mh1bl"
      },
      "source": [
        "**Multiple linear regression**\n",
        "\n",
        "Now, what if we are more ambitious? Our desire is not just to fit general function, but to predict amount spent for each customer. Can we do that? Depends on the data. Assume that we performed a questionnaire upon the registration, collected some clicks on our website and also have information about proposed discounts for some of the customers:"
      ]
    },
    {
      "cell_type": "code",
      "metadata": {
        "id": "Wd9uLWWdiCNB",
        "colab": {
          "base_uri": "https://localhost:8080/",
          "height": 204
        },
        "outputId": "67c09aa8-4f98-4f49-c00c-0e3f7b6d8425"
      },
      "source": [
        "# read survey dataset\n",
        "survey = pd.read_csv('lab_04_customer_transact_survey.csv')\n",
        "survey.head()"
      ],
      "execution_count": null,
      "outputs": [
        {
          "output_type": "execute_result",
          "data": {
            "text/html": [
              "<div>\n",
              "<style scoped>\n",
              "    .dataframe tbody tr th:only-of-type {\n",
              "        vertical-align: middle;\n",
              "    }\n",
              "\n",
              "    .dataframe tbody tr th {\n",
              "        vertical-align: top;\n",
              "    }\n",
              "\n",
              "    .dataframe thead th {\n",
              "        text-align: right;\n",
              "    }\n",
              "</style>\n",
              "<table border=\"1\" class=\"dataframe\">\n",
              "  <thead>\n",
              "    <tr style=\"text-align: right;\">\n",
              "      <th></th>\n",
              "      <th>customer_id</th>\n",
              "      <th>gender</th>\n",
              "      <th>age</th>\n",
              "      <th>discount_proposed</th>\n",
              "      <th>clicks_in_eshop</th>\n",
              "    </tr>\n",
              "  </thead>\n",
              "  <tbody>\n",
              "    <tr>\n",
              "      <th>0</th>\n",
              "      <td>1</td>\n",
              "      <td>1</td>\n",
              "      <td>71</td>\n",
              "      <td>0</td>\n",
              "      <td>1</td>\n",
              "    </tr>\n",
              "    <tr>\n",
              "      <th>1</th>\n",
              "      <td>2</td>\n",
              "      <td>1</td>\n",
              "      <td>42</td>\n",
              "      <td>1</td>\n",
              "      <td>3</td>\n",
              "    </tr>\n",
              "    <tr>\n",
              "      <th>2</th>\n",
              "      <td>3</td>\n",
              "      <td>1</td>\n",
              "      <td>49</td>\n",
              "      <td>1</td>\n",
              "      <td>3</td>\n",
              "    </tr>\n",
              "    <tr>\n",
              "      <th>3</th>\n",
              "      <td>4</td>\n",
              "      <td>1</td>\n",
              "      <td>71</td>\n",
              "      <td>0</td>\n",
              "      <td>1</td>\n",
              "    </tr>\n",
              "    <tr>\n",
              "      <th>4</th>\n",
              "      <td>5</td>\n",
              "      <td>1</td>\n",
              "      <td>71</td>\n",
              "      <td>0</td>\n",
              "      <td>1</td>\n",
              "    </tr>\n",
              "  </tbody>\n",
              "</table>\n",
              "</div>"
            ],
            "text/plain": [
              "   customer_id  gender  age  discount_proposed  clicks_in_eshop\n",
              "0            1       1   71                  0                1\n",
              "1            2       1   42                  1                3\n",
              "2            3       1   49                  1                3\n",
              "3            4       1   71                  0                1\n",
              "4            5       1   71                  0                1"
            ]
          },
          "metadata": {},
          "execution_count": 54
        }
      ]
    },
    {
      "cell_type": "markdown",
      "metadata": {
        "id": "RJS7AWh-iPZS"
      },
      "source": [
        "Next step is to think, how to plan our experiment. What we want to predict? We decided to predict for all customers who made transactions in their first year $(t_0)$, what would be the amount of money spent next year $(t_1)$. For that reason we will discard:\n",
        "    \n",
        "   1. all customers who do not have the information about $t_1$\n",
        "   2. all the information about future years $t_k$, where $k>1$"
      ]
    },
    {
      "cell_type": "code",
      "metadata": {
        "id": "iMK9nQVziVPd",
        "colab": {
          "base_uri": "https://localhost:8080/",
          "height": 388
        },
        "outputId": "be7b2f62-339c-4afc-e55e-dd7fb3c01e9b"
      },
      "source": [
        "# read our original transzction dataset\n",
        "df = pd.read_csv(\"lab_04_clv_transactions.csv\")\n",
        "\n",
        "# copy the original df\n",
        "df_year = df \n",
        "\n",
        "# we take only year\n",
        "df_year['year'] = df_year.transaction_date.apply(lambda x: pd.to_datetime(x).date().year) \n",
        "df = df_year \n",
        "\n",
        "group = df.groupby('customer_id')\n",
        "df['min_year'] = group['year'].transform('min')\n",
        "df['max_year'] = group['year'].transform('max')\n",
        "df['years_active'] = df['max_year'] - df['min_year'] + 1\n",
        "\n",
        "active_customers = pd.DataFrame()\n",
        "group = df.groupby(['customer_id', 'year'])\n",
        "\n",
        "active_customers['transaction_per_customer'] = group['customer_id'].apply(lambda x: x.size)\n",
        "active_customers['amount_per_customer'] =group['amount'].sum()\n",
        "active_customers['amount_per_transaction'] = active_customers['amount_per_customer'] / active_customers['transaction_per_customer']\n",
        "active_customers['min_year'] = group['min_year'].first()\n",
        "active_customers['years_active'] = group['years_active'].first()\n",
        "\n",
        "active_customers.head(10)"
      ],
      "execution_count": null,
      "outputs": [
        {
          "output_type": "execute_result",
          "data": {
            "text/html": [
              "<div>\n",
              "<style scoped>\n",
              "    .dataframe tbody tr th:only-of-type {\n",
              "        vertical-align: middle;\n",
              "    }\n",
              "\n",
              "    .dataframe tbody tr th {\n",
              "        vertical-align: top;\n",
              "    }\n",
              "\n",
              "    .dataframe thead th {\n",
              "        text-align: right;\n",
              "    }\n",
              "</style>\n",
              "<table border=\"1\" class=\"dataframe\">\n",
              "  <thead>\n",
              "    <tr style=\"text-align: right;\">\n",
              "      <th></th>\n",
              "      <th></th>\n",
              "      <th>transaction_per_customer</th>\n",
              "      <th>amount_per_customer</th>\n",
              "      <th>amount_per_transaction</th>\n",
              "      <th>min_year</th>\n",
              "      <th>years_active</th>\n",
              "    </tr>\n",
              "    <tr>\n",
              "      <th>customer_id</th>\n",
              "      <th>year</th>\n",
              "      <th></th>\n",
              "      <th></th>\n",
              "      <th></th>\n",
              "      <th></th>\n",
              "      <th></th>\n",
              "    </tr>\n",
              "  </thead>\n",
              "  <tbody>\n",
              "    <tr>\n",
              "      <th>1</th>\n",
              "      <th>2012</th>\n",
              "      <td>1</td>\n",
              "      <td>20.96</td>\n",
              "      <td>20.9600</td>\n",
              "      <td>2012</td>\n",
              "      <td>1</td>\n",
              "    </tr>\n",
              "    <tr>\n",
              "      <th rowspan=\"3\" valign=\"top\">2</th>\n",
              "      <th>2012</th>\n",
              "      <td>2</td>\n",
              "      <td>14.81</td>\n",
              "      <td>7.4050</td>\n",
              "      <td>2012</td>\n",
              "      <td>3</td>\n",
              "    </tr>\n",
              "    <tr>\n",
              "      <th>2013</th>\n",
              "      <td>2</td>\n",
              "      <td>15.12</td>\n",
              "      <td>7.5600</td>\n",
              "      <td>2012</td>\n",
              "      <td>3</td>\n",
              "    </tr>\n",
              "    <tr>\n",
              "      <th>2014</th>\n",
              "      <td>4</td>\n",
              "      <td>17.79</td>\n",
              "      <td>4.4475</td>\n",
              "      <td>2012</td>\n",
              "      <td>3</td>\n",
              "    </tr>\n",
              "    <tr>\n",
              "      <th rowspan=\"4\" valign=\"top\">3</th>\n",
              "      <th>2012</th>\n",
              "      <td>1</td>\n",
              "      <td>21.58</td>\n",
              "      <td>21.5800</td>\n",
              "      <td>2012</td>\n",
              "      <td>4</td>\n",
              "    </tr>\n",
              "    <tr>\n",
              "      <th>2013</th>\n",
              "      <td>2</td>\n",
              "      <td>25.35</td>\n",
              "      <td>12.6750</td>\n",
              "      <td>2012</td>\n",
              "      <td>4</td>\n",
              "    </tr>\n",
              "    <tr>\n",
              "      <th>2014</th>\n",
              "      <td>2</td>\n",
              "      <td>7.68</td>\n",
              "      <td>3.8400</td>\n",
              "      <td>2012</td>\n",
              "      <td>4</td>\n",
              "    </tr>\n",
              "    <tr>\n",
              "      <th>2015</th>\n",
              "      <td>2</td>\n",
              "      <td>7.83</td>\n",
              "      <td>3.9150</td>\n",
              "      <td>2012</td>\n",
              "      <td>4</td>\n",
              "    </tr>\n",
              "    <tr>\n",
              "      <th>4</th>\n",
              "      <th>2015</th>\n",
              "      <td>1</td>\n",
              "      <td>0.54</td>\n",
              "      <td>0.5400</td>\n",
              "      <td>2015</td>\n",
              "      <td>1</td>\n",
              "    </tr>\n",
              "    <tr>\n",
              "      <th>5</th>\n",
              "      <th>2015</th>\n",
              "      <td>2</td>\n",
              "      <td>21.44</td>\n",
              "      <td>10.7200</td>\n",
              "      <td>2015</td>\n",
              "      <td>1</td>\n",
              "    </tr>\n",
              "  </tbody>\n",
              "</table>\n",
              "</div>"
            ],
            "text/plain": [
              "                  transaction_per_customer  ...  years_active\n",
              "customer_id year                            ...              \n",
              "1           2012                         1  ...             1\n",
              "2           2012                         2  ...             3\n",
              "            2013                         2  ...             3\n",
              "            2014                         4  ...             3\n",
              "3           2012                         1  ...             4\n",
              "            2013                         2  ...             4\n",
              "            2014                         2  ...             4\n",
              "            2015                         2  ...             4\n",
              "4           2015                         1  ...             1\n",
              "5           2015                         2  ...             1\n",
              "\n",
              "[10 rows x 5 columns]"
            ]
          },
          "metadata": {},
          "execution_count": 55
        }
      ]
    },
    {
      "cell_type": "code",
      "metadata": {
        "id": "I1U-c1yDl0_X",
        "colab": {
          "base_uri": "https://localhost:8080/",
          "height": 358
        },
        "outputId": "e0826c87-d5bb-4287-d6f6-11bdc5218281"
      },
      "source": [
        "dff = active_customers.rename_axis(['customer_id', 'year']).reset_index()\n",
        "\n",
        "# more than one year active\n",
        "dff =  dff.loc[dff['years_active'] > 1]\n",
        "\n",
        "grouped = dff.groupby('customer_id')\n",
        "\n",
        "# new dataframe for new features.\n",
        "newdf = pd.DataFrame()\n",
        "\n",
        "newdf['transaction_per_customer_1'] = grouped['transaction_per_customer'].first()\n",
        "newdf['amount_per_customer_1'] = grouped['amount_per_customer'].first() # first year\n",
        "newdf['amount_per_transaction_1'] = grouped['amount_per_transaction'].first()\n",
        "newdf['amount_per_customer_2'] = grouped['amount_per_customer'].apply(lambda x: x.values[1]) # second yaer\n",
        "newdf = newdf.rename_axis(['customer_id']).reset_index()\n",
        "newdf.head(10)"
      ],
      "execution_count": null,
      "outputs": [
        {
          "output_type": "execute_result",
          "data": {
            "text/html": [
              "<div>\n",
              "<style scoped>\n",
              "    .dataframe tbody tr th:only-of-type {\n",
              "        vertical-align: middle;\n",
              "    }\n",
              "\n",
              "    .dataframe tbody tr th {\n",
              "        vertical-align: top;\n",
              "    }\n",
              "\n",
              "    .dataframe thead th {\n",
              "        text-align: right;\n",
              "    }\n",
              "</style>\n",
              "<table border=\"1\" class=\"dataframe\">\n",
              "  <thead>\n",
              "    <tr style=\"text-align: right;\">\n",
              "      <th></th>\n",
              "      <th>customer_id</th>\n",
              "      <th>transaction_per_customer_1</th>\n",
              "      <th>amount_per_customer_1</th>\n",
              "      <th>amount_per_transaction_1</th>\n",
              "      <th>amount_per_customer_2</th>\n",
              "    </tr>\n",
              "  </thead>\n",
              "  <tbody>\n",
              "    <tr>\n",
              "      <th>0</th>\n",
              "      <td>2</td>\n",
              "      <td>2</td>\n",
              "      <td>14.81</td>\n",
              "      <td>7.405000</td>\n",
              "      <td>15.12</td>\n",
              "    </tr>\n",
              "    <tr>\n",
              "      <th>1</th>\n",
              "      <td>3</td>\n",
              "      <td>1</td>\n",
              "      <td>21.58</td>\n",
              "      <td>21.580000</td>\n",
              "      <td>25.35</td>\n",
              "    </tr>\n",
              "    <tr>\n",
              "      <th>2</th>\n",
              "      <td>7</td>\n",
              "      <td>2</td>\n",
              "      <td>26.46</td>\n",
              "      <td>13.230000</td>\n",
              "      <td>8.08</td>\n",
              "    </tr>\n",
              "    <tr>\n",
              "      <th>3</th>\n",
              "      <td>8</td>\n",
              "      <td>1</td>\n",
              "      <td>6.21</td>\n",
              "      <td>6.210000</td>\n",
              "      <td>2.35</td>\n",
              "    </tr>\n",
              "    <tr>\n",
              "      <th>4</th>\n",
              "      <td>9</td>\n",
              "      <td>3</td>\n",
              "      <td>19.21</td>\n",
              "      <td>6.403333</td>\n",
              "      <td>11.46</td>\n",
              "    </tr>\n",
              "    <tr>\n",
              "      <th>5</th>\n",
              "      <td>10</td>\n",
              "      <td>1</td>\n",
              "      <td>12.37</td>\n",
              "      <td>12.370000</td>\n",
              "      <td>5.99</td>\n",
              "    </tr>\n",
              "    <tr>\n",
              "      <th>6</th>\n",
              "      <td>12</td>\n",
              "      <td>3</td>\n",
              "      <td>47.09</td>\n",
              "      <td>15.696667</td>\n",
              "      <td>4.78</td>\n",
              "    </tr>\n",
              "    <tr>\n",
              "      <th>7</th>\n",
              "      <td>13</td>\n",
              "      <td>2</td>\n",
              "      <td>10.17</td>\n",
              "      <td>5.085000</td>\n",
              "      <td>59.67</td>\n",
              "    </tr>\n",
              "    <tr>\n",
              "      <th>8</th>\n",
              "      <td>14</td>\n",
              "      <td>1</td>\n",
              "      <td>28.72</td>\n",
              "      <td>28.720000</td>\n",
              "      <td>10.08</td>\n",
              "    </tr>\n",
              "    <tr>\n",
              "      <th>9</th>\n",
              "      <td>15</td>\n",
              "      <td>2</td>\n",
              "      <td>24.47</td>\n",
              "      <td>12.235000</td>\n",
              "      <td>5.14</td>\n",
              "    </tr>\n",
              "  </tbody>\n",
              "</table>\n",
              "</div>"
            ],
            "text/plain": [
              "   customer_id  ...  amount_per_customer_2\n",
              "0            2  ...                  15.12\n",
              "1            3  ...                  25.35\n",
              "2            7  ...                   8.08\n",
              "3            8  ...                   2.35\n",
              "4            9  ...                  11.46\n",
              "5           10  ...                   5.99\n",
              "6           12  ...                   4.78\n",
              "7           13  ...                  59.67\n",
              "8           14  ...                  10.08\n",
              "9           15  ...                   5.14\n",
              "\n",
              "[10 rows x 5 columns]"
            ]
          },
          "metadata": {},
          "execution_count": 56
        }
      ]
    },
    {
      "cell_type": "code",
      "metadata": {
        "id": "BE91qy5bl4Ov",
        "colab": {
          "base_uri": "https://localhost:8080/"
        },
        "outputId": "a8a6390f-23a8-4607-92ec-7e1c90c6d469"
      },
      "source": [
        "model_data = newdf.merge(survey, on='customer_id', how='left')\n",
        "model_data['gender'] = model_data.gender.astype('category')\n",
        "model_data['discount_proposed'] = model_data.discount_proposed.astype('category')\n",
        "model_data.info()"
      ],
      "execution_count": null,
      "outputs": [
        {
          "output_type": "stream",
          "name": "stdout",
          "text": [
            "<class 'pandas.core.frame.DataFrame'>\n",
            "Int64Index: 657 entries, 0 to 656\n",
            "Data columns (total 9 columns):\n",
            " #   Column                      Non-Null Count  Dtype   \n",
            "---  ------                      --------------  -----   \n",
            " 0   customer_id                 657 non-null    int64   \n",
            " 1   transaction_per_customer_1  657 non-null    int64   \n",
            " 2   amount_per_customer_1       657 non-null    float64 \n",
            " 3   amount_per_transaction_1    657 non-null    float64 \n",
            " 4   amount_per_customer_2       657 non-null    float64 \n",
            " 5   gender                      657 non-null    category\n",
            " 6   age                         657 non-null    int64   \n",
            " 7   discount_proposed           657 non-null    category\n",
            " 8   clicks_in_eshop             657 non-null    int64   \n",
            "dtypes: category(2), float64(3), int64(4)\n",
            "memory usage: 42.5 KB\n"
          ]
        }
      ]
    },
    {
      "cell_type": "code",
      "metadata": {
        "id": "oLSceKe8l8IZ",
        "colab": {
          "base_uri": "https://localhost:8080/",
          "height": 418
        },
        "outputId": "1797ffcf-80c7-4264-a3a2-6b7c238b918c"
      },
      "source": [
        "# features\n",
        "x = model_data.loc[:, model_data.columns != 'amount_per_customer_2']\n",
        "x"
      ],
      "execution_count": null,
      "outputs": [
        {
          "output_type": "execute_result",
          "data": {
            "text/html": [
              "<div>\n",
              "<style scoped>\n",
              "    .dataframe tbody tr th:only-of-type {\n",
              "        vertical-align: middle;\n",
              "    }\n",
              "\n",
              "    .dataframe tbody tr th {\n",
              "        vertical-align: top;\n",
              "    }\n",
              "\n",
              "    .dataframe thead th {\n",
              "        text-align: right;\n",
              "    }\n",
              "</style>\n",
              "<table border=\"1\" class=\"dataframe\">\n",
              "  <thead>\n",
              "    <tr style=\"text-align: right;\">\n",
              "      <th></th>\n",
              "      <th>customer_id</th>\n",
              "      <th>transaction_per_customer_1</th>\n",
              "      <th>amount_per_customer_1</th>\n",
              "      <th>amount_per_transaction_1</th>\n",
              "      <th>gender</th>\n",
              "      <th>age</th>\n",
              "      <th>discount_proposed</th>\n",
              "      <th>clicks_in_eshop</th>\n",
              "    </tr>\n",
              "  </thead>\n",
              "  <tbody>\n",
              "    <tr>\n",
              "      <th>0</th>\n",
              "      <td>2</td>\n",
              "      <td>2</td>\n",
              "      <td>14.81</td>\n",
              "      <td>7.405000</td>\n",
              "      <td>1</td>\n",
              "      <td>42</td>\n",
              "      <td>1</td>\n",
              "      <td>3</td>\n",
              "    </tr>\n",
              "    <tr>\n",
              "      <th>1</th>\n",
              "      <td>3</td>\n",
              "      <td>1</td>\n",
              "      <td>21.58</td>\n",
              "      <td>21.580000</td>\n",
              "      <td>1</td>\n",
              "      <td>49</td>\n",
              "      <td>1</td>\n",
              "      <td>3</td>\n",
              "    </tr>\n",
              "    <tr>\n",
              "      <th>2</th>\n",
              "      <td>7</td>\n",
              "      <td>2</td>\n",
              "      <td>26.46</td>\n",
              "      <td>13.230000</td>\n",
              "      <td>0</td>\n",
              "      <td>42</td>\n",
              "      <td>0</td>\n",
              "      <td>1</td>\n",
              "    </tr>\n",
              "    <tr>\n",
              "      <th>3</th>\n",
              "      <td>8</td>\n",
              "      <td>1</td>\n",
              "      <td>6.21</td>\n",
              "      <td>6.210000</td>\n",
              "      <td>0</td>\n",
              "      <td>28</td>\n",
              "      <td>0</td>\n",
              "      <td>1</td>\n",
              "    </tr>\n",
              "    <tr>\n",
              "      <th>4</th>\n",
              "      <td>9</td>\n",
              "      <td>3</td>\n",
              "      <td>19.21</td>\n",
              "      <td>6.403333</td>\n",
              "      <td>1</td>\n",
              "      <td>42</td>\n",
              "      <td>0</td>\n",
              "      <td>1</td>\n",
              "    </tr>\n",
              "    <tr>\n",
              "      <th>...</th>\n",
              "      <td>...</td>\n",
              "      <td>...</td>\n",
              "      <td>...</td>\n",
              "      <td>...</td>\n",
              "      <td>...</td>\n",
              "      <td>...</td>\n",
              "      <td>...</td>\n",
              "      <td>...</td>\n",
              "    </tr>\n",
              "    <tr>\n",
              "      <th>652</th>\n",
              "      <td>994</td>\n",
              "      <td>1</td>\n",
              "      <td>2.45</td>\n",
              "      <td>2.450000</td>\n",
              "      <td>1</td>\n",
              "      <td>18</td>\n",
              "      <td>0</td>\n",
              "      <td>1</td>\n",
              "    </tr>\n",
              "    <tr>\n",
              "      <th>653</th>\n",
              "      <td>997</td>\n",
              "      <td>1</td>\n",
              "      <td>7.93</td>\n",
              "      <td>7.930000</td>\n",
              "      <td>0</td>\n",
              "      <td>42</td>\n",
              "      <td>0</td>\n",
              "      <td>1</td>\n",
              "    </tr>\n",
              "    <tr>\n",
              "      <th>654</th>\n",
              "      <td>998</td>\n",
              "      <td>1</td>\n",
              "      <td>16.14</td>\n",
              "      <td>16.140000</td>\n",
              "      <td>0</td>\n",
              "      <td>24</td>\n",
              "      <td>1</td>\n",
              "      <td>4</td>\n",
              "    </tr>\n",
              "    <tr>\n",
              "      <th>655</th>\n",
              "      <td>999</td>\n",
              "      <td>2</td>\n",
              "      <td>2.05</td>\n",
              "      <td>1.025000</td>\n",
              "      <td>0</td>\n",
              "      <td>42</td>\n",
              "      <td>1</td>\n",
              "      <td>3</td>\n",
              "    </tr>\n",
              "    <tr>\n",
              "      <th>656</th>\n",
              "      <td>1000</td>\n",
              "      <td>3</td>\n",
              "      <td>24.75</td>\n",
              "      <td>8.250000</td>\n",
              "      <td>1</td>\n",
              "      <td>42</td>\n",
              "      <td>1</td>\n",
              "      <td>3</td>\n",
              "    </tr>\n",
              "  </tbody>\n",
              "</table>\n",
              "<p>657 rows × 8 columns</p>\n",
              "</div>"
            ],
            "text/plain": [
              "     customer_id  transaction_per_customer_1  ...  discount_proposed  clicks_in_eshop\n",
              "0              2                           2  ...                  1                3\n",
              "1              3                           1  ...                  1                3\n",
              "2              7                           2  ...                  0                1\n",
              "3              8                           1  ...                  0                1\n",
              "4              9                           3  ...                  0                1\n",
              "..           ...                         ...  ...                ...              ...\n",
              "652          994                           1  ...                  0                1\n",
              "653          997                           1  ...                  0                1\n",
              "654          998                           1  ...                  1                4\n",
              "655          999                           2  ...                  1                3\n",
              "656         1000                           3  ...                  1                3\n",
              "\n",
              "[657 rows x 8 columns]"
            ]
          },
          "metadata": {},
          "execution_count": 59
        }
      ]
    },
    {
      "cell_type": "code",
      "metadata": {
        "id": "GLVes43cl_PS",
        "colab": {
          "base_uri": "https://localhost:8080/",
          "height": 418
        },
        "outputId": "0d2314dc-7794-4583-f389-e582da07e9eb"
      },
      "source": [
        "# target\n",
        "y = model_data[['amount_per_customer_2']]\n",
        "y"
      ],
      "execution_count": null,
      "outputs": [
        {
          "output_type": "execute_result",
          "data": {
            "text/html": [
              "<div>\n",
              "<style scoped>\n",
              "    .dataframe tbody tr th:only-of-type {\n",
              "        vertical-align: middle;\n",
              "    }\n",
              "\n",
              "    .dataframe tbody tr th {\n",
              "        vertical-align: top;\n",
              "    }\n",
              "\n",
              "    .dataframe thead th {\n",
              "        text-align: right;\n",
              "    }\n",
              "</style>\n",
              "<table border=\"1\" class=\"dataframe\">\n",
              "  <thead>\n",
              "    <tr style=\"text-align: right;\">\n",
              "      <th></th>\n",
              "      <th>amount_per_customer_2</th>\n",
              "    </tr>\n",
              "  </thead>\n",
              "  <tbody>\n",
              "    <tr>\n",
              "      <th>0</th>\n",
              "      <td>15.12</td>\n",
              "    </tr>\n",
              "    <tr>\n",
              "      <th>1</th>\n",
              "      <td>25.35</td>\n",
              "    </tr>\n",
              "    <tr>\n",
              "      <th>2</th>\n",
              "      <td>8.08</td>\n",
              "    </tr>\n",
              "    <tr>\n",
              "      <th>3</th>\n",
              "      <td>2.35</td>\n",
              "    </tr>\n",
              "    <tr>\n",
              "      <th>4</th>\n",
              "      <td>11.46</td>\n",
              "    </tr>\n",
              "    <tr>\n",
              "      <th>...</th>\n",
              "      <td>...</td>\n",
              "    </tr>\n",
              "    <tr>\n",
              "      <th>652</th>\n",
              "      <td>5.45</td>\n",
              "    </tr>\n",
              "    <tr>\n",
              "      <th>653</th>\n",
              "      <td>11.88</td>\n",
              "    </tr>\n",
              "    <tr>\n",
              "      <th>654</th>\n",
              "      <td>59.48</td>\n",
              "    </tr>\n",
              "    <tr>\n",
              "      <th>655</th>\n",
              "      <td>13.61</td>\n",
              "    </tr>\n",
              "    <tr>\n",
              "      <th>656</th>\n",
              "      <td>13.60</td>\n",
              "    </tr>\n",
              "  </tbody>\n",
              "</table>\n",
              "<p>657 rows × 1 columns</p>\n",
              "</div>"
            ],
            "text/plain": [
              "     amount_per_customer_2\n",
              "0                    15.12\n",
              "1                    25.35\n",
              "2                     8.08\n",
              "3                     2.35\n",
              "4                    11.46\n",
              "..                     ...\n",
              "652                   5.45\n",
              "653                  11.88\n",
              "654                  59.48\n",
              "655                  13.61\n",
              "656                  13.60\n",
              "\n",
              "[657 rows x 1 columns]"
            ]
          },
          "metadata": {},
          "execution_count": 60
        }
      ]
    },
    {
      "cell_type": "markdown",
      "metadata": {
        "id": "x3KZWhdmmtlH"
      },
      "source": [
        "###About train/test split\n",
        "\n",
        "![picture](https://www.researchgate.net/profile/Brian_Mwandau/publication/325870973/figure/fig6/AS:639531594285060@1529487622235/Train-Test-Data-Split.png)"
      ]
    },
    {
      "cell_type": "code",
      "metadata": {
        "id": "69Aw6n0taXuZ"
      },
      "source": [
        "from sklearn.model_selection import train_test_split\n",
        "from sklearn.metrics import mean_squared_error\n",
        "from sklearn.metrics import r2_score\n",
        "from sklearn.metrics import median_absolute_error\n",
        "# mean square error is the mean of squared distance between predicted value and the original value,a=p, b=o, (a-b)**2,mean\n",
        "#a-b\n",
        "#median: a-b, median absolute\n",
        "X = x\n",
        "y = y\n",
        "\n",
        "# split the data to train and test\n",
        "X_train, X_test, y_train, y_test = train_test_split(X, y, test_size = 0.2, random_state=9)"
      ],
      "execution_count": null,
      "outputs": []
    },
    {
      "cell_type": "markdown",
      "metadata": {
        "id": "yVuBVkPHaOk2"
      },
      "source": [
        "![picture](https://i.ibb.co/9WNz4KB/Regression-steps-5.png)"
      ]
    },
    {
      "cell_type": "code",
      "metadata": {
        "id": "L678jg5PmCPt"
      },
      "source": [
        "# make an instance from the lr model\n",
        "lin_reg_mod = LinearRegression()\n",
        "\n",
        "# train the model - teach the model\n",
        "lin_reg_mod.fit(X_train, y_train)\n",
        "\n",
        "# predict unseen data (test dat)\n",
        "pred = lin_reg_mod.predict(X_test)"
      ],
      "execution_count": null,
      "outputs": []
    },
    {
      "cell_type": "markdown",
      "metadata": {
        "id": "APLDy7YCZ1vx"
      },
      "source": [
        "![picture](https://i.ibb.co/sP81cwz/Regression-steps-6.png)"
      ]
    },
    {
      "cell_type": "code",
      "metadata": {
        "id": "TVQc3eLtZ1Ou",
        "colab": {
          "base_uri": "https://localhost:8080/"
        },
        "outputId": "8aabd99b-6b3e-4ea6-b81b-635d4af0b478"
      },
      "source": [
        "# Evaluate the lr model\n",
        "# MAE\n",
        "test_set_mae = median_absolute_error(y_test, pred)\n",
        "# RMSE\n",
        "test_set_rmse = (np.sqrt(mean_squared_error(y_test, pred)))\n",
        "#R^2\n",
        "test_set_r2 = r2_score(y_test, pred)\n",
        "#MSE\n",
        "test_set_mse = (mean_squared_error(y_test, pred))\n",
        "\n",
        "print(\"mean squared error is: \", test_set_mse)\n",
        "print(\"root mean squared error is: \", test_set_rmse)\n",
        "print(\"mean absolute error is: \", test_set_mae)\n",
        "print(\"rscore: \", test_set_r2)"
      ],
      "execution_count": null,
      "outputs": [
        {
          "output_type": "stream",
          "name": "stdout",
          "text": [
            "mean squared error is:  25.85661354806587\n",
            "root mean squared error is:  5.084939876543858\n",
            "mean absolute error is:  2.760787031493546\n",
            "rscore:  0.8504003133874143\n"
          ]
        }
      ]
    },
    {
      "cell_type": "code",
      "metadata": {
        "id": "BhjJWvFTmE6r",
        "colab": {
          "base_uri": "https://localhost:8080/"
        },
        "outputId": "63fff6de-cfa2-4619-9505-bef2b69cacc7"
      },
      "source": [
        "print('coef: ', lin_reg_mod.coef_)\n",
        "print('\\nintercept: ', lin_reg_mod.intercept_)"
      ],
      "execution_count": null,
      "outputs": [
        {
          "output_type": "stream",
          "name": "stdout",
          "text": [
            "coef:  [[-1.41464813e-04  2.50016299e-01 -2.37115657e-04 -2.38937762e-02\n",
            "  -2.89772698e-01  2.24908103e-01 -3.66101256e+01  2.38878044e+01]]\n",
            "\n",
            "intercept:  [-25.43919346]\n"
          ]
        }
      ]
    },
    {
      "cell_type": "markdown",
      "metadata": {
        "id": "rYG-9qVGoycN"
      },
      "source": [
        "## Ex 3:\n",
        "Split our data into 60/40% ratio of train and test data (we want to use 60% of df for training and 40% for test).\n",
        "Then create Linear Regression model, fit the data into this model and make predictions."
      ]
    },
    {
      "cell_type": "code",
      "metadata": {
        "id": "ojzq02IDpN5I"
      },
      "source": [
        "# TODO: replace '?' signs\n",
        "X_train, X_test, y_train, y_test = ?(X, y, test_size = ?, random_state=9)\n",
        "\n",
        "# make an instance from the lr model\n",
        "lin_reg_mod = ?\n",
        "\n",
        "# train the model - teach the model\n",
        "lin_reg_mod.fit(?,?)\n",
        "\n",
        "# predict unseen data\n",
        "pred = lin_reg_mod.predict(?)"
      ],
      "execution_count": null,
      "outputs": []
    },
    {
      "cell_type": "markdown",
      "metadata": {
        "id": "zMMCQYX1tBgz"
      },
      "source": [
        "This code is to evaluate our new model from the exercise. There's no need to make any changes in here."
      ]
    },
    {
      "cell_type": "code",
      "metadata": {
        "id": "yXXpwlO4pYLZ",
        "colab": {
          "base_uri": "https://localhost:8080/"
        },
        "outputId": "0e3f3a6c-add2-4718-8894-8046a4c26412"
      },
      "source": [
        "# Evaluate the lr model\n",
        "# MAE\n",
        "test_set_mae = median_absolute_error(y_test, pred)\n",
        "# RMSE\n",
        "test_set_rmse = (np.sqrt(mean_squared_error(y_test, pred)))\n",
        "#R^2\n",
        "test_set_r2 = r2_score(y_test, pred)\n",
        "#MSE\n",
        "test_set_mse = (mean_squared_error(y_test, pred))\n",
        "\n",
        "print(\"mean squared error is: \", test_set_mse)\n",
        "print(\"root mean squared error is: \", test_set_rmse)\n",
        "print(\"mean absolute error is: \", test_set_mae)\n",
        "print(\"rscore: \", test_set_r2)"
      ],
      "execution_count": null,
      "outputs": [
        {
          "output_type": "stream",
          "name": "stdout",
          "text": [
            "mean squared error is:  23.832099463567907\n",
            "root mean squared error is:  4.88181313279891\n",
            "mean absolute error is:  2.8086562828536614\n",
            "rscore:  0.8330533335859078\n"
          ]
        }
      ]
    },
    {
      "cell_type": "code",
      "metadata": {
        "id": "w7zAgPh2dBWH"
      },
      "source": [
        ""
      ],
      "execution_count": null,
      "outputs": []
    }
  ]
}