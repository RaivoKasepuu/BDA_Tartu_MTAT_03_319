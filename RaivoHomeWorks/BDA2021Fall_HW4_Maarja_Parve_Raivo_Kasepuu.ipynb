{
  "nbformat": 4,
  "nbformat_minor": 0,
  "metadata": {
    "kernelspec": {
      "display_name": "Python 3",
      "language": "python",
      "name": "python3"
    },
    "language_info": {
      "codemirror_mode": {
        "name": "ipython",
        "version": 3
      },
      "file_extension": ".py",
      "mimetype": "text/x-python",
      "name": "python",
      "nbconvert_exporter": "python",
      "pygments_lexer": "ipython3",
      "version": "3.7.3"
    },
    "colab": {
      "name": "BDA2021Fall_HW4_Maarja_Parve_Raivo_Kasepuu.ipynb",
      "provenance": [],
      "collapsed_sections": []
    }
  },
  "cells": [
    {
      "cell_type": "markdown",
      "metadata": {
        "id": "zliKEQsWGB43"
      },
      "source": [
        "\n",
        "<div class=\"alert alert-block alert-info\"><b></b>\n",
        "<h1><center> <font color='black'> Homework 04  </font></center></h1>\n",
        "<h2><center> <font color='black'> Customer lifecycle management - regression </font></center></h2>   \n",
        "<h2><center> <font color='black'> MTAT.03.319 - Business Data Analytics</font></center></h2>\n",
        "<h2><center> <font color='black'> University of Tartu - Fall 2021</font></center></h2>\n",
        "</div>"
      ]
    },
    {
      "cell_type": "markdown",
      "metadata": {
        "id": "UapmpHUqGQl6"
      },
      "source": [
        "# Homework instructions\n",
        "- Please name your homeworks in the following format BDAFall2021_HWX_Name_Surname.ipynb then it will be easier to grade your homeworks and smaller possibility for a human mistake.\n",
        "- Please provide the names and student IDs of the team-members (Maximum 2 person) in the field \"Team mates\" below. If you are not working in a team please insert only your name and student ID. \n",
        "\n",
        "- The accepted submission formats are Colab links or .ipynb files. If you are submitting Colab links please make sure that the privacy settings for the file is public so we can access your code. \n",
        "\n",
        "- The submission will automatically close on <font color='red'>**3 November at 23:59**</font>, so please make sure to submit before the deadline. \n",
        "\n",
        "- ONLY one of the teammates should submit the homework. We will grade the homework and the marks and feedback is applied for both the team members. So please communicate with your team member about marks and feedback if you are submit the homework.\n",
        "\n",
        "- If a question is not clear, please ask us in Moodle ONLY. \n",
        "\n",
        "- For coding related questions, do submit your code as well as your explanation/answer.\n",
        "\n",
        "- After you have finished solving the Homework, please restart the Kernel and run all the cells to check if there is any persisting issues. \n",
        "\n",
        "- Plagiarism is <font color='red'>**PROHIBITED**</font>. Any form of plagiarism will be dealt according to the university policy (https://www.ut.ee/en/current-students/academic-fraud).\n",
        "\n",
        "- Please <font color='red'>do not change</font> the template of this notebook file. You can download the .ipynb file and work on that."
      ]
    },
    {
      "cell_type": "markdown",
      "metadata": {
        "id": "sH1wQYpilvIQ"
      },
      "source": [
        "**<h2><font color='red'>Team mates:</font></h2>**\n",
        "\n",
        "\n",
        "<font color='#0072CE'>Name: Raivo Kasepuu</font>&emsp;   <font color='#0072CE'>Student ID: B710710</font>\n",
        "\n",
        "\n",
        "<font color='#0072CE'>Name: Maarja Parve</font>&emsp;   <font color='#0072CE'>Student ID: B99902</font>"
      ]
    },
    {
      "cell_type": "code",
      "metadata": {
        "id": "HUKq2c54qVqI",
        "colab": {
          "base_uri": "https://localhost:8080/"
        },
        "outputId": "7a3f0e20-0fa2-448f-faee-314a83dd9513"
      },
      "source": [
        "print(\"Hello! Welcome to our HW4\")\n",
        "print(\"Maarja and Raivo are ready for yet another challenge!\")\n",
        "import numpy as np\n",
        "import seaborn as sns\n",
        "import matplotlib.pyplot as plt\n",
        "import pandas as pd"
      ],
      "execution_count": 41,
      "outputs": [
        {
          "output_type": "stream",
          "name": "stdout",
          "text": [
            "Hello! Welcome to our HW4\n",
            "Maarja and Raivo are ready for yet another challenge!\n"
          ]
        }
      ]
    },
    {
      "cell_type": "markdown",
      "metadata": {
        "id": "89pLNJIPppaq"
      },
      "source": [
        "## Question 1  (3 points in total)  \n",
        "Use lab_04_clv_transactions.csv dataset for the following questions:"
      ]
    },
    {
      "cell_type": "code",
      "metadata": {
        "id": "dyf95Jb7m_Vd",
        "colab": {
          "base_uri": "https://localhost:8080/",
          "height": 1000
        },
        "outputId": "0e144c66-6446-4993-acbe-060bca65997b"
      },
      "source": [
        "print(\"Lets check out, what csv file we got this time:\")\n",
        "df = pd.read_csv('lab_04_clv_transactions.csv')\n",
        "df.info()\n",
        "print(df.describe())\n",
        "df.head(20)"
      ],
      "execution_count": 42,
      "outputs": [
        {
          "output_type": "stream",
          "name": "stdout",
          "text": [
            "Lets check out, what csv file we got this time:\n",
            "<class 'pandas.core.frame.DataFrame'>\n",
            "RangeIndex: 4181 entries, 0 to 4180\n",
            "Data columns (total 4 columns):\n",
            " #   Column            Non-Null Count  Dtype  \n",
            "---  ------            --------------  -----  \n",
            " 0   transaction_id    4181 non-null   int64  \n",
            " 1   transaction_date  4181 non-null   object \n",
            " 2   customer_id       4181 non-null   int64  \n",
            " 3   amount            4181 non-null   float64\n",
            "dtypes: float64(1), int64(2), object(1)\n",
            "memory usage: 130.8+ KB\n",
            "       transaction_id  customer_id       amount\n",
            "count     4181.000000  4181.000000  4181.000000\n",
            "mean      2091.000000   516.332217     8.067426\n",
            "std       1207.095067   291.209738     6.007071\n",
            "min          1.000000     1.000000     0.010000\n",
            "25%       1046.000000   270.000000     3.310000\n",
            "50%       2091.000000   522.000000     6.880000\n",
            "75%       3136.000000   762.000000    11.690000\n",
            "max       4181.000000  1000.000000    38.350000\n"
          ]
        },
        {
          "output_type": "execute_result",
          "data": {
            "text/html": [
              "<div>\n",
              "<style scoped>\n",
              "    .dataframe tbody tr th:only-of-type {\n",
              "        vertical-align: middle;\n",
              "    }\n",
              "\n",
              "    .dataframe tbody tr th {\n",
              "        vertical-align: top;\n",
              "    }\n",
              "\n",
              "    .dataframe thead th {\n",
              "        text-align: right;\n",
              "    }\n",
              "</style>\n",
              "<table border=\"1\" class=\"dataframe\">\n",
              "  <thead>\n",
              "    <tr style=\"text-align: right;\">\n",
              "      <th></th>\n",
              "      <th>transaction_id</th>\n",
              "      <th>transaction_date</th>\n",
              "      <th>customer_id</th>\n",
              "      <th>amount</th>\n",
              "    </tr>\n",
              "  </thead>\n",
              "  <tbody>\n",
              "    <tr>\n",
              "      <th>0</th>\n",
              "      <td>1</td>\n",
              "      <td>2012-09-04</td>\n",
              "      <td>1</td>\n",
              "      <td>20.96</td>\n",
              "    </tr>\n",
              "    <tr>\n",
              "      <th>1</th>\n",
              "      <td>2</td>\n",
              "      <td>2012-05-15</td>\n",
              "      <td>2</td>\n",
              "      <td>10.87</td>\n",
              "    </tr>\n",
              "    <tr>\n",
              "      <th>2</th>\n",
              "      <td>3</td>\n",
              "      <td>2014-05-23</td>\n",
              "      <td>2</td>\n",
              "      <td>2.21</td>\n",
              "    </tr>\n",
              "    <tr>\n",
              "      <th>3</th>\n",
              "      <td>4</td>\n",
              "      <td>2014-10-24</td>\n",
              "      <td>2</td>\n",
              "      <td>10.48</td>\n",
              "    </tr>\n",
              "    <tr>\n",
              "      <th>4</th>\n",
              "      <td>5</td>\n",
              "      <td>2012-10-13</td>\n",
              "      <td>2</td>\n",
              "      <td>3.94</td>\n",
              "    </tr>\n",
              "    <tr>\n",
              "      <th>5</th>\n",
              "      <td>6</td>\n",
              "      <td>2013-01-23</td>\n",
              "      <td>2</td>\n",
              "      <td>12.37</td>\n",
              "    </tr>\n",
              "    <tr>\n",
              "      <th>6</th>\n",
              "      <td>7</td>\n",
              "      <td>2014-03-09</td>\n",
              "      <td>2</td>\n",
              "      <td>1.59</td>\n",
              "    </tr>\n",
              "    <tr>\n",
              "      <th>7</th>\n",
              "      <td>8</td>\n",
              "      <td>2013-11-17</td>\n",
              "      <td>2</td>\n",
              "      <td>2.75</td>\n",
              "    </tr>\n",
              "    <tr>\n",
              "      <th>8</th>\n",
              "      <td>9</td>\n",
              "      <td>2014-10-10</td>\n",
              "      <td>2</td>\n",
              "      <td>3.51</td>\n",
              "    </tr>\n",
              "    <tr>\n",
              "      <th>9</th>\n",
              "      <td>10</td>\n",
              "      <td>2012-11-26</td>\n",
              "      <td>3</td>\n",
              "      <td>21.58</td>\n",
              "    </tr>\n",
              "    <tr>\n",
              "      <th>10</th>\n",
              "      <td>11</td>\n",
              "      <td>2013-03-14</td>\n",
              "      <td>3</td>\n",
              "      <td>15.43</td>\n",
              "    </tr>\n",
              "    <tr>\n",
              "      <th>11</th>\n",
              "      <td>12</td>\n",
              "      <td>2014-03-10</td>\n",
              "      <td>3</td>\n",
              "      <td>5.45</td>\n",
              "    </tr>\n",
              "    <tr>\n",
              "      <th>12</th>\n",
              "      <td>13</td>\n",
              "      <td>2015-04-28</td>\n",
              "      <td>3</td>\n",
              "      <td>1.67</td>\n",
              "    </tr>\n",
              "    <tr>\n",
              "      <th>13</th>\n",
              "      <td>14</td>\n",
              "      <td>2014-10-08</td>\n",
              "      <td>3</td>\n",
              "      <td>2.23</td>\n",
              "    </tr>\n",
              "    <tr>\n",
              "      <th>14</th>\n",
              "      <td>15</td>\n",
              "      <td>2013-03-20</td>\n",
              "      <td>3</td>\n",
              "      <td>9.92</td>\n",
              "    </tr>\n",
              "    <tr>\n",
              "      <th>15</th>\n",
              "      <td>16</td>\n",
              "      <td>2015-08-10</td>\n",
              "      <td>3</td>\n",
              "      <td>6.16</td>\n",
              "    </tr>\n",
              "    <tr>\n",
              "      <th>16</th>\n",
              "      <td>17</td>\n",
              "      <td>2015-07-07</td>\n",
              "      <td>4</td>\n",
              "      <td>0.54</td>\n",
              "    </tr>\n",
              "    <tr>\n",
              "      <th>17</th>\n",
              "      <td>18</td>\n",
              "      <td>2015-01-24</td>\n",
              "      <td>5</td>\n",
              "      <td>14.54</td>\n",
              "    </tr>\n",
              "    <tr>\n",
              "      <th>18</th>\n",
              "      <td>19</td>\n",
              "      <td>2015-04-11</td>\n",
              "      <td>5</td>\n",
              "      <td>6.90</td>\n",
              "    </tr>\n",
              "    <tr>\n",
              "      <th>19</th>\n",
              "      <td>20</td>\n",
              "      <td>2013-02-07</td>\n",
              "      <td>6</td>\n",
              "      <td>2.56</td>\n",
              "    </tr>\n",
              "  </tbody>\n",
              "</table>\n",
              "</div>"
            ],
            "text/plain": [
              "    transaction_id transaction_date  customer_id  amount\n",
              "0                1       2012-09-04            1   20.96\n",
              "1                2       2012-05-15            2   10.87\n",
              "2                3       2014-05-23            2    2.21\n",
              "3                4       2014-10-24            2   10.48\n",
              "4                5       2012-10-13            2    3.94\n",
              "5                6       2013-01-23            2   12.37\n",
              "6                7       2014-03-09            2    1.59\n",
              "7                8       2013-11-17            2    2.75\n",
              "8                9       2014-10-10            2    3.51\n",
              "9               10       2012-11-26            3   21.58\n",
              "10              11       2013-03-14            3   15.43\n",
              "11              12       2014-03-10            3    5.45\n",
              "12              13       2015-04-28            3    1.67\n",
              "13              14       2014-10-08            3    2.23\n",
              "14              15       2013-03-20            3    9.92\n",
              "15              16       2015-08-10            3    6.16\n",
              "16              17       2015-07-07            4    0.54\n",
              "17              18       2015-01-24            5   14.54\n",
              "18              19       2015-04-11            5    6.90\n",
              "19              20       2013-02-07            6    2.56"
            ]
          },
          "metadata": {},
          "execution_count": 42
        }
      ]
    },
    {
      "cell_type": "code",
      "metadata": {
        "colab": {
          "base_uri": "https://localhost:8080/"
        },
        "id": "DxJCerK7N-EW",
        "outputId": "f4d9160d-892d-4025-9f7d-9026cba9d194"
      },
      "source": [
        "print('\"transaction_id\" column has ' + str(df.transaction_id.nunique()) + ' unique values.')\n",
        "print('\"transaction_date\" column has earliest input from ' + str(df.transaction_date.min()) + \".\")\n",
        "print('\"transaction_date\" column has latest input made on ' + str(df.transaction_date.max())+ \".\")\n",
        "print('\"customer_id\" column has ' + str(df.customer_id.nunique()) + ' unique values.')"
      ],
      "execution_count": 43,
      "outputs": [
        {
          "output_type": "stream",
          "name": "stdout",
          "text": [
            "\"transaction_id\" column has 4181 unique values.\n",
            "\"transaction_date\" column has earliest input from 2010-01-04.\n",
            "\"transaction_date\" column has latest input made on 2015-12-31.\n",
            "\"customer_id\" column has 1000 unique values.\n"
          ]
        }
      ]
    },
    {
      "cell_type": "markdown",
      "metadata": {
        "id": "doTXiFEMl1Hl"
      },
      "source": [
        "### Question 1.1 (0.5 p)\n",
        "Sample 15 customers from the dataset and plot their timespan to understand the data better. "
      ]
    },
    {
      "cell_type": "code",
      "metadata": {
        "id": "qQZiQOcLmN8_",
        "colab": {
          "base_uri": "https://localhost:8080/",
          "height": 886
        },
        "outputId": "c5e96221-5063-4a1c-f92b-c4671e8382d4"
      },
      "source": [
        "print(\"Lets first add the year column to df\")\n",
        "\n",
        "df['year'] = pd.DatetimeIndex(df['transaction_date']).year\n",
        "print(df.head())\n",
        "print('Yes, we managed to get year from \"transaction_date\"!')\n",
        "print()\n",
        "\n",
        "print(\"Now, lets create a sample of 15 customers and generate nice plot of it:\")\n",
        "sample_customers = pd.Series(df.customer_id.unique()).sample(15).values\n",
        "df_sample = df[df.customer_id.isin(sample_customers)]\n",
        "print(df_sample.head())\n",
        "print(\"Done!\")\n",
        "print()\n",
        "\n",
        "print(\"Now we group data by customer ID...\")\n",
        "grouped_data = df_sample.groupby('customer_id')\n",
        "print()\n",
        "\n",
        "print(\"Now we can create a plot...\")\n",
        "fig, ax = plt.subplots(figsize=(8,6))\n",
        "print()\n",
        "\n",
        "print(\"Plot line for each customer...\")\n",
        "for customer_id, group in grouped_data:\n",
        "  ax.plot(group.year, group.customer_id, marker='o', linestyle ='-', label = customer_id)\n",
        "print()\n",
        "\n",
        "print(\"Legend and title...\")\n",
        "ax.legend(bbox_to_anchor=(1.1, 1.05), title='customer_id')\n",
        "plt.title('Timespan of 15 randomly selected customers:', fontsize=18, color=\"#0072CE\")\n",
        "plt.xlabel('YEAR', fontsize=15, color=\"#0072CE\")\n",
        "plt.ylabel('Customer ID', fontsize=15, color=\"#0072CE\")\n",
        "print()\n",
        "\n",
        "print(\"And finally, let's make the Plot great again!:\")\n",
        "plt.xticks(fontsize=12)\n",
        "plt.yticks(fontsize=12)\n",
        "plt.grid(True)\n",
        "plt.show()\n",
        "print()\n"
      ],
      "execution_count": 44,
      "outputs": [
        {
          "output_type": "stream",
          "name": "stdout",
          "text": [
            "Lets first add the year column to df\n",
            "   transaction_id transaction_date  customer_id  amount  year\n",
            "0               1       2012-09-04            1   20.96  2012\n",
            "1               2       2012-05-15            2   10.87  2012\n",
            "2               3       2014-05-23            2    2.21  2014\n",
            "3               4       2014-10-24            2   10.48  2014\n",
            "4               5       2012-10-13            2    3.94  2012\n",
            "Yes, we managed to get year from \"transaction_date\"!\n",
            "\n",
            "Now, lets create a sample of 15 customers and generate nice plot of it:\n",
            "     transaction_id transaction_date  customer_id  amount  year\n",
            "198             199       2013-07-22           51   10.19  2013\n",
            "199             200       2015-06-07           51    5.40  2015\n",
            "725             726       2013-09-06          188    9.34  2013\n",
            "726             727       2014-10-10          188    1.09  2014\n",
            "727             728       2014-12-24          188   23.16  2014\n",
            "Done!\n",
            "\n",
            "Now we group data by customer ID...\n",
            "\n",
            "Now we can create a plot...\n",
            "\n",
            "Plot line for each customer...\n",
            "\n",
            "Legend and title...\n",
            "\n",
            "And finally, let's make the Plot great again!:\n"
          ]
        },
        {
          "output_type": "display_data",
          "data": {
            "image/png": "[encoded data removed]",
            "text/plain": [
              "<Figure size 576x432 with 1 Axes>"
            ]
          },
          "metadata": {
            "needs_background": "light"
          }
        },
        {
          "output_type": "stream",
          "name": "stdout",
          "text": [
            "\n"
          ]
        }
      ]
    },
    {
      "cell_type": "markdown",
      "metadata": {
        "id": "izJSLFG9mGQN"
      },
      "source": [
        "### Question 1.2 (1 p)\n",
        "print(\"Lets lead data again from original source:\")\n",
        "df = pd.read_csv('lab_04_clv_transactions.csv')Define active and new customers as we did in the practice session using the original dataset (not the sampled one which you get in Q1.1)."
      ]
    },
    {
      "cell_type": "code",
      "metadata": {
        "colab": {
          "base_uri": "https://localhost:8080/"
        },
        "id": "9GeexnaFbynp",
        "outputId": "b3a9c5b5-91d3-4823-c585-3ab9463130e2"
      },
      "source": [
        "print(\"Lets read data again from original source:\")\n",
        "df = pd.read_csv('lab_04_clv_transactions.csv')\n",
        "df['year'] = pd.DatetimeIndex(df['transaction_date']).year\n",
        "print(df.head())\n"
      ],
      "execution_count": 45,
      "outputs": [
        {
          "output_type": "stream",
          "name": "stdout",
          "text": [
            "Lets read data again from original source:\n",
            "   transaction_id transaction_date  customer_id  amount  year\n",
            "0               1       2012-09-04            1   20.96  2012\n",
            "1               2       2012-05-15            2   10.87  2012\n",
            "2               3       2014-05-23            2    2.21  2014\n",
            "3               4       2014-10-24            2   10.48  2014\n",
            "4               5       2012-10-13            2    3.94  2012\n"
          ]
        }
      ]
    },
    {
      "cell_type": "code",
      "metadata": {
        "colab": {
          "base_uri": "https://localhost:8080/"
        },
        "id": "oN2QsaLxcohT",
        "outputId": "6ffd594f-67b2-44db-fb80-253789d7bf6a"
      },
      "source": [
        "print('Lets group by \"customer_id\": ')\n",
        "df_group_by = df.groupby('customer_id')\n",
        "print(df_group_by.head())\n",
        "print()"
      ],
      "execution_count": 46,
      "outputs": [
        {
          "output_type": "stream",
          "name": "stdout",
          "text": [
            "Lets group by \"customer_id\": \n",
            "      transaction_id transaction_date  customer_id  amount  year\n",
            "0                  1       2012-09-04            1   20.96  2012\n",
            "1                  2       2012-05-15            2   10.87  2012\n",
            "2                  3       2014-05-23            2    2.21  2014\n",
            "3                  4       2014-10-24            2   10.48  2014\n",
            "4                  5       2012-10-13            2    3.94  2012\n",
            "...              ...              ...          ...     ...   ...\n",
            "4162            4163       2010-03-03         1000    5.39  2010\n",
            "4163            4164       2014-04-18         1000   15.19  2014\n",
            "4164            4165       2010-10-11         1000    4.97  2010\n",
            "4165            4166       2010-10-28         1000   14.39  2010\n",
            "4166            4167       2012-12-24         1000   10.85  2012\n",
            "\n",
            "[3153 rows x 5 columns]\n",
            "\n"
          ]
        }
      ]
    },
    {
      "cell_type": "code",
      "metadata": {
        "colab": {
          "base_uri": "https://localhost:8080/"
        },
        "id": "KWcny55sdFuc",
        "outputId": "f3e7c2f2-4e26-41e0-e28a-4734e1628ebb"
      },
      "source": [
        "print(\"Lets calculate min and max years:\")\n",
        "df['min_year'] = df_group_by['year'].transform('min')\n",
        "df['max_year'] = df_group_by['year'].transform('max')\n",
        "print(df.head())"
      ],
      "execution_count": 47,
      "outputs": [
        {
          "output_type": "stream",
          "name": "stdout",
          "text": [
            "Lets calculate min and max years:\n",
            "   transaction_id transaction_date  customer_id  ...  year  min_year  max_year\n",
            "0               1       2012-09-04            1  ...  2012      2012      2012\n",
            "1               2       2012-05-15            2  ...  2012      2012      2014\n",
            "2               3       2014-05-23            2  ...  2014      2012      2014\n",
            "3               4       2014-10-24            2  ...  2014      2012      2014\n",
            "4               5       2012-10-13            2  ...  2012      2012      2014\n",
            "\n",
            "[5 rows x 7 columns]\n"
          ]
        }
      ]
    },
    {
      "cell_type": "code",
      "metadata": {
        "colab": {
          "base_uri": "https://localhost:8080/"
        },
        "id": "49CQvngce1RX",
        "outputId": "28cf5eb1-cca1-4025-8282-6b7f40a177d2"
      },
      "source": [
        "print(\"Using data in min_year and max_year, we can calculate the number of active years for each customer:\")\n",
        "df['years_active'] = df['max_year'] - df['min_year'] + 1\n",
        "print(df.head())"
      ],
      "execution_count": 48,
      "outputs": [
        {
          "output_type": "stream",
          "name": "stdout",
          "text": [
            "Using data in min_year and max_year, we can calculate the number of active years for each customer:\n",
            "   transaction_id transaction_date  ...  max_year  years_active\n",
            "0               1       2012-09-04  ...      2012             1\n",
            "1               2       2012-05-15  ...      2014             3\n",
            "2               3       2014-05-23  ...      2014             3\n",
            "3               4       2014-10-24  ...      2014             3\n",
            "4               5       2012-10-13  ...      2014             3\n",
            "\n",
            "[5 rows x 8 columns]\n"
          ]
        }
      ]
    },
    {
      "cell_type": "code",
      "metadata": {
        "colab": {
          "base_uri": "https://localhost:8080/"
        },
        "id": "D7BmyguOfuwV",
        "outputId": "ee3b2fb5-d1dc-4663-febb-4df84fce2ca3"
      },
      "source": [
        "print(\"We can group customers by the starting year and the transactional years:\")\n",
        "df_group_by = df.groupby(['min_year', 'year'])\n",
        "print(df_group_by.head())"
      ],
      "execution_count": 49,
      "outputs": [
        {
          "output_type": "stream",
          "name": "stdout",
          "text": [
            "We can group customers by the starting year and the transactional years:\n",
            "     transaction_id transaction_date  ...  max_year  years_active\n",
            "0                 1       2012-09-04  ...      2012             1\n",
            "1                 2       2012-05-15  ...      2014             3\n",
            "2                 3       2014-05-23  ...      2014             3\n",
            "3                 4       2014-10-24  ...      2014             3\n",
            "4                 5       2012-10-13  ...      2014             3\n",
            "..              ...              ...  ...       ...           ...\n",
            "222             223       2012-01-22  ...      2013             4\n",
            "226             227       2011-01-19  ...      2014             5\n",
            "228             229       2011-09-08  ...      2014             5\n",
            "407             408       2015-12-28  ...      2015             6\n",
            "409             410       2015-09-16  ...      2015             6\n",
            "\n",
            "[105 rows x 8 columns]\n"
          ]
        }
      ]
    },
    {
      "cell_type": "code",
      "metadata": {
        "colab": {
          "base_uri": "https://localhost:8080/"
        },
        "id": "RHDy9rocgfM3",
        "outputId": "0639e608-dd81-4f12-877f-92699ec49f45"
      },
      "source": [
        "print('We create new empty dataFrame \"active customers\":')\n",
        "active_customers = pd.DataFrame()\n",
        "print(active_customers.head())\n",
        "print(\"start adding cols to active customer df number of unique customers for the pairs (starting year, transactional year), number of unique customers for each year\") \n",
        "\n",
        "active_customers['customers_unique'] = df_group_by['customer_id'].unique().apply(lambda x: x.size)\n",
        "print(active_customers.head())"
      ],
      "execution_count": 50,
      "outputs": [
        {
          "output_type": "stream",
          "name": "stdout",
          "text": [
            "We create new empty dataFrame \"active customers\":\n",
            "Empty DataFrame\n",
            "Columns: []\n",
            "Index: []\n",
            "start adding cols to active customer df number of unique customers for the pairs (starting year, transactional year), number of unique customers for each year\n",
            "               customers_unique\n",
            "min_year year                  \n",
            "2010     2010               172\n",
            "         2011                93\n",
            "         2012               104\n",
            "         2013                91\n",
            "         2014               103\n"
          ]
        }
      ]
    },
    {
      "cell_type": "code",
      "metadata": {
        "colab": {
          "base_uri": "https://localhost:8080/"
        },
        "id": "HmoKqliqh05b",
        "outputId": "84e6b687-6820-4f23-a5fa-c9a5aaa98707"
      },
      "source": [
        "print(\"Number of unique transactions for each year:\")\n",
        "active_customers['transactions_unique'] = df_group_by['transaction_id'].unique().apply(lambda x: x.size)\n",
        "print(active_customers.head())"
      ],
      "execution_count": 51,
      "outputs": [
        {
          "output_type": "stream",
          "name": "stdout",
          "text": [
            "Number of unique transactions for each year:\n",
            "               customers_unique  transactions_unique\n",
            "min_year year                                       \n",
            "2010     2010               172                  260\n",
            "         2011                93                  177\n",
            "         2012               104                  195\n",
            "         2013                91                  164\n",
            "         2014               103                  163\n"
          ]
        }
      ]
    },
    {
      "cell_type": "code",
      "metadata": {
        "colab": {
          "base_uri": "https://localhost:8080/"
        },
        "id": "cM7-_rFiiElK",
        "outputId": "33477192-3c1c-4b81-f5d2-66e0407f6e67"
      },
      "source": [
        "print('Lets add total amount of money spent in that year:')\n",
        "active_customers['amount'] = df_group_by['amount'].sum()\n",
        "print(active_customers.head())\n"
      ],
      "execution_count": 52,
      "outputs": [
        {
          "output_type": "stream",
          "name": "stdout",
          "text": [
            "Lets add total amount of money spent in that year:\n",
            "               customers_unique  transactions_unique   amount\n",
            "min_year year                                                \n",
            "2010     2010               172                  260  2255.07\n",
            "         2011                93                  177  1358.78\n",
            "         2012               104                  195  1658.02\n",
            "         2013                91                  164  1355.56\n",
            "         2014               103                  163  1295.52\n"
          ]
        }
      ]
    },
    {
      "cell_type": "code",
      "metadata": {
        "colab": {
          "base_uri": "https://localhost:8080/"
        },
        "id": "oI19dDYsibe0",
        "outputId": "c10e3a51-60cc-4afe-b8df-ecad40a60240"
      },
      "source": [
        "print(\"Now we add cumulative amount of money spent from previous years till current year:\")\n",
        "active_customers['cumulative_amount'] = df_group_by['amount'].sum().groupby(by='min_year').cumsum()\n",
        "print(active_customers.head())"
      ],
      "execution_count": 53,
      "outputs": [
        {
          "output_type": "stream",
          "name": "stdout",
          "text": [
            "Now we add cumulative amount of money spent from previous years till current year:\n",
            "               customers_unique  ...  cumulative_amount\n",
            "min_year year                    ...                   \n",
            "2010     2010               172  ...            2255.07\n",
            "         2011                93  ...            3613.85\n",
            "         2012               104  ...            5271.87\n",
            "         2013                91  ...            6627.43\n",
            "         2014               103  ...            7922.95\n",
            "\n",
            "[5 rows x 4 columns]\n"
          ]
        }
      ]
    },
    {
      "cell_type": "code",
      "metadata": {
        "colab": {
          "base_uri": "https://localhost:8080/"
        },
        "id": "WvWIMIx3i1Dr",
        "outputId": "c59cac3e-4765-407f-ec9a-0cd1026e433d"
      },
      "source": [
        "active_customers.reset_index().pivot(index='min_year', columns='year', values='customers_unique').fillna('')\n",
        "print(active_customers.head())"
      ],
      "execution_count": 54,
      "outputs": [
        {
          "output_type": "stream",
          "name": "stdout",
          "text": [
            "               customers_unique  ...  cumulative_amount\n",
            "min_year year                    ...                   \n",
            "2010     2010               172  ...            2255.07\n",
            "         2011                93  ...            3613.85\n",
            "         2012               104  ...            5271.87\n",
            "         2013                91  ...            6627.43\n",
            "         2014               103  ...            7922.95\n",
            "\n",
            "[5 rows x 4 columns]\n"
          ]
        }
      ]
    },
    {
      "cell_type": "code",
      "metadata": {
        "id": "o_pk4oc1mlMu",
        "colab": {
          "base_uri": "https://localhost:8080/"
        },
        "outputId": "43d31613-ab06-456a-b60f-dcb2684b3d18"
      },
      "source": [
        "print(\"New customers dataFrame greation: \")\n",
        "\n",
        "group = df.groupby(['min_year'])\n",
        "\n",
        "new_customers = pd.DataFrame()\n",
        "new_customers = group['customer_id'].unique().apply(lambda x: x.size).rename('new_customers')\n",
        "active_customers = active_customers.join(new_customers, on='min_year')\n",
        "print(active_customers.head())\n",
        "\n"
      ],
      "execution_count": 55,
      "outputs": [
        {
          "output_type": "stream",
          "name": "stdout",
          "text": [
            "New customers dataFrame greation: \n",
            "               customers_unique  ...  new_customers\n",
            "min_year year                    ...               \n",
            "2010     2010               172  ...            172\n",
            "         2011                93  ...            172\n",
            "         2012               104  ...            172\n",
            "         2013                91  ...            172\n",
            "         2014               103  ...            172\n",
            "\n",
            "[5 rows x 5 columns]\n"
          ]
        }
      ]
    },
    {
      "cell_type": "markdown",
      "metadata": {
        "id": "P0-TUgn3mlgG"
      },
      "source": [
        "### Question 1.3 (1.5 p)"
      ]
    },
    {
      "cell_type": "markdown",
      "metadata": {
        "id": "2sUXLMjUIQYQ"
      },
      "source": [
        "\n",
        "\n",
        "Using active and new customers defined in Q1.2 compute the following:\n",
        "\n",
        "* customer retention rate $=$ $\\frac{active\\_customers}{new\\_ customers}$ \n",
        "\n",
        "\n",
        "* transactions per customer $=$ $\\frac{transactions}{active\\_customers}$\n",
        "\n",
        "\n",
        "* amount per transaction $=$ $\\frac{amount}{transactions}$"
      ]
    },
    {
      "cell_type": "code",
      "metadata": {
        "id": "uqwRYiBOm0KU",
        "colab": {
          "base_uri": "https://localhost:8080/"
        },
        "outputId": "c7999abb-6a84-42a3-da04-ee1a3f9f6965"
      },
      "source": [
        "print('Lets create the new dataFrame \"active_customers_statistics\" for holding different calculations:') \n",
        "active_customers_statistics = pd.DataFrame()\n",
        "\n",
        "active_customers_statistics = active_customers_statistics.assign(\n",
        "    customers_unique = active_customers['customers_unique'],\n",
        "    retention = active_customers['customers_unique'] / active_customers['new_customers'], \n",
        "    trans_per_customer = active_customers['transactions_unique'] / active_customers['customers_unique'],\n",
        "    amount_per_trans = active_customers['amount'] / active_customers['transactions_unique']\n",
        ")\n",
        "\n",
        "active_customers_statistics = active_customers_statistics.reset_index()\n",
        "\n",
        "print(active_customers_statistics.head())\n",
        "print(\"Question 1: Mission completed!\")"
      ],
      "execution_count": 56,
      "outputs": [
        {
          "output_type": "stream",
          "name": "stdout",
          "text": [
            "Lets create the new dataFrame \"active_customers_statistics\" for holding different calculations:\n",
            "   min_year  year  ...  trans_per_customer  amount_per_trans\n",
            "0      2010  2010  ...            1.511628          8.673346\n",
            "1      2010  2011  ...            1.903226          7.676723\n",
            "2      2010  2012  ...            1.875000          8.502667\n",
            "3      2010  2013  ...            1.802198          8.265610\n",
            "4      2010  2014  ...            1.582524          7.947975\n",
            "\n",
            "[5 rows x 6 columns]\n",
            "Question 1: Mission completed!\n"
          ]
        }
      ]
    },
    {
      "cell_type": "markdown",
      "metadata": {
        "id": "07Ic-T7oppbA"
      },
      "source": [
        "## Question 2   (2 points in total)\n",
        "\n"
      ]
    },
    {
      "cell_type": "markdown",
      "metadata": {
        "id": "D0GQr7EDm9nz"
      },
      "source": [
        "### Question 2.1 (0.5 p)\n",
        "Calculate the historical CLV using active customers and new customers found in Q1."
      ]
    },
    {
      "cell_type": "code",
      "metadata": {
        "id": "V1zSoNynnMdx",
        "colab": {
          "base_uri": "https://localhost:8080/"
        },
        "outputId": "13704f89-a00c-43df-af70-17479bf4240c"
      },
      "source": [
        "temporary = active_customers.reset_index()\n",
        "\n",
        "print(\"Lets update active_customers_statistics with historical_CLV:\")\n",
        "active_customers_statistics['historical_CLV'] = temporary['cumulative_amount'] / temporary['new_customers']\n",
        "print(active_customers_statistics.head())"
      ],
      "execution_count": 57,
      "outputs": [
        {
          "output_type": "stream",
          "name": "stdout",
          "text": [
            "Lets update active_customers_statistics with historical_CLV:\n",
            "   min_year  year  ...  amount_per_trans  historical_CLV\n",
            "0      2010  2010  ...          8.673346       13.110872\n",
            "1      2010  2011  ...          7.676723       21.010756\n",
            "2      2010  2012  ...          8.502667       30.650407\n",
            "3      2010  2013  ...          8.265610       38.531570\n",
            "4      2010  2014  ...          7.947975       46.063663\n",
            "\n",
            "[5 rows x 7 columns]\n"
          ]
        }
      ]
    },
    {
      "cell_type": "markdown",
      "metadata": {
        "id": "MznWnDBsnDIM"
      },
      "source": [
        "### Question 2.2 (0.5 p)\n",
        "Plot the historical CLV (x-axis: Month active, y-axis: HistoricalCLV)"
      ]
    },
    {
      "cell_type": "code",
      "metadata": {
        "colab": {
          "base_uri": "https://localhost:8080/",
          "height": 220
        },
        "id": "K1Y1OGJjnStU",
        "outputId": "1c80df44-6def-463b-8909-88099f845a38"
      },
      "source": [
        "print('Lets calculate and add \"months_active\" data:')\n",
        "active_customers_statistics['months_active'] = (active_customers_statistics['year'] - active_customers_statistics['min_year'] + 1) * 12\n",
        "active_customers_statistics.head()\n",
        "\n"
      ],
      "execution_count": 58,
      "outputs": [
        {
          "output_type": "stream",
          "name": "stdout",
          "text": [
            "Lets calculate and add \"months_active\" data:\n"
          ]
        },
        {
          "output_type": "execute_result",
          "data": {
            "text/html": [
              "<div>\n",
              "<style scoped>\n",
              "    .dataframe tbody tr th:only-of-type {\n",
              "        vertical-align: middle;\n",
              "    }\n",
              "\n",
              "    .dataframe tbody tr th {\n",
              "        vertical-align: top;\n",
              "    }\n",
              "\n",
              "    .dataframe thead th {\n",
              "        text-align: right;\n",
              "    }\n",
              "</style>\n",
              "<table border=\"1\" class=\"dataframe\">\n",
              "  <thead>\n",
              "    <tr style=\"text-align: right;\">\n",
              "      <th></th>\n",
              "      <th>min_year</th>\n",
              "      <th>year</th>\n",
              "      <th>customers_unique</th>\n",
              "      <th>retention</th>\n",
              "      <th>trans_per_customer</th>\n",
              "      <th>amount_per_trans</th>\n",
              "      <th>historical_CLV</th>\n",
              "      <th>months_active</th>\n",
              "    </tr>\n",
              "  </thead>\n",
              "  <tbody>\n",
              "    <tr>\n",
              "      <th>0</th>\n",
              "      <td>2010</td>\n",
              "      <td>2010</td>\n",
              "      <td>172</td>\n",
              "      <td>1.000000</td>\n",
              "      <td>1.511628</td>\n",
              "      <td>8.673346</td>\n",
              "      <td>13.110872</td>\n",
              "      <td>12</td>\n",
              "    </tr>\n",
              "    <tr>\n",
              "      <th>1</th>\n",
              "      <td>2010</td>\n",
              "      <td>2011</td>\n",
              "      <td>93</td>\n",
              "      <td>0.540698</td>\n",
              "      <td>1.903226</td>\n",
              "      <td>7.676723</td>\n",
              "      <td>21.010756</td>\n",
              "      <td>24</td>\n",
              "    </tr>\n",
              "    <tr>\n",
              "      <th>2</th>\n",
              "      <td>2010</td>\n",
              "      <td>2012</td>\n",
              "      <td>104</td>\n",
              "      <td>0.604651</td>\n",
              "      <td>1.875000</td>\n",
              "      <td>8.502667</td>\n",
              "      <td>30.650407</td>\n",
              "      <td>36</td>\n",
              "    </tr>\n",
              "    <tr>\n",
              "      <th>3</th>\n",
              "      <td>2010</td>\n",
              "      <td>2013</td>\n",
              "      <td>91</td>\n",
              "      <td>0.529070</td>\n",
              "      <td>1.802198</td>\n",
              "      <td>8.265610</td>\n",
              "      <td>38.531570</td>\n",
              "      <td>48</td>\n",
              "    </tr>\n",
              "    <tr>\n",
              "      <th>4</th>\n",
              "      <td>2010</td>\n",
              "      <td>2014</td>\n",
              "      <td>103</td>\n",
              "      <td>0.598837</td>\n",
              "      <td>1.582524</td>\n",
              "      <td>7.947975</td>\n",
              "      <td>46.063663</td>\n",
              "      <td>60</td>\n",
              "    </tr>\n",
              "  </tbody>\n",
              "</table>\n",
              "</div>"
            ],
            "text/plain": [
              "   min_year  year  ...  historical_CLV  months_active\n",
              "0      2010  2010  ...       13.110872             12\n",
              "1      2010  2011  ...       21.010756             24\n",
              "2      2010  2012  ...       30.650407             36\n",
              "3      2010  2013  ...       38.531570             48\n",
              "4      2010  2014  ...       46.063663             60\n",
              "\n",
              "[5 rows x 8 columns]"
            ]
          },
          "metadata": {},
          "execution_count": 58
        }
      ]
    },
    {
      "cell_type": "code",
      "metadata": {
        "id": "8oyZdCRfnR2-",
        "colab": {
          "base_uri": "https://localhost:8080/",
          "height": 362
        },
        "outputId": "1852e0d3-3e6e-4e4b-9f17-76a5a1c9937c"
      },
      "source": [
        "\n",
        "active_customers_statistics.reset_index().pivot(index='months_active', \n",
        "    columns='min_year', values='historical_CLV').plot(figsize=(8,5), grid=True, style=\"-o\")\n",
        "\n",
        "# set titles for figure, x, y\n",
        "plt.title('Historical CLV',fontsize=18, color=\"#0072CE\")\n",
        "plt.xlabel('Month active', fontsize=15, color=\"#0072CE\")\n",
        "plt.ylabel('Historical CLV',fontsize=15, color=\"#0072CE\")\n",
        "\n",
        "plt.xticks(fontsize = 12) \n",
        "plt.yticks(fontsize = 12) \n",
        "plt.grid(True)\n",
        "plt.show()"
      ],
      "execution_count": 59,
      "outputs": [
        {
          "output_type": "display_data",
          "data": {
            "image/png": "[encoded data removed]",
            "text/plain": [
              "<Figure size 576x360 with 1 Axes>"
            ]
          },
          "metadata": {
            "needs_background": "light"
          }
        }
      ]
    },
    {
      "cell_type": "markdown",
      "metadata": {
        "id": "5241ALSFnF2F"
      },
      "source": [
        "### Question 2.3 (1 p)"
      ]
    },
    {
      "cell_type": "markdown",
      "metadata": {
        "id": "UN1obzvOnSe9"
      },
      "source": [
        " Build simple linear regression model to predict future data (similar to as we did during the lab session). Write the Model coefficient (a), intercept(b), and X(feature) in the form: \n",
        "    \n",
        "                          CLV = aX + b"
      ]
    },
    {
      "cell_type": "code",
      "metadata": {
        "colab": {
          "base_uri": "https://localhost:8080/"
        },
        "id": "gbYcwv09qMvm",
        "outputId": "8a064997-df2e-4af6-c666-5cd78bcceba9"
      },
      "source": [
        "print(\"Our task is to find out values a and b based on historical data and use it for future months\")"
      ],
      "execution_count": 60,
      "outputs": [
        {
          "output_type": "stream",
          "name": "stdout",
          "text": [
            "Our task is to find out values a and b based on historical data and use it for future months\n"
          ]
        }
      ]
    },
    {
      "cell_type": "code",
      "metadata": {
        "colab": {
          "base_uri": "https://localhost:8080/",
          "height": 362
        },
        "id": "2fZghKkiqERK",
        "outputId": "c1f9fa86-c51f-48a0-d529-8a567a42a8cf"
      },
      "source": [
        "active_customers_statistics['vol'] = active_customers_statistics['historical_CLV'] * active_customers_statistics['customers_unique']\n",
        "weighted_historic_CLV = active_customers_statistics.groupby('months_active')\n",
        "\n",
        "weighted_clv = weighted_historic_CLV['vol'].sum() / weighted_historic_CLV['customers_unique'].sum()\n",
        "\n",
        "active_customers_statistics.reset_index().pivot(index='months_active', \n",
        "    columns='min_year', values='historical_CLV').plot(figsize=(8,5), grid=True, style=\"o\")\n",
        "\n",
        "weighted_clv.plot(figsize=(8,5), grid=True, style=\"*-\")\n",
        "\n",
        "# set titles for figure, x, y\n",
        "plt.title('estimated averages of historical CLV',fontsize=18, color = \"#0072CE\")\n",
        "plt.xlabel('Months active', fontsize=15, color = \"#0072CE\")\n",
        "plt.ylabel('Historical_CLV',fontsize=15, color = \"#0072CE\")\n",
        "plt.ylim(ymin=15)\n",
        "plt.xlim(xmin=15)\n",
        "plt.legend()\n",
        "\n",
        "plt.xticks(fontsize = 12) \n",
        "plt.yticks(fontsize = 12) \n",
        "plt.grid(True)"
      ],
      "execution_count": 61,
      "outputs": [
        {
          "output_type": "display_data",
          "data": {
            "image/png": "[encoded data removed]",
            "text/plain": [
              "<Figure size 576x360 with 1 Axes>"
            ]
          },
          "metadata": {
            "needs_background": "light"
          }
        }
      ]
    },
    {
      "cell_type": "code",
      "metadata": {
        "colab": {
          "base_uri": "https://localhost:8080/"
        },
        "id": "GNGPFMz6qUqk",
        "outputId": "da4e7162-fe84-4c25-894b-ffbc7085d5a0"
      },
      "source": [
        "print()\n",
        "print(\"As we can see, our data is pretty linear, so we can use linear regression method! We are not misleaded this time!\")\n",
        "print()"
      ],
      "execution_count": 62,
      "outputs": [
        {
          "output_type": "stream",
          "name": "stdout",
          "text": [
            "\n",
            "As we can see, our data is pretty linear, so we can use linear regression method! We are not misleaded this time!\n",
            "\n"
          ]
        }
      ]
    },
    {
      "cell_type": "code",
      "metadata": {
        "colab": {
          "base_uri": "https://localhost:8080/"
        },
        "id": "hgD-h0IYqgVk",
        "outputId": "ffd432cd-4238-4e01-8e56-8235b60a31d5"
      },
      "source": [
        "print(\"We use sklearn package to apply simple machine learning methods\")\n",
        "from sklearn.linear_model import LinearRegression\n",
        "\n",
        "print(\"variables...\")\n",
        "print(\"independent variable: x: \")\n",
        "x = weighted_clv.reset_index().months_active.values.reshape(-1, 1) \n",
        "print(\"dependent variable y: \")\n",
        "y = weighted_clv.values.reshape(-1, 1) \n",
        "print(\"Model creation...\")\n",
        "model = LinearRegression()\n",
        "\n",
        "model.fit(x, y)\n",
        "y_pred = model.predict(x)\n",
        "print('predicted response:', y_pred, sep='\\n')\n",
        "print(\"getting slope coefficent: \")\n",
        "a = float(model.coef_)\n",
        "print('Model coefficient a=: '+ str(a))\n",
        "print(\"getting intercept value: \")\n",
        "b = float(model.intercept_)\n",
        "print('Model intercept b=', str(b))\n",
        "print()\n",
        "print(\"Lets do some rounding with a an b...\")\n",
        "a = round(a, 2)\n",
        "b = round(b, 2)\n",
        "print('Model coefficient a=: '+ str(a))\n",
        "print('Model intercept b=', str(b))\n",
        "print()\n",
        "final_string = \"Linear regression formula :  CLV = \" + str(a) +\"X + \" + str(b)\n",
        "print(final_string)\n",
        "print()\n",
        "print(\"... and lets do our linear regression formula great again!\")\n",
        "from termcolor import colored\n",
        "print(colored(final_string, \"blue\"))\n",
        "print(colored('Where X is \"Months active\"', \"green\"))"
      ],
      "execution_count": 63,
      "outputs": [
        {
          "output_type": "stream",
          "name": "stdout",
          "text": [
            "We use sklearn package to apply simple machine learning methods\n",
            "variables...\n",
            "independent variable: x: \n",
            "dependent variable y: \n",
            "Model creation...\n",
            "predicted response:\n",
            "[[13.84658471]\n",
            " [21.82268815]\n",
            " [29.79879158]\n",
            " [37.77489502]\n",
            " [45.75099845]\n",
            " [53.72710189]]\n",
            "getting slope coefficent: \n",
            "Model coefficient a=: 0.6646752862906855\n",
            "getting intercept value: \n",
            "Model intercept b= 5.870481276544783\n",
            "\n",
            "Lets do some rounding with a an b...\n",
            "Model coefficient a=: 0.66\n",
            "Model intercept b= 5.87\n",
            "\n",
            "Linear regression formula :  CLV = 0.66X + 5.87\n",
            "\n",
            "... and lets do our linear regression formula great again!\n",
            "\u001b[34mLinear regression formula :  CLV = 0.66X + 5.87\u001b[0m\n",
            "\u001b[32mWhere X is \"Months active\"\u001b[0m\n"
          ]
        }
      ]
    },
    {
      "cell_type": "code",
      "metadata": {
        "colab": {
          "base_uri": "https://localhost:8080/",
          "height": 379
        },
        "id": "Ec5yBxEswHwg",
        "outputId": "74981160-f1bf-4231-a5d1-508a6926684c"
      },
      "source": [
        "print(\"Now we have a formula to forecast future! \")\n",
        "\n",
        "x = pd.Series(range(12, 125, 12))\n",
        "\n",
        "# predict new data or unseen data\n",
        "predictions = model.predict(x.values.reshape(-1, 1))\n",
        "\n",
        "predicted_clv = pd.DataFrame({'months_active': x, 'predicted_CLV': predictions.reshape(-1)})\n",
        "\n",
        "predicted_clv.join(\n",
        "    pd.DataFrame({'historical_CLV': weighted_clv}), on='months_active'\n",
        ").set_index('months_active').plot(figsize=(8,5), grid=True, style=\"-o\")\n",
        "\n",
        "plt.title('Historical versus predicted CLV',fontsize=18, color = \"#0072CE\")\n",
        "plt.xlabel('Months active', fontsize=15, color = \"#0072CE\")\n",
        "plt.ylabel('CLV',fontsize=15, color = \"#0072CE\")\n",
        "plt.ylim(ymin=12)\n",
        "plt.xlim(xmin=12)\n",
        "plt.legend()\n",
        "\n",
        "plt.xticks(fontsize = 12) \n",
        "plt.yticks(fontsize = 12) \n",
        "plt.grid(True)"
      ],
      "execution_count": 64,
      "outputs": [
        {
          "output_type": "stream",
          "name": "stdout",
          "text": [
            "Now we have a formula to forecast future! \n"
          ]
        },
        {
          "output_type": "display_data",
          "data": {
            "image/png": "[encoded data removed]",
            "text/plain": [
              "<Figure size 576x360 with 1 Axes>"
            ]
          },
          "metadata": {
            "needs_background": "light"
          }
        }
      ]
    },
    {
      "cell_type": "code",
      "metadata": {
        "id": "1mlnKdQQnpue",
        "colab": {
          "base_uri": "https://localhost:8080/"
        },
        "outputId": "caa482d0-6c60-4921-9631-ccae4f24c7f6"
      },
      "source": [
        "print()\n",
        "print(\"As a smart data analytic once said, linear historical data gives us linear future trend\")\n",
        "print()\n",
        "print(colored(\"Question 2: Mission completed!\", \"green\"))\n",
        "print()"
      ],
      "execution_count": 65,
      "outputs": [
        {
          "output_type": "stream",
          "name": "stdout",
          "text": [
            "\n",
            "As a smart data analytic once said, linear historical data gives us linear future trend\n",
            "\n",
            "\u001b[32mQuestion 2: Mission completed!\u001b[0m\n",
            "\n"
          ]
        }
      ]
    },
    {
      "cell_type": "markdown",
      "metadata": {
        "id": "GbCLq4WKppbP"
      },
      "source": [
        "## Question 3  (5 points in total)\n",
        "\n",
        "In this task you will be asked to use Multiple Linear regression algorithm to predict house prices using “HousePrices.csv” dataset. \n",
        "\n",
        "\"HousePrices.csv” contains information about prices for different types of houses. There is no need to clean the data, it is already cleaned. The dataset has the following columns:\n",
        "1. Area - size of the house in square meters.\n",
        "2. Garage - number of parking slots in the garage.\n",
        "3. FirePlace - number of fireplaces in the house.\n",
        "4. Baths - number of baths in the house.\n",
        "5. White Marble - whether white marble is used as a material of the kitchen.\n",
        "6. Black Marble - whether black marble is used as a material of the kitchen.\n",
        "7. Indian Marble - whether indian marble is used as a material of the kitchen.\n",
        "8. Floors - number of floors.\n",
        "9. City - closeness to the city.\n",
        "10. Solar - whether house has a solar panel.\n",
        "11. Electric - whether the electricity is new or old.\n",
        "12. Fiber - whether the fiber of furniture is new or old.\n",
        "13. Glass Doors - whether the entrence doors are made of glass.\n",
        "14. Swimming Pool - whether the house has a swimming pool.\n",
        "15. Garden - whether the house has a garden.\n",
        "16. Prices - price of the house."
      ]
    },
    {
      "cell_type": "code",
      "metadata": {
        "id": "hsz4BVZiPnkX",
        "colab": {
          "base_uri": "https://localhost:8080/"
        },
        "outputId": "cbeb69e8-ae25-44d6-dd5c-a8d4ad840363"
      },
      "source": [
        "print(\"Lets convert this csv file into dataFrame\")\n",
        "df = pd.read_csv('HousePrices.csv')\n",
        "print(\"Lets check out, what data this csv file has:\")\n",
        "df.info()\n",
        "print(df.head(20))\n",
        "print('\"HousePrices.csv\" has: '  + str(len(df)) +'  rows')"
      ],
      "execution_count": 66,
      "outputs": [
        {
          "output_type": "stream",
          "name": "stdout",
          "text": [
            "Lets convert this csv file into dataFrame\n",
            "Lets check out, what data this csv file has:\n",
            "<class 'pandas.core.frame.DataFrame'>\n",
            "RangeIndex: 500000 entries, 0 to 499999\n",
            "Data columns (total 16 columns):\n",
            " #   Column         Non-Null Count   Dtype\n",
            "---  ------         --------------   -----\n",
            " 0   Area           500000 non-null  int64\n",
            " 1   Garage         500000 non-null  int64\n",
            " 2   FirePlace      500000 non-null  int64\n",
            " 3   Baths          500000 non-null  int64\n",
            " 4   White Marble   500000 non-null  int64\n",
            " 5   Black Marble   500000 non-null  int64\n",
            " 6   Indian Marble  500000 non-null  int64\n",
            " 7   Floors         500000 non-null  int64\n",
            " 8   City           500000 non-null  int64\n",
            " 9   Solar          500000 non-null  int64\n",
            " 10  Electric       500000 non-null  int64\n",
            " 11  Fiber          500000 non-null  int64\n",
            " 12  Glass Doors    500000 non-null  int64\n",
            " 13  Swiming Pool   500000 non-null  int64\n",
            " 14  Garden         500000 non-null  int64\n",
            " 15  Prices         500000 non-null  int64\n",
            "dtypes: int64(16)\n",
            "memory usage: 61.0 MB\n",
            "    Area  Garage  FirePlace  Baths  ...  Glass Doors  Swiming Pool  Garden  Prices\n",
            "0    164       2          0      2  ...            1             0       0   43800\n",
            "1     84       2          0      4  ...            1             1       1   37550\n",
            "2    190       2          4      4  ...            0             0       0   49500\n",
            "3     75       2          4      4  ...            1             1       1   50075\n",
            "4    148       1          4      2  ...            1             1       1   52400\n",
            "5    124       3          3      3  ...            1             1       1   54300\n",
            "6     58       1          0      2  ...            1             0       1   34400\n",
            "7    249       2          1      1  ...            1             1       0   50425\n",
            "8    243       1          0      2  ...            0             1       0   29575\n",
            "9    242       1          2      4  ...            0             1       0   22300\n",
            "10    61       2          4      5  ...            1             1       1   49725\n",
            "11   189       2          0      4  ...            1             1       1   31675\n",
            "12   160       2          0      2  ...            1             0       0   39950\n",
            "13     5       3          3      3  ...            0             1       0   64375\n",
            "14   160       3          3      1  ...            0             1       0   38500\n",
            "15   215       3          4      1  ...            0             1       1   18625\n",
            "16   113       1          0      5  ...            0             1       0   42325\n",
            "17   244       3          3      3  ...            0             0       0   53100\n",
            "18   197       2          3      5  ...            1             0       0   53625\n",
            "19   102       2          3      2  ...            0             0       0   38300\n",
            "\n",
            "[20 rows x 16 columns]\n",
            "\"HousePrices.csv\" has: 500000  rows\n"
          ]
        }
      ]
    },
    {
      "cell_type": "code",
      "metadata": {
        "colab": {
          "base_uri": "https://localhost:8080/"
        },
        "id": "iK3g8rC55uT_",
        "outputId": "221af234-824d-4c52-e055-e3d2a33b803e"
      },
      "source": [
        "print(\"We need to do some data cleaning...\")\n",
        "print(\"As we can see, some column names are not the best ones. Lets changes those... (like 'White Marble' to 'White_Marble' etc.)\")\n",
        "print('Also, lets fix typos as \"swiming pool\" to \"swimming_pool\" ...')\n",
        "df.rename(columns={'White Marble': 'White_marble', \n",
        "                            'Black Marble': 'Black_marble', \n",
        "                            'Indian Marble': 'Indian_marble',\n",
        "                            'Glass Doors': 'Glass_doors', \n",
        "                            'Swiming Pool': 'Swimming_pool'}, \n",
        "                   inplace=True)\n",
        "print(df.head())"
      ],
      "execution_count": 67,
      "outputs": [
        {
          "output_type": "stream",
          "name": "stdout",
          "text": [
            "We need to do some data cleaning...\n",
            "As we can see, some column names are not the best ones. Lets changes those... (like 'White Marble' to 'White_Marble' etc.)\n",
            "Also, lets fix typos as \"swiming pool\" to \"swimming_pool\" ...\n",
            "   Area  Garage  FirePlace  Baths  ...  Glass_doors  Swimming_pool  Garden  Prices\n",
            "0   164       2          0      2  ...            1              0       0   43800\n",
            "1    84       2          0      4  ...            1              1       1   37550\n",
            "2   190       2          4      4  ...            0              0       0   49500\n",
            "3    75       2          4      4  ...            1              1       1   50075\n",
            "4   148       1          4      2  ...            1              1       1   52400\n",
            "\n",
            "[5 rows x 16 columns]\n"
          ]
        }
      ]
    },
    {
      "cell_type": "code",
      "metadata": {
        "colab": {
          "base_uri": "https://localhost:8080/"
        },
        "id": "WUcVp8eR9Bgv",
        "outputId": "841d1123-8a2d-4a1c-9d41-b9ffc31e518b"
      },
      "source": [
        "print(\"Now, lets replace int values to binary where needed\")\n",
        "\n",
        "df['White_marble'] = df.White_marble.astype('category')\n",
        "df['Black_marble'] = df.Black_marble.astype('category')\n",
        "df['Indian_marble'] = df.Indian_marble.astype('category')\n",
        "df['Solar'] = df.Solar.astype('category')\n",
        "df['Electric'] = df.Electric.astype('category')\n",
        "df['Fiber'] = df.Fiber.astype('category')\n",
        "df['Glass_doors'] = df.Glass_doors.astype('category')\n",
        "df['Swimming_pool'] = df.Swimming_pool.astype('category')\n",
        "df['Garden'] = df.Garden.astype('category')\n",
        "print(df.head())\n",
        "print(df.info())\n"
      ],
      "execution_count": 68,
      "outputs": [
        {
          "output_type": "stream",
          "name": "stdout",
          "text": [
            "Now, lets replace int values to binary where needed\n",
            "   Area  Garage  FirePlace  Baths  ... Glass_doors Swimming_pool Garden  Prices\n",
            "0   164       2          0      2  ...           1             0      0   43800\n",
            "1    84       2          0      4  ...           1             1      1   37550\n",
            "2   190       2          4      4  ...           0             0      0   49500\n",
            "3    75       2          4      4  ...           1             1      1   50075\n",
            "4   148       1          4      2  ...           1             1      1   52400\n",
            "\n",
            "[5 rows x 16 columns]\n",
            "<class 'pandas.core.frame.DataFrame'>\n",
            "RangeIndex: 500000 entries, 0 to 499999\n",
            "Data columns (total 16 columns):\n",
            " #   Column         Non-Null Count   Dtype   \n",
            "---  ------         --------------   -----   \n",
            " 0   Area           500000 non-null  int64   \n",
            " 1   Garage         500000 non-null  int64   \n",
            " 2   FirePlace      500000 non-null  int64   \n",
            " 3   Baths          500000 non-null  int64   \n",
            " 4   White_marble   500000 non-null  category\n",
            " 5   Black_marble   500000 non-null  category\n",
            " 6   Indian_marble  500000 non-null  category\n",
            " 7   Floors         500000 non-null  int64   \n",
            " 8   City           500000 non-null  int64   \n",
            " 9   Solar          500000 non-null  category\n",
            " 10  Electric       500000 non-null  category\n",
            " 11  Fiber          500000 non-null  category\n",
            " 12  Glass_doors    500000 non-null  category\n",
            " 13  Swimming_pool  500000 non-null  category\n",
            " 14  Garden         500000 non-null  category\n",
            " 15  Prices         500000 non-null  int64   \n",
            "dtypes: category(9), int64(7)\n",
            "memory usage: 31.0 MB\n",
            "None\n"
          ]
        }
      ]
    },
    {
      "cell_type": "code",
      "metadata": {
        "colab": {
          "base_uri": "https://localhost:8080/"
        },
        "id": "seIwxvWQAj_z",
        "outputId": "948fb342-1a32-4bf7-9460-0fdf97c0e59b"
      },
      "source": [
        "print(\"Data cleaning done!\")"
      ],
      "execution_count": 69,
      "outputs": [
        {
          "output_type": "stream",
          "name": "stdout",
          "text": [
            "Data cleaning done!\n"
          ]
        }
      ]
    },
    {
      "cell_type": "markdown",
      "metadata": {
        "id": "x0U81pkDoKjV"
      },
      "source": [
        "### Question 3.1 (0.5 p)\n",
        "Prepare dataset for prediction. Split data into:\n",
        "\n",
        "             Case A: 60% of train data & 40% test\n",
        "             Case B: 75% of train data & 25% test\n",
        "\n",
        "**NB! Please use random_state=42**"
      ]
    },
    {
      "cell_type": "code",
      "metadata": {
        "colab": {
          "base_uri": "https://localhost:8080/"
        },
        "id": "TXNSrWGuVzKT",
        "outputId": "94c5bf37-c2ab-480c-a278-f8c27264538a"
      },
      "source": [
        "random_state = 42\n",
        "print('Random_state = 42... Do you know, why number 42 is used?')\n",
        "print() \n",
        "print(\"The number 42 is, in The Hitchhiker's Guide to the Galaxy by Douglas Adams,\")\n",
        "print('the \"Answer to the Ultimate Question of Life, the Universe, and Everything')\n",
        "print('More info about it: https://en.wikipedia.org/wiki/Phrases_from_The_Hitchhiker%27s_Guide_to_the_Galaxy')\n",
        "print()\n",
        "print(\"Case A:\")\n",
        "caseAtrain=df.sample(frac=0.6, random_state = random_state) \n",
        "caseAtest=df.drop(caseAtrain.index)\n",
        "print(\"Case A train dataFrame has: \" + str(len(caseAtrain)) + \" rows\")\n",
        "print(\"Case A test dataFrame has: \" + str(len(caseAtest)) + \" rows\")\n",
        "print()\n",
        "print(caseAtrain.head())\n",
        "print(caseAtest.head())\n",
        "print()\n",
        "\n",
        "print(\"Case B:\")\n",
        "caseBtrain=df.sample(frac=0.75, random_state = random_state) \n",
        "caseBtest=df.drop(caseBtrain.index)\n",
        "print(\"Case B train dataFrame has: \" + str(len(caseBtrain)) + \" rows\")\n",
        "print(\"Case B test dataFrame has: \" + str(len(caseBtest)) + \" rows\")\n",
        "print(caseBtrain.head())\n",
        "print(caseBtest.head())\n",
        "print()\n",
        "\n"
      ],
      "execution_count": 70,
      "outputs": [
        {
          "output_type": "stream",
          "name": "stdout",
          "text": [
            "Random_state = 42... Do you know, why number 42 is used?\n",
            "\n",
            "The number 42 is, in The Hitchhiker's Guide to the Galaxy by Douglas Adams,\n",
            "the \"Answer to the Ultimate Question of Life, the Universe, and Everything\n",
            "More info about it: https://en.wikipedia.org/wiki/Phrases_from_The_Hitchhiker%27s_Guide_to_the_Galaxy\n",
            "\n",
            "Case A:\n",
            "Case A train dataFrame has: 300000 rows\n",
            "Case A test dataFrame has: 200000 rows\n",
            "\n",
            "        Area  Garage  FirePlace  Baths  ... Glass_doors Swimming_pool Garden  Prices\n",
            "104241   150       2          2      5  ...           0             1      1   48250\n",
            "199676    34       1          3      2  ...           0             1      0   28100\n",
            "140199    32       3          1      2  ...           0             1      1   53050\n",
            "132814    99       1          4      1  ...           1             0      1   61425\n",
            "408697   106       2          1      2  ...           0             1      1   54400\n",
            "\n",
            "[5 rows x 16 columns]\n",
            "   Area  Garage  FirePlace  Baths  ... Glass_doors Swimming_pool Garden  Prices\n",
            "1    84       2          0      4  ...           1             1      1   37550\n",
            "3    75       2          4      4  ...           1             1      1   50075\n",
            "5   124       3          3      3  ...           1             1      1   54300\n",
            "8   243       1          0      2  ...           0             1      0   29575\n",
            "9   242       1          2      4  ...           0             1      0   22300\n",
            "\n",
            "[5 rows x 16 columns]\n",
            "\n",
            "Case B:\n",
            "Case B train dataFrame has: 375000 rows\n",
            "Case B test dataFrame has: 125000 rows\n",
            "        Area  Garage  FirePlace  Baths  ... Glass_doors Swimming_pool Garden  Prices\n",
            "104241   150       2          2      5  ...           0             1      1   48250\n",
            "199676    34       1          3      2  ...           0             1      0   28100\n",
            "140199    32       3          1      2  ...           0             1      1   53050\n",
            "132814    99       1          4      1  ...           1             0      1   61425\n",
            "408697   106       2          1      2  ...           0             1      1   54400\n",
            "\n",
            "[5 rows x 16 columns]\n",
            "    Area  Garage  FirePlace  Baths  ... Glass_doors Swimming_pool Garden  Prices\n",
            "5    124       3          3      3  ...           1             1      1   54300\n",
            "13     5       3          3      3  ...           0             1      0   64375\n",
            "14   160       3          3      1  ...           0             1      0   38500\n",
            "15   215       3          4      1  ...           0             1      1   18625\n",
            "18   197       2          3      5  ...           1             0      0   53625\n",
            "\n",
            "[5 rows x 16 columns]\n",
            "\n"
          ]
        }
      ]
    },
    {
      "cell_type": "code",
      "metadata": {
        "colab": {
          "base_uri": "https://localhost:8080/"
        },
        "id": "OPb_nTVjYoDl",
        "outputId": "66e01df1-6cde-4d05-f2ee-1adf5940f091"
      },
      "source": [
        "print(\"We see, that if we change random_state, we get different dataframes. If you use the same seed, you will grow the same plant...\")"
      ],
      "execution_count": 71,
      "outputs": [
        {
          "output_type": "stream",
          "name": "stdout",
          "text": [
            "We see, that if we change random_state, we get different dataframes. If you use the same seed, you will grow the same plant...\n"
          ]
        }
      ]
    },
    {
      "cell_type": "markdown",
      "metadata": {
        "id": "h64HpJ-WoU28"
      },
      "source": [
        "### Question 3.2 (2.5 p)\n",
        "Build models using a subset of 8 features: 'Floors', 'Fiber', 'White Marble', 'City', 'Glass Doors', 'Area', 'Baths', 'Garage' for each of the cases specified above (Case A and Case B), and then predict on the test data. I.e., train two models - one is trained on Case A train set and tested on Case A test set, another is trained on Case B train set and tested on a Case B test set. "
      ]
    },
    {
      "cell_type": "code",
      "metadata": {
        "id": "IYET2UDnoaxU",
        "colab": {
          "base_uri": "https://localhost:8080/"
        },
        "outputId": "0489e771-0c2f-4855-cd2d-85c6f7dc6763"
      },
      "source": [
        "print(\"To be honest, order of activities in this exercise is wrong. It is more logical if we first select data columns and make case A/B test/train selection after it, not before.\")\n",
        "print()\n",
        "caseAtest = caseAtest[['Floors', 'Fiber', 'White_marble', 'City', 'Glass_doors', 'Area', 'Baths', 'Garage', 'Prices']]\n",
        "caseAtrain = caseAtrain[['Floors', 'Fiber', 'White_marble', 'City', 'Glass_doors', 'Area', 'Baths', 'Garage', 'Prices']]\n",
        "caseBtest = caseBtest[['Floors', 'Fiber', 'White_marble', 'City', 'Glass_doors', 'Area', 'Baths', 'Garage', 'Prices']]\n",
        "caseBtrain = caseBtrain[['Floors', 'Fiber', 'White_marble', 'City', 'Glass_doors', 'Area', 'Baths', 'Garage', 'Prices']]\n",
        "print(\"caseAtest:\")\n",
        "print(caseAtest.head())\n",
        "print()\n",
        "print(\"caseAtrain:\")\n",
        "print(caseAtrain.head())\n",
        "print()\n",
        "print(\"caseBtest:\")\n",
        "print(caseBtest.head())\n",
        "print()\n",
        "print(\"caseBtrain:\")\n",
        "print(caseBtrain.head())\n",
        "print()\n"
      ],
      "execution_count": 72,
      "outputs": [
        {
          "output_type": "stream",
          "name": "stdout",
          "text": [
            "To be honest, order of activities in this exercise is wrong. It is more logical if we first select data columns and make case A/B test/train selection after it, not before.\n",
            "\n",
            "caseAtest:\n",
            "   Floors Fiber White_marble  City Glass_doors  Area  Baths  Garage  Prices\n",
            "1       1     0            0     2           1    84      4       2   37550\n",
            "3       1     1            0     1           1    75      4       2   50075\n",
            "5       1     1            0     1           1   124      3       3   54300\n",
            "8       1     0            0     1           0   243      2       1   29575\n",
            "9       0     0            0     2           0   242      4       1   22300\n",
            "\n",
            "caseAtrain:\n",
            "        Floors Fiber White_marble  City  ... Area  Baths  Garage  Prices\n",
            "104241       0     1            1     2  ...  150      5       2   48250\n",
            "199676       1     0            0     1  ...   34      2       1   28100\n",
            "140199       1     1            0     3  ...   32      2       3   53050\n",
            "132814       1     1            1     2  ...   99      1       1   61425\n",
            "408697       1     1            1     1  ...  106      2       2   54400\n",
            "\n",
            "[5 rows x 9 columns]\n",
            "\n",
            "caseBtest:\n",
            "    Floors Fiber White_marble  City Glass_doors  Area  Baths  Garage  Prices\n",
            "5        1     1            0     1           1   124      3       3   54300\n",
            "13       1     1            1     3           0     5      3       3   64375\n",
            "14       1     0            0     3           0   160      1       3   38500\n",
            "15       0     0            0     1           0   215      1       3   18625\n",
            "18       1     0            0     3           1   197      5       2   53625\n",
            "\n",
            "caseBtrain:\n",
            "        Floors Fiber White_marble  City  ... Area  Baths  Garage  Prices\n",
            "104241       0     1            1     2  ...  150      5       2   48250\n",
            "199676       1     0            0     1  ...   34      2       1   28100\n",
            "140199       1     1            0     3  ...   32      2       3   53050\n",
            "132814       1     1            1     2  ...   99      1       1   61425\n",
            "408697       1     1            1     1  ...  106      2       2   54400\n",
            "\n",
            "[5 rows x 9 columns]\n",
            "\n"
          ]
        }
      ]
    },
    {
      "cell_type": "code",
      "metadata": {
        "colab": {
          "base_uri": "https://localhost:8080/"
        },
        "id": "RobfgSvoiiwv",
        "outputId": "727e424c-f90c-4ef5-cc69-e21ef16a5ebf"
      },
      "source": [
        "print(\"We need to import some modules...\")\n",
        "from sklearn.metrics import mean_squared_error\n",
        "from sklearn.metrics import r2_score\n",
        "from sklearn.metrics import median_absolute_error\n",
        "from sklearn.linear_model import LinearRegression\n",
        "\n",
        "print(\"CaseAtrain:\")\n",
        "print(\"Lets define independent variables as features for CaseAtrain...\")\n",
        "xa_train = caseAtrain.loc[:, caseAtrain.columns != 'Prices']\n",
        "print(xa_train.head())\n",
        "print()\n",
        "print(\"... and same about dependent variable (Prices)\")\n",
        "ya_train = caseAtrain[['Prices']]\n",
        "print(ya_train.head())\n",
        "print()\n",
        "\n",
        "print(\"CaseAtest:\")\n",
        "print(\"Lets define independent variables as features for CaseAtest...\")\n",
        "xa_test = caseAtest.loc[:, caseAtest.columns != 'Prices']\n",
        "print(xa_test.head())\n",
        "print()\n",
        "print(\"... and same about dependent variable (Prices)\")\n",
        "ya_test = caseAtest[['Prices']]\n",
        "print(ya_test.head())\n",
        "print()\n",
        "\n",
        "print(\"CaseBtrain:\")\n",
        "print(\"Lets define independent variables as features for CaseBtrain...\")\n",
        "xb_train = caseBtrain.loc[:, caseBtrain.columns != 'Prices']\n",
        "print(xb_train.head())\n",
        "print()\n",
        "print(\"... and same about dependent variable (Prices)\")\n",
        "yb_train = caseBtrain[['Prices']]\n",
        "print(yb_train.head())\n",
        "print()\n",
        "\n",
        "print(\"CaseBtest:\")\n",
        "print(\"Lets define independent variables as features for CaseBtest...\")\n",
        "xb_test = caseBtest.loc[:, caseBtest.columns != 'Prices']\n",
        "print(xb_test.head())\n",
        "print()\n",
        "print(\"... and same about dependent variable (Prices)\")\n",
        "yb_test = caseBtest[['Prices']]\n",
        "print(yb_test.head())\n",
        "print()\n",
        "\n",
        "print(\"CaseA:\")\n",
        "lin_reg_mod_a = LinearRegression()\n",
        "\n",
        "lin_reg_mod_a.fit(xa_train, ya_train)\n",
        "pred_a = lin_reg_mod_a.predict(xa_test)\n",
        "\n",
        "print(\"CaseB:\")\n",
        "lin_reg_mod_b = LinearRegression()\n",
        "\n",
        "lin_reg_mod_b.fit(xb_train, yb_train)\n",
        "pred_b = lin_reg_mod_b.predict(xb_test)"
      ],
      "execution_count": 73,
      "outputs": [
        {
          "output_type": "stream",
          "name": "stdout",
          "text": [
            "We need to import some modules...\n",
            "CaseAtrain:\n",
            "Lets define independent variables as features for CaseAtrain...\n",
            "        Floors Fiber White_marble  City Glass_doors  Area  Baths  Garage\n",
            "104241       0     1            1     2           0   150      5       2\n",
            "199676       1     0            0     1           0    34      2       1\n",
            "140199       1     1            0     3           0    32      2       3\n",
            "132814       1     1            1     2           1    99      1       1\n",
            "408697       1     1            1     1           0   106      2       2\n",
            "\n",
            "... and same about dependent variable (Prices)\n",
            "        Prices\n",
            "104241   48250\n",
            "199676   28100\n",
            "140199   53050\n",
            "132814   61425\n",
            "408697   54400\n",
            "\n",
            "CaseAtest:\n",
            "Lets define independent variables as features for CaseAtest...\n",
            "   Floors Fiber White_marble  City Glass_doors  Area  Baths  Garage\n",
            "1       1     0            0     2           1    84      4       2\n",
            "3       1     1            0     1           1    75      4       2\n",
            "5       1     1            0     1           1   124      3       3\n",
            "8       1     0            0     1           0   243      2       1\n",
            "9       0     0            0     2           0   242      4       1\n",
            "\n",
            "... and same about dependent variable (Prices)\n",
            "   Prices\n",
            "1   37550\n",
            "3   50075\n",
            "5   54300\n",
            "8   29575\n",
            "9   22300\n",
            "\n",
            "CaseBtrain:\n",
            "Lets define independent variables as features for CaseBtrain...\n",
            "        Floors Fiber White_marble  City Glass_doors  Area  Baths  Garage\n",
            "104241       0     1            1     2           0   150      5       2\n",
            "199676       1     0            0     1           0    34      2       1\n",
            "140199       1     1            0     3           0    32      2       3\n",
            "132814       1     1            1     2           1    99      1       1\n",
            "408697       1     1            1     1           0   106      2       2\n",
            "\n",
            "... and same about dependent variable (Prices)\n",
            "        Prices\n",
            "104241   48250\n",
            "199676   28100\n",
            "140199   53050\n",
            "132814   61425\n",
            "408697   54400\n",
            "\n",
            "CaseBtest:\n",
            "Lets define independent variables as features for CaseBtest...\n",
            "    Floors Fiber White_marble  City Glass_doors  Area  Baths  Garage\n",
            "5        1     1            0     1           1   124      3       3\n",
            "13       1     1            1     3           0     5      3       3\n",
            "14       1     0            0     3           0   160      1       3\n",
            "15       0     0            0     1           0   215      1       3\n",
            "18       1     0            0     3           1   197      5       2\n",
            "\n",
            "... and same about dependent variable (Prices)\n",
            "    Prices\n",
            "5    54300\n",
            "13   64375\n",
            "14   38500\n",
            "15   18625\n",
            "18   53625\n",
            "\n",
            "CaseA:\n",
            "CaseB:\n"
          ]
        }
      ]
    },
    {
      "cell_type": "markdown",
      "metadata": {
        "id": "AsRAmewwoin1"
      },
      "source": [
        "### Question 3.4 (2 p)\n",
        " For each of the models on test sets calculate the following:\n",
        " \n",
        "       * r2-score\n",
        "       * RMSE\n",
        "       * MAE\n",
        "       * Coeffiecents\n",
        "       * Intercept"
      ]
    },
    {
      "cell_type": "code",
      "metadata": {
        "id": "OQvvggrloiV_",
        "colab": {
          "base_uri": "https://localhost:8080/"
        },
        "outputId": "76412810-28cf-4291-d359-a954da0bde01"
      },
      "source": [
        "\n",
        "print(\"********************************************************************************************************\")\n",
        "print(\"Case A:\")\n",
        "test_set_mae_caseA = median_absolute_error(ya_test, pred_a)\n",
        "test_set_rmse_caseA = (np.sqrt(mean_squared_error(ya_test, pred_a)))\n",
        "test_set_r2_caseA = r2_score(ya_test, pred_a)\n",
        "\n",
        "print(\"RMSE is: \", round(test_set_rmse_caseA, 4))\n",
        "print(\"MAE is: \", round(test_set_mae_caseA, 4))\n",
        "print(\"R2-Score is: \", round(test_set_r2_caseA, 6))\n",
        "\n",
        "for i in lin_reg_mod_a.coef_:\n",
        "    print('Coeffiecents are: ', end=' ')\n",
        "    for j in i:\n",
        "      print(round(j, 4), end='  /  ')\n",
        "print()\n",
        "for i in lin_reg_mod_a.intercept_:\n",
        "    print('Intercept is: ', round(i, 4),  end=' ')\n",
        "print()\n",
        "print(\"********************************************************************************************************\")\n",
        "\n",
        "print(\"Case B:\")\n",
        "\n",
        "test_set_mae_caseB = median_absolute_error(yb_test, pred_b)\n",
        "test_set_rmse_caseB = (np.sqrt(mean_squared_error(yb_test, pred_b)))\n",
        "test_set_r2_caseB = r2_score(yb_test, pred_b)\n",
        "\n",
        "print(\"RMSE is: \", round(test_set_rmse_caseB, 4))\n",
        "print(\"MAE is: \", round(test_set_mae_caseB, 4))\n",
        "print(\"R2-Score is: \", round(test_set_r2_caseB, 6))\n",
        "\n",
        "for i in lin_reg_mod_b.coef_:\n",
        "    print('Coeffiecents are: ', end=' ')\n",
        "    for j in i:\n",
        "      print(round(j, 4), end='  /  ')\n",
        "print()\n",
        "\n",
        "for i in lin_reg_mod_b.intercept_:\n",
        "    print('Intercept is: ', round(i, 4),  end=' ')\n",
        "print()\n",
        "print(\"********************************************************************************************************\")"
      ],
      "execution_count": 74,
      "outputs": [
        {
          "output_type": "stream",
          "name": "stdout",
          "text": [
            "********************************************************************************************************\n",
            "Case A:\n",
            "RMSE is:  2388.6399\n",
            "MAE is:  1965.5002\n",
            "R2-Score is:  0.961048\n",
            "Coeffiecents are:  15008.8494  /  11763.4748  /  11514.2003  /  3494.5406  /  4440.1735  /  24.9545  /  1247.4455  /  1511.3611  /  \n",
            "Intercept is:  5735.6514 \n",
            "********************************************************************************************************\n",
            "Case B:\n",
            "RMSE is:  2389.3516\n",
            "MAE is:  1973.9344\n",
            "R2-Score is:  0.960947\n",
            "Coeffiecents are:  15006.7417  /  11762.0661  /  11514.451  /  3496.1073  /  4449.1617  /  25.0094  /  1246.9141  /  1507.9839  /  \n",
            "Intercept is:  5731.6162 \n",
            "********************************************************************************************************\n"
          ]
        }
      ]
    },
    {
      "cell_type": "code",
      "metadata": {
        "colab": {
          "base_uri": "https://localhost:8080/"
        },
        "id": "k9HjyS7vl17w",
        "outputId": "d849efd3-b073-4b57-8609-5c7624c9df5c"
      },
      "source": [
        "print(\"IMPORTANT!\")\n",
        "print(\"For sure, our extra commitment needs some extra points...\")\n",
        "print(\"Our experience says, you will never get those points, if  you do not ask for it...\")\n",
        "print(\"We do believe, this time it will work! Thank you in advance!\")"
      ],
      "execution_count": 75,
      "outputs": [
        {
          "output_type": "stream",
          "name": "stdout",
          "text": [
            "IMPORTANT!\n",
            "For sure, our extra commitment needs some extra points...\n",
            "Our experience says, you will never get those points, if  you do not ask for it...\n",
            "We do believe, this time it will work! Thank you in advance!\n"
          ]
        }
      ]
    },
    {
      "cell_type": "markdown",
      "metadata": {
        "id": "TC-xtzJAKJfx"
      },
      "source": [
        "## How complicate the homework was (from 0 to 10)?"
      ]
    },
    {
      "cell_type": "markdown",
      "metadata": {
        "id": "tqoD98KDot2k"
      },
      "source": [
        "Answer: To be honest, if you try hard, work hardly on practice sessions, it is easy task. I would rate it as 5."
      ]
    },
    {
      "cell_type": "markdown",
      "metadata": {
        "id": "2Tz_KGTHKORT"
      },
      "source": [
        "## How many hours you spent for this homework?"
      ]
    },
    {
      "cell_type": "markdown",
      "metadata": {
        "id": "_PZhoabcovR1"
      },
      "source": [
        "Answer: With lecture and practice session all together about 6-7h"
      ]
    }
  ]
}