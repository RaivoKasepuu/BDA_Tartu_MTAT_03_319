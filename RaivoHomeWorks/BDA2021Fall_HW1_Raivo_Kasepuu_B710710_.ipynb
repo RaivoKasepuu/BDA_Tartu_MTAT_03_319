{
  "nbformat": 4,
  "nbformat_minor": 0,
  "metadata": {
    "kernelspec": {
      "display_name": "Python 3",
      "language": "python",
      "name": "python3"
    },
    "language_info": {
      "codemirror_mode": {
        "name": "ipython",
        "version": 3
      },
      "file_extension": ".py",
      "mimetype": "text/x-python",
      "name": "python",
      "nbconvert_exporter": "python",
      "pygments_lexer": "ipython3",
      "version": "3.6.9"
    },
    "colab": {
      "name": "Copy of Raivo_Kasepuu_B710710_BDA2021Fall_HW1.ipynb",
      "provenance": [],
      "collapsed_sections": [],
      "toc_visible": true
    }
  },
  "cells": [
    {
      "cell_type": "markdown",
      "metadata": {
        "id": "nUf4uLWjRYdc"
      },
      "source": [
        "\n",
        "<div class=\"alert alert-block alert-info\"><b></b>\n",
        "<h1><center> <font color='black'> Homework 01  </font></center></h1>\n",
        "<h2><center> <font color='black'> Data Exploration</font></center></h2>   \n",
        "<h2><center> <font color='black'> MTAT.03.319 - Business Data Analytics</font></center></h2>\n",
        "<h2><center> <font color='black'> University of Tartu - Fall 2021</font></center></h2>\n",
        "</div>"
      ]
    },
    {
      "cell_type": "markdown",
      "metadata": {
        "id": "7nvLzs_nRYdg"
      },
      "source": [
        "# Homework instructions\n",
        "\n",
        "- Please provide the names and student IDs of the team-members (Maximum 2 person) in the field \"Team mates\" below. If you are not working in a team please insert only your name and student ID. \n",
        "\n",
        "- The accepted submission formats are Colab links or .ipynb files. If you are submitting Colab links please make sure that the privacy settings for the file is public so we can access your code. \n",
        "\n",
        "- The submission will automatically close on <font color='red'>**22 September at 23:59**</font>, so please make sure to submit before the deadline. \n",
        "\n",
        "- ONLY one of the teammates should submit the homework. We will grade the homework and the marks and feedback is applied for both the team members. So please communicate with your team member about marks and feedback if you are submit the homework.\n",
        "\n",
        "- If a question is not clear, please ask us in Moodle ONLY. \n",
        "\n",
        "- After you have finished solving the Homework, please restart the Kernel and run all the cells to check if there is any persisting issues. \n",
        "\n",
        "- Plagiarism is <font color='red'>**PROHIBITED**</font>. Any form of plagiarism will be dealt according to the university policy (https://www.ut.ee/en/current-students/academic-fraud).\n",
        "\n",
        "- Please <font color='red'>do not change</font> the template of this notebook file. You can download the .ipynb file and work on that.\n"
      ]
    },
    {
      "cell_type": "markdown",
      "metadata": {
        "id": "omMJiKHQkcIq"
      },
      "source": [
        "**<h2><font color='red'>Team mates:</font></h2>**\n",
        "\n",
        "<font color='red'>Name: Raivo Kasepuu</font>&emsp;   <font color='red'>Student ID: B710710</font>\n",
        "\n",
        "\n",
        "<font color='red'>Name: </font>&emsp;   <font color='red'>Student ID: </font>\n",
        "\n"
      ]
    },
    {
      "cell_type": "markdown",
      "metadata": {
        "id": "l-B0gUmVRYdi"
      },
      "source": [
        "## Exercise"
      ]
    },
    {
      "cell_type": "markdown",
      "metadata": {
        "id": "DCIXQjzARYdk"
      },
      "source": [
        "We will start by loading the dataset. You can either upload it manually to your google colab or load from the link as it is done below:"
      ]
    },
    {
      "cell_type": "code",
      "metadata": {
        "id": "7vAvZxp4RYdn"
      },
      "source": [
        "import pandas as pd\n",
        "\n",
        "df = pd.read_csv(\"https://courses.cs.ut.ee/MTAT.03.319/2017_fall/uploads/Main/intro_dataset\", sep=\",\")\n"
      ],
      "execution_count": 2,
      "outputs": []
    },
    {
      "cell_type": "markdown",
      "metadata": {
        "id": "NdNBRPfeVuOf"
      },
      "source": [
        "## Dataset description"
      ]
    },
    {
      "cell_type": "markdown",
      "metadata": {
        "id": "oUqK2__FV0N9"
      },
      "source": [
        "The dataset contains the sales figures (*p1sales* and *p2sales*) of products (*p1* and *p2*) from various stores (*storeNum*) situated across different countries (*country*) over different weeks (*Week*) and years (*Year*). In addition, we also know if these sales numbers and the product prices (*p1price* and *p2price*) were during a promotional campaign (*p1prom* and *p2prom*: 0 means no promotional campaign and 1 means during a promotional campaign)."
      ]
    },
    {
      "cell_type": "code",
      "metadata": {
        "colab": {
          "base_uri": "https://localhost:8080/",
          "height": 419
        },
        "id": "4txTbhjzSRhL",
        "outputId": "d747a979-2abb-4b7f-e59f-0fd3f6f43a91"
      },
      "source": [
        "df"
      ],
      "execution_count": 3,
      "outputs": [
        {
          "output_type": "execute_result",
          "data": {
            "text/html": [
              "<div>\n",
              "<style scoped>\n",
              "    .dataframe tbody tr th:only-of-type {\n",
              "        vertical-align: middle;\n",
              "    }\n",
              "\n",
              "    .dataframe tbody tr th {\n",
              "        vertical-align: top;\n",
              "    }\n",
              "\n",
              "    .dataframe thead th {\n",
              "        text-align: right;\n",
              "    }\n",
              "</style>\n",
              "<table border=\"1\" class=\"dataframe\">\n",
              "  <thead>\n",
              "    <tr style=\"text-align: right;\">\n",
              "      <th></th>\n",
              "      <th>storeNum</th>\n",
              "      <th>Year</th>\n",
              "      <th>Week</th>\n",
              "      <th>p1sales</th>\n",
              "      <th>p2sales</th>\n",
              "      <th>p1price</th>\n",
              "      <th>p2price</th>\n",
              "      <th>p1prom</th>\n",
              "      <th>p2prom</th>\n",
              "      <th>country</th>\n",
              "    </tr>\n",
              "  </thead>\n",
              "  <tbody>\n",
              "    <tr>\n",
              "      <th>0</th>\n",
              "      <td>101</td>\n",
              "      <td>1</td>\n",
              "      <td>1</td>\n",
              "      <td>127</td>\n",
              "      <td>106</td>\n",
              "      <td>2.29</td>\n",
              "      <td>2.29</td>\n",
              "      <td>0</td>\n",
              "      <td>0</td>\n",
              "      <td>US</td>\n",
              "    </tr>\n",
              "    <tr>\n",
              "      <th>1</th>\n",
              "      <td>101</td>\n",
              "      <td>1</td>\n",
              "      <td>2</td>\n",
              "      <td>137</td>\n",
              "      <td>105</td>\n",
              "      <td>2.49</td>\n",
              "      <td>2.49</td>\n",
              "      <td>0</td>\n",
              "      <td>0</td>\n",
              "      <td>US</td>\n",
              "    </tr>\n",
              "    <tr>\n",
              "      <th>2</th>\n",
              "      <td>101</td>\n",
              "      <td>1</td>\n",
              "      <td>3</td>\n",
              "      <td>156</td>\n",
              "      <td>97</td>\n",
              "      <td>2.99</td>\n",
              "      <td>2.99</td>\n",
              "      <td>1</td>\n",
              "      <td>0</td>\n",
              "      <td>US</td>\n",
              "    </tr>\n",
              "    <tr>\n",
              "      <th>3</th>\n",
              "      <td>101</td>\n",
              "      <td>1</td>\n",
              "      <td>4</td>\n",
              "      <td>117</td>\n",
              "      <td>106</td>\n",
              "      <td>2.99</td>\n",
              "      <td>3.19</td>\n",
              "      <td>0</td>\n",
              "      <td>0</td>\n",
              "      <td>US</td>\n",
              "    </tr>\n",
              "    <tr>\n",
              "      <th>4</th>\n",
              "      <td>101</td>\n",
              "      <td>1</td>\n",
              "      <td>5</td>\n",
              "      <td>138</td>\n",
              "      <td>100</td>\n",
              "      <td>2.49</td>\n",
              "      <td>2.59</td>\n",
              "      <td>0</td>\n",
              "      <td>1</td>\n",
              "      <td>US</td>\n",
              "    </tr>\n",
              "    <tr>\n",
              "      <th>...</th>\n",
              "      <td>...</td>\n",
              "      <td>...</td>\n",
              "      <td>...</td>\n",
              "      <td>...</td>\n",
              "      <td>...</td>\n",
              "      <td>...</td>\n",
              "      <td>...</td>\n",
              "      <td>...</td>\n",
              "      <td>...</td>\n",
              "      <td>...</td>\n",
              "    </tr>\n",
              "    <tr>\n",
              "      <th>2075</th>\n",
              "      <td>120</td>\n",
              "      <td>2</td>\n",
              "      <td>48</td>\n",
              "      <td>150</td>\n",
              "      <td>88</td>\n",
              "      <td>2.49</td>\n",
              "      <td>2.99</td>\n",
              "      <td>0</td>\n",
              "      <td>0</td>\n",
              "      <td>CN</td>\n",
              "    </tr>\n",
              "    <tr>\n",
              "      <th>2076</th>\n",
              "      <td>120</td>\n",
              "      <td>2</td>\n",
              "      <td>49</td>\n",
              "      <td>121</td>\n",
              "      <td>97</td>\n",
              "      <td>2.49</td>\n",
              "      <td>2.59</td>\n",
              "      <td>0</td>\n",
              "      <td>0</td>\n",
              "      <td>CN</td>\n",
              "    </tr>\n",
              "    <tr>\n",
              "      <th>2077</th>\n",
              "      <td>120</td>\n",
              "      <td>2</td>\n",
              "      <td>50</td>\n",
              "      <td>91</td>\n",
              "      <td>124</td>\n",
              "      <td>2.99</td>\n",
              "      <td>2.29</td>\n",
              "      <td>0</td>\n",
              "      <td>0</td>\n",
              "      <td>CN</td>\n",
              "    </tr>\n",
              "    <tr>\n",
              "      <th>2078</th>\n",
              "      <td>120</td>\n",
              "      <td>2</td>\n",
              "      <td>51</td>\n",
              "      <td>83</td>\n",
              "      <td>115</td>\n",
              "      <td>2.99</td>\n",
              "      <td>2.29</td>\n",
              "      <td>0</td>\n",
              "      <td>0</td>\n",
              "      <td>CN</td>\n",
              "    </tr>\n",
              "    <tr>\n",
              "      <th>2079</th>\n",
              "      <td>120</td>\n",
              "      <td>2</td>\n",
              "      <td>52</td>\n",
              "      <td>136</td>\n",
              "      <td>99</td>\n",
              "      <td>2.49</td>\n",
              "      <td>2.49</td>\n",
              "      <td>0</td>\n",
              "      <td>0</td>\n",
              "      <td>CN</td>\n",
              "    </tr>\n",
              "  </tbody>\n",
              "</table>\n",
              "<p>2080 rows × 10 columns</p>\n",
              "</div>"
            ],
            "text/plain": [
              "      storeNum  Year  Week  p1sales  ...  p2price  p1prom  p2prom  country\n",
              "0          101     1     1      127  ...     2.29       0       0       US\n",
              "1          101     1     2      137  ...     2.49       0       0       US\n",
              "2          101     1     3      156  ...     2.99       1       0       US\n",
              "3          101     1     4      117  ...     3.19       0       0       US\n",
              "4          101     1     5      138  ...     2.59       0       1       US\n",
              "...        ...   ...   ...      ...  ...      ...     ...     ...      ...\n",
              "2075       120     2    48      150  ...     2.99       0       0       CN\n",
              "2076       120     2    49      121  ...     2.59       0       0       CN\n",
              "2077       120     2    50       91  ...     2.29       0       0       CN\n",
              "2078       120     2    51       83  ...     2.29       0       0       CN\n",
              "2079       120     2    52      136  ...     2.49       0       0       CN\n",
              "\n",
              "[2080 rows x 10 columns]"
            ]
          },
          "metadata": {},
          "execution_count": 3
        }
      ]
    },
    {
      "cell_type": "markdown",
      "metadata": {
        "id": "cUiaavDwRYd2"
      },
      "source": [
        "## Question 1 (0.5p)"
      ]
    },
    {
      "cell_type": "markdown",
      "metadata": {
        "id": "BuY52HG7RYd4"
      },
      "source": [
        "What are the column names of the dataset?"
      ]
    },
    {
      "cell_type": "code",
      "metadata": {
        "colab": {
          "base_uri": "https://localhost:8080/"
        },
        "id": "oFj0GAv24bdC",
        "outputId": "f265f495-430d-46af-c52b-1d33de5e7173"
      },
      "source": [
        "print(\"Q1 answer. Column names in dataset are:\")\n",
        "for columns in df.columns:\n",
        "  print(columns)"
      ],
      "execution_count": 4,
      "outputs": [
        {
          "output_type": "stream",
          "name": "stdout",
          "text": [
            "Q1 answer. Column names in dataset are:\n",
            "storeNum\n",
            "Year\n",
            "Week\n",
            "p1sales\n",
            "p2sales\n",
            "p1price\n",
            "p2price\n",
            "p1prom\n",
            "p2prom\n",
            "country\n"
          ]
        }
      ]
    },
    {
      "cell_type": "markdown",
      "metadata": {
        "id": "6dZ1_JeVRYd_"
      },
      "source": [
        "## Question 2 (0.5p)"
      ]
    },
    {
      "cell_type": "markdown",
      "metadata": {
        "id": "z02q-4xWRYeB"
      },
      "source": [
        "How many observations (i.e. rows) are in this data frame?"
      ]
    },
    {
      "cell_type": "code",
      "metadata": {
        "colab": {
          "base_uri": "https://localhost:8080/"
        },
        "id": "h2eNf6Ij55VP",
        "outputId": "3b8d1d6a-0275-4b87-a410-6fea6d9cba06"
      },
      "source": [
        "print(\"Q2 answer. Dataframe has \" + str(df.shape[0]) + \" rows\" )"
      ],
      "execution_count": 5,
      "outputs": [
        {
          "output_type": "stream",
          "name": "stdout",
          "text": [
            "Q2 answer. Dataframe has 2080 rows\n"
          ]
        }
      ]
    },
    {
      "cell_type": "markdown",
      "metadata": {
        "id": "ggY2Z2xDRYeH"
      },
      "source": [
        "## Question 3 (1p)"
      ]
    },
    {
      "cell_type": "markdown",
      "metadata": {
        "id": "yk-d3TNdRYeI"
      },
      "source": [
        "Print the first 3 lines from the dataset. Which countries are printed?"
      ]
    },
    {
      "cell_type": "code",
      "metadata": {
        "colab": {
          "base_uri": "https://localhost:8080/"
        },
        "id": "yQSfEhp862c5",
        "outputId": "6a7853ae-b8a0-4234-fbdb-f117379149b4"
      },
      "source": [
        "print(\"Q3 answer. First 3 lines from dataset are: \" + str(df.head(3)))\n",
        "print()\n",
        "print(\"Countries in first 3 lines are: \")\n",
        "print(df.head(3)['country'])"
      ],
      "execution_count": 6,
      "outputs": [
        {
          "output_type": "stream",
          "name": "stdout",
          "text": [
            "Q3 answer. First 3 lines from dataset are:    storeNum  Year  Week  p1sales  ...  p2price  p1prom  p2prom  country\n",
            "0       101     1     1      127  ...     2.29       0       0       US\n",
            "1       101     1     2      137  ...     2.49       0       0       US\n",
            "2       101     1     3      156  ...     2.99       1       0       US\n",
            "\n",
            "[3 rows x 10 columns]\n",
            "\n",
            "Countries in first 3 lines are: \n",
            "0    US\n",
            "1    US\n",
            "2    US\n",
            "Name: country, dtype: object\n"
          ]
        }
      ]
    },
    {
      "cell_type": "markdown",
      "metadata": {
        "id": "U6JoKwOcRYeP"
      },
      "source": [
        "## Question 4 (1p)"
      ]
    },
    {
      "cell_type": "markdown",
      "metadata": {
        "id": "pdNfkBUjRYeQ"
      },
      "source": [
        "Extract the last 3 rows of the data frame. What is the p1price of all these results?"
      ]
    },
    {
      "cell_type": "code",
      "metadata": {
        "colab": {
          "base_uri": "https://localhost:8080/"
        },
        "id": "xLnKK3mT9vlN",
        "outputId": "ea46c3d8-0e99-4d8d-b600-9ee324b5f0b8"
      },
      "source": [
        "print(\"Q4 answer. Last 3 rows of the data frame are:\")\n",
        "last_3= df.tail(3)\n",
        "print(last_3)\n",
        "print()\n",
        "p1price = last_3['p1price']\n",
        "print(\"p1price in last 3 lines are:\")\n",
        "print(p1price)"
      ],
      "execution_count": 7,
      "outputs": [
        {
          "output_type": "stream",
          "name": "stdout",
          "text": [
            "Q4 answer. Last 3 rows of the data frame are:\n",
            "      storeNum  Year  Week  p1sales  ...  p2price  p1prom  p2prom  country\n",
            "2077       120     2    50       91  ...     2.29       0       0       CN\n",
            "2078       120     2    51       83  ...     2.29       0       0       CN\n",
            "2079       120     2    52      136  ...     2.49       0       0       CN\n",
            "\n",
            "[3 rows x 10 columns]\n",
            "\n",
            "p1price in last 3 lines are:\n",
            "2077    2.99\n",
            "2078    2.99\n",
            "2079    2.49\n",
            "Name: p1price, dtype: float64\n"
          ]
        }
      ]
    },
    {
      "cell_type": "markdown",
      "metadata": {
        "id": "0N0yq73eRYeW"
      },
      "source": [
        "## Question 5 (1p)"
      ]
    },
    {
      "cell_type": "markdown",
      "metadata": {
        "id": "gQrmeVn9qzKt"
      },
      "source": [
        "Which country is in the row 20?"
      ]
    },
    {
      "cell_type": "code",
      "metadata": {
        "colab": {
          "base_uri": "https://localhost:8080/"
        },
        "id": "A9xyj-S8-lcn",
        "outputId": "5b2f50ee-741c-4290-bd24-f6e7d525c49b"
      },
      "source": [
        "print(\"It depends, what do you mean under row20:\")\n",
        "print(\"Q5 answer 1. Country in the 20th row is: \" + str(df.iloc[20 - 1]['country']))\n",
        "print(\"Q5 answer 2. Country in the row with id=20 is: \" + str(df.iloc[20]['country']))"
      ],
      "execution_count": 8,
      "outputs": [
        {
          "output_type": "stream",
          "name": "stdout",
          "text": [
            "It depends, what do you mean under row20:\n",
            "Q5 answer 1. Country in the 20th row is: US\n",
            "Q5 answer 2. Country in the row with id=20 is: US\n"
          ]
        }
      ]
    },
    {
      "cell_type": "markdown",
      "metadata": {
        "id": "KMtHtCfFRYee"
      },
      "source": [
        "## Question 6 (1p)"
      ]
    },
    {
      "cell_type": "markdown",
      "metadata": {
        "id": "dt4jn3nYRYeg"
      },
      "source": [
        "What is the mean of the p1price column?"
      ]
    },
    {
      "cell_type": "code",
      "metadata": {
        "colab": {
          "base_uri": "https://localhost:8080/"
        },
        "id": "1CaGsZZ0_cM-",
        "outputId": "1def35e1-7aae-4147-b37c-6c9930d5ac5a"
      },
      "source": [
        "print(\"Q6 answer. p1price column mean value is: \" + str(df['p1price'].mean()))"
      ],
      "execution_count": 9,
      "outputs": [
        {
          "output_type": "stream",
          "name": "stdout",
          "text": [
            "Q6 answer. p1price column mean value is: 2.544374999999926\n"
          ]
        }
      ]
    },
    {
      "cell_type": "markdown",
      "metadata": {
        "id": "EJWZbImHRYek"
      },
      "source": [
        "## Question 7 (1p)"
      ]
    },
    {
      "cell_type": "markdown",
      "metadata": {
        "id": "YhlVmr3KRYel"
      },
      "source": [
        "Extract the subset of rows of the data frame where storeNum is 101 and p1sales values are below 110. What is the mean of p1price in this subset?"
      ]
    },
    {
      "cell_type": "code",
      "metadata": {
        "colab": {
          "base_uri": "https://localhost:8080/"
        },
        "id": "DWzt2y6lAoJs",
        "outputId": "ad482ddc-7027-4679-8240-e765c11ecc35"
      },
      "source": [
        "\n",
        "print(\"Q7 answer. The subset:\")\n",
        "Q7_subset = df[(df['storeNum'] == 101) & (df['p1sales'] < 110)]\n",
        "print(Q7_subset)\n",
        "print()\n",
        "print(\"Q7 subset p1price mean value is: \" + str(Q7_subset['p1price'].mean()))\n"
      ],
      "execution_count": 10,
      "outputs": [
        {
          "output_type": "stream",
          "name": "stdout",
          "text": [
            "Q7 answer. The subset:\n",
            "     storeNum  Year  Week  p1sales  ...  p2price  p1prom  p2prom  country\n",
            "7         101     1     8      106  ...     2.29       0       0       US\n",
            "12        101     1    13      107  ...     2.59       0       0       US\n",
            "14        101     1    15      103  ...     2.59       0       0       US\n",
            "15        101     1    16      101  ...     2.29       0       0       US\n",
            "16        101     1    17       97  ...     2.59       0       1       US\n",
            "18        101     1    19      104  ...     2.59       0       0       US\n",
            "20        101     1    21      100  ...     2.49       0       0       US\n",
            "22        101     1    23      103  ...     2.49       0       0       US\n",
            "25        101     1    26       93  ...     2.59       0       0       US\n",
            "40        101     1    41       95  ...     2.29       0       0       US\n",
            "43        101     1    44       89  ...     2.29       0       0       US\n",
            "58        101     2     7       99  ...     2.99       0       0       US\n",
            "64        101     2    13      104  ...     2.59       0       0       US\n",
            "78        101     2    27       78  ...     2.29       0       0       US\n",
            "79        101     2    28      102  ...     2.99       0       0       US\n",
            "83        101     2    32      108  ...     2.29       0       1       US\n",
            "84        101     2    33       99  ...     2.49       0       0       US\n",
            "88        101     2    37      107  ...     2.99       0       0       US\n",
            "94        101     2    43      100  ...     2.49       0       1       US\n",
            "100       101     2    49      103  ...     2.29       0       0       US\n",
            "\n",
            "[20 rows x 10 columns]\n",
            "\n",
            "Q7 subset p1price mean value is: 2.830000000000001\n"
          ]
        }
      ]
    },
    {
      "cell_type": "code",
      "metadata": {
        "id": "17Wdigo4BUy_"
      },
      "source": [
        ""
      ],
      "execution_count": null,
      "outputs": []
    },
    {
      "cell_type": "markdown",
      "metadata": {
        "id": "6zmK_PLqRYeq"
      },
      "source": [
        "## Question 8 (1p)"
      ]
    },
    {
      "cell_type": "markdown",
      "metadata": {
        "id": "i4lhOrc5RYer"
      },
      "source": [
        "What is the minimum p2price for the week number 12 of the first year?"
      ]
    },
    {
      "cell_type": "code",
      "metadata": {
        "colab": {
          "base_uri": "https://localhost:8080/"
        },
        "id": "N8MFULKqBKHr",
        "outputId": "f270b756-a9e6-4bd3-d4d8-1b9d30e90ab7"
      },
      "source": [
        "print(\"Q8 answer. Minimum p2price for the week number 12 of the first year is: \" + str(df[(df['Week'] == 12) & (df['Year'] == 1)].min()['p2price']))"
      ],
      "execution_count": 11,
      "outputs": [
        {
          "output_type": "stream",
          "name": "stdout",
          "text": [
            "Q8 answer. Minimum p2price for the week number 12 of the first year is: 2.29\n"
          ]
        }
      ]
    },
    {
      "cell_type": "markdown",
      "metadata": {
        "id": "pGyc4yhDRYex"
      },
      "source": [
        "## Question 9 (1p)"
      ]
    },
    {
      "cell_type": "markdown",
      "metadata": {
        "id": "1Hww-i1mRYe1"
      },
      "source": [
        "How many unique stores are in the dataset (represented by storeNum)"
      ]
    },
    {
      "cell_type": "code",
      "metadata": {
        "id": "9n8VHBzPBZbr",
        "colab": {
          "base_uri": "https://localhost:8080/"
        },
        "outputId": "4c290ebd-3a8c-46dc-9f3a-f9abf8ccc7d5"
      },
      "source": [
        "print(\"Q9 answer. Number of uniques stores in the dataset is: \" + str(df['storeNum'].nunique()))"
      ],
      "execution_count": 12,
      "outputs": [
        {
          "output_type": "stream",
          "name": "stdout",
          "text": [
            "Q9 answer. Number of uniques stores in the dataset is: 20\n"
          ]
        }
      ]
    },
    {
      "cell_type": "markdown",
      "metadata": {
        "id": "Zm4a5i2RRYe4"
      },
      "source": [
        "## Question 10 (2p)"
      ]
    },
    {
      "cell_type": "markdown",
      "metadata": {
        "id": "YiFxPiC9RYe6"
      },
      "source": [
        "What store has the largest profit value. Use the p1sales and p1price columns to calculate the profit."
      ]
    },
    {
      "cell_type": "code",
      "metadata": {
        "id": "zUMD66gHBn3Z",
        "colab": {
          "base_uri": "https://localhost:8080/"
        },
        "outputId": "76afea3e-9609-4834-89ca-1c647a6e4fbf"
      },
      "source": [
        "print(\"Q10 answer. As much as I know, profit = turnover - costs.\")\n",
        "print(\"There is no data about costs in this dataframe, I cannot calculate profit.\")\n",
        "print()\n",
        "print(\"But I can find largest turnover based on p1sales and p1price:\")\n",
        "print(\"StoreNum with largest p1 turnover: \" + str(df.assign(sum=df['p1sales'] * df['p1price']).groupby(['storeNum']).sum().sort_values('sum', ascending=False).head(1).index.tolist()[0]))"
      ],
      "execution_count": 13,
      "outputs": [
        {
          "output_type": "stream",
          "name": "stdout",
          "text": [
            "Q10 answer. As much as I know, profit = turnover - costs.\n",
            "There is no data about costs in this dataframe, I cannot calculate profit.\n",
            "\n",
            "But I can find largest turnover based on p1sales and p1price:\n",
            "StoreNum with largest p1 turnover: 118\n"
          ]
        }
      ]
    },
    {
      "cell_type": "markdown",
      "metadata": {
        "id": "zKQhcuXTeaDc"
      },
      "source": [
        ""
      ]
    }
  ]
}