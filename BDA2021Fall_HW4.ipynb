{
  "nbformat": 4,
  "nbformat_minor": 0,
  "metadata": {
    "kernelspec": {
      "display_name": "Python 3",
      "language": "python",
      "name": "python3"
    },
    "language_info": {
      "codemirror_mode": {
        "name": "ipython",
        "version": 3
      },
      "file_extension": ".py",
      "mimetype": "text/x-python",
      "name": "python",
      "nbconvert_exporter": "python",
      "pygments_lexer": "ipython3",
      "version": "3.7.3"
    },
    "colab": {
      "name": "BDA2021Fall_HW4.ipynb",
      "provenance": [],
      "collapsed_sections": [],
      "include_colab_link": true
    }
  },
  "cells": [
    {
      "cell_type": "markdown",
      "metadata": {
        "id": "view-in-github",
        "colab_type": "text"
      },
      "source": [
        "<a href=\"https://colab.research.google.com/github/RaivoKasepuu/BDA_Tartu_MTAT_03_319/blob/master/BDA2021Fall_HW4.ipynb\" target=\"_parent\"><img src=\"https://colab.research.google.com/assets/colab-badge.svg\" alt=\"Open In Colab\"/></a>"
      ]
    },
    {
      "cell_type": "markdown",
      "metadata": {
        "id": "zliKEQsWGB43"
      },
      "source": [
        "\n",
        "<div class=\"alert alert-block alert-info\"><b></b>\n",
        "<h1><center> <font color='black'> Homework 04  </font></center></h1>\n",
        "<h2><center> <font color='black'> Customer lifecycle management - regression </font></center></h2>   \n",
        "<h2><center> <font color='black'> MTAT.03.319 - Business Data Analytics</font></center></h2>\n",
        "<h2><center> <font color='black'> University of Tartu - Fall 2021</font></center></h2>\n",
        "</div>"
      ]
    },
    {
      "cell_type": "markdown",
      "metadata": {
        "id": "UapmpHUqGQl6"
      },
      "source": [
        "# Homework instructions\n",
        "- Please name your homeworks in the following format BDAFall2021_HWX_Name_Surname.ipynb then it will be easier to grade your homeworks and smaller possibility for a human mistake.\n",
        "- Please provide the names and student IDs of the team-members (Maximum 2 person) in the field \"Team mates\" below. If you are not working in a team please insert only your name and student ID. \n",
        "\n",
        "- The accepted submission formats are Colab links or .ipynb files. If you are submitting Colab links please make sure that the privacy settings for the file is public so we can access your code. \n",
        "\n",
        "- The submission will automatically close on <font color='red'>**3 November at 23:59**</font>, so please make sure to submit before the deadline. \n",
        "\n",
        "- ONLY one of the teammates should submit the homework. We will grade the homework and the marks and feedback is applied for both the team members. So please communicate with your team member about marks and feedback if you are submit the homework.\n",
        "\n",
        "- If a question is not clear, please ask us in Moodle ONLY. \n",
        "\n",
        "- For coding related questions, do submit your code as well as your explanation/answer.\n",
        "\n",
        "- After you have finished solving the Homework, please restart the Kernel and run all the cells to check if there is any persisting issues. \n",
        "\n",
        "- Plagiarism is <font color='red'>**PROHIBITED**</font>. Any form of plagiarism will be dealt according to the university policy (https://www.ut.ee/en/current-students/academic-fraud).\n",
        "\n",
        "- Please <font color='red'>do not change</font> the template of this notebook file. You can download the .ipynb file and work on that."
      ]
    },
    {
      "cell_type": "markdown",
      "metadata": {
        "id": "sH1wQYpilvIQ"
      },
      "source": [
        "**<h2><font color='red'>Team mates:</font></h2>**\n",
        "\n",
        "\n",
        "<font color='red'>Name: </font>&emsp;   <font color='red'>Student ID: </font>\n",
        "\n",
        "\n",
        "<font color='red'>Name: </font>&emsp;   <font color='red'>Student ID: </font>"
      ]
    },
    {
      "cell_type": "markdown",
      "metadata": {
        "id": "89pLNJIPppaq"
      },
      "source": [
        "## Question 1  (3 points in total)  \n",
        "Use lab_04_clv_transactions.csv dataset for the following questions:"
      ]
    },
    {
      "cell_type": "markdown",
      "metadata": {
        "id": "doTXiFEMl1Hl"
      },
      "source": [
        "### Question 1.1 (0.5 p)\n",
        "Sample 15 customers from the dataset and plot their timespan to understand the data better. "
      ]
    },
    {
      "cell_type": "code",
      "metadata": {
        "id": "qQZiQOcLmN8_"
      },
      "source": [
        ""
      ],
      "execution_count": null,
      "outputs": []
    },
    {
      "cell_type": "markdown",
      "metadata": {
        "id": "izJSLFG9mGQN"
      },
      "source": [
        "### Question 1.2 (1 p)\n",
        "Define active and new customers as we did in the practice session using the original dataset (not the sampled one which you get in Q1.1)."
      ]
    },
    {
      "cell_type": "code",
      "metadata": {
        "id": "o_pk4oc1mlMu"
      },
      "source": [
        ""
      ],
      "execution_count": null,
      "outputs": []
    },
    {
      "cell_type": "markdown",
      "metadata": {
        "id": "P0-TUgn3mlgG"
      },
      "source": [
        "### Question 1.3 (1.5 p)"
      ]
    },
    {
      "cell_type": "markdown",
      "metadata": {
        "id": "2sUXLMjUIQYQ"
      },
      "source": [
        "\n",
        "\n",
        "Using active and new customers defined in Q1.2 compute the following:\n",
        "\n",
        "* customer retention rate $=$ $\\frac{active\\_customers}{new\\_ customers}$ \n",
        "\n",
        "\n",
        "* transactions per customer $=$ $\\frac{transactions}{active\\_customers}$\n",
        "\n",
        "\n",
        "* amount per transaction $=$ $\\frac{amount}{transactions}$"
      ]
    },
    {
      "cell_type": "code",
      "metadata": {
        "id": "uqwRYiBOm0KU"
      },
      "source": [
        ""
      ],
      "execution_count": null,
      "outputs": []
    },
    {
      "cell_type": "markdown",
      "metadata": {
        "id": "07Ic-T7oppbA"
      },
      "source": [
        "## Question 2   (2 points in total)\n",
        "\n"
      ]
    },
    {
      "cell_type": "markdown",
      "metadata": {
        "id": "D0GQr7EDm9nz"
      },
      "source": [
        "### Question 2.1 (0.5 p)\n",
        "Calculate the historical CLV using active customers and new customers found in Q1."
      ]
    },
    {
      "cell_type": "code",
      "metadata": {
        "id": "V1zSoNynnMdx"
      },
      "source": [
        ""
      ],
      "execution_count": null,
      "outputs": []
    },
    {
      "cell_type": "markdown",
      "metadata": {
        "id": "MznWnDBsnDIM"
      },
      "source": [
        "### Question 2.2 (0.5 p)\n",
        "Plot the historical CLV (x-axis: Month active, y-axis: HistoricalCLV)"
      ]
    },
    {
      "cell_type": "code",
      "metadata": {
        "id": "8oyZdCRfnR2-"
      },
      "source": [
        ""
      ],
      "execution_count": null,
      "outputs": []
    },
    {
      "cell_type": "markdown",
      "metadata": {
        "id": "5241ALSFnF2F"
      },
      "source": [
        "### Question 2.3 (1 p)"
      ]
    },
    {
      "cell_type": "markdown",
      "metadata": {
        "id": "UN1obzvOnSe9"
      },
      "source": [
        " Build simple linear regression model to predict future data (similar to as we did during the lab session). Write the Model coefficient (a), intercept(b), and X(feature) in the form: \n",
        "    \n",
        "                          CLV = aX + b"
      ]
    },
    {
      "cell_type": "code",
      "metadata": {
        "id": "1mlnKdQQnpue"
      },
      "source": [
        ""
      ],
      "execution_count": null,
      "outputs": []
    },
    {
      "cell_type": "markdown",
      "metadata": {
        "id": "GbCLq4WKppbP"
      },
      "source": [
        "## Question 3  (5 points in total)\n",
        "\n",
        "In this task you will be asked to use Multiple Linear regression algorithm to predict house prices using “HousePrices.csv” dataset. \n",
        "\n",
        "\"HousePrices.csv” contains information about prices for different types of houses. There is no need to clean the data, it is already cleaned. The dataset has the following columns:\n",
        "1. Area - size of the house in square meters.\n",
        "2. Garage - number of parking slots in the garage.\n",
        "3. FirePlace - number of fireplaces in the house.\n",
        "4. Baths - number of baths in the house.\n",
        "5. White Marble - whether white marble is used as a material of the kitchen.\n",
        "6. Black Marble - whether black marble is used as a material of the kitchen.\n",
        "7. Indian Marble - whether indian marble is used as a material of the kitchen.\n",
        "8. Floors - number of floors.\n",
        "9. City - closeness to the city.\n",
        "10. Solar - whether house has a solar panel.\n",
        "11. Electric - whether the electricity is new or old.\n",
        "12. Fiber - whether the fiber of furniture is new or old.\n",
        "13. Glass Doors - whether the entrence doors are made of glass.\n",
        "14. Swimming Pool - whether the house has a swimming pool.\n",
        "15. Garden - whether the house has a garden.\n",
        "16. Prices - price of the house."
      ]
    },
    {
      "cell_type": "markdown",
      "metadata": {
        "id": "x0U81pkDoKjV"
      },
      "source": [
        "### Question 3.1 (0.5 p)\n",
        "Prepare dataset for prediction. Split data into:\n",
        "\n",
        "             Case A: 60% of train data & 40% test\n",
        "             Case B: 75% of train data & 25% test\n",
        "\n",
        "**NB! Please use random_state=42**"
      ]
    },
    {
      "cell_type": "code",
      "metadata": {
        "id": "orR2huSpoUms"
      },
      "source": [
        ""
      ],
      "execution_count": null,
      "outputs": []
    },
    {
      "cell_type": "markdown",
      "metadata": {
        "id": "h64HpJ-WoU28"
      },
      "source": [
        "### Question 3.2 (2.5 p)\n",
        "Build models using a subset of 8 features: 'Floors', 'Fiber', 'White Marble', 'City', 'Glass Doors', 'Area', 'Baths', 'Garage' for each of the cases specified above (Case A and Case B), and then predict on the test data. I.e., train two models - one is trained on Case A train set and tested on Case A test set, another is trained on Case B train set and tested on a Case B test set. "
      ]
    },
    {
      "cell_type": "code",
      "metadata": {
        "id": "IYET2UDnoaxU"
      },
      "source": [
        ""
      ],
      "execution_count": null,
      "outputs": []
    },
    {
      "cell_type": "markdown",
      "metadata": {
        "id": "AsRAmewwoin1"
      },
      "source": [
        "### Question 3.4 (2 p)\n",
        " For each of the models on test sets calculate the following:\n",
        " \n",
        "       * r2-score\n",
        "       * RMSE\n",
        "       * MAE\n",
        "       * Coeffiecents\n",
        "       * Intercept"
      ]
    },
    {
      "cell_type": "code",
      "metadata": {
        "id": "OQvvggrloiV_"
      },
      "source": [
        ""
      ],
      "execution_count": null,
      "outputs": []
    },
    {
      "cell_type": "markdown",
      "metadata": {
        "id": "TC-xtzJAKJfx"
      },
      "source": [
        "## How complicate the homework was (from 0 to 10)?"
      ]
    },
    {
      "cell_type": "markdown",
      "metadata": {
        "id": "tqoD98KDot2k"
      },
      "source": [
        "Answer:"
      ]
    },
    {
      "cell_type": "markdown",
      "metadata": {
        "id": "2Tz_KGTHKORT"
      },
      "source": [
        "## How many hours you spent for this homework?"
      ]
    },
    {
      "cell_type": "markdown",
      "metadata": {
        "id": "_PZhoabcovR1"
      },
      "source": [
        "Answer:"
      ]
    }
  ]
}